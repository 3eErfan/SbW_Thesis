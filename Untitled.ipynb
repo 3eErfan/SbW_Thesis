{
 "cells": [
  {
   "cell_type": "code",
   "execution_count": 108,
   "metadata": {},
   "outputs": [],
   "source": [
    "from sympy import *\n",
    "from IPython.display import display\n",
    "\n",
    "\n",
    "L1,L2,L3,d,D,m1,m2,mr,I1,I2 = symbols(\"l_1,l_2,l_3,d,D,m_1,m_2,m_r,I_1,I_2\")\n",
    "\n",
    "external_inputs_num = 3\n",
    "M1,M2,Fr = symbols(\"tau_1 tau_2 F_r\")\n",
    "\n",
    "constrain_Eq_num = 3\n",
    "lan1,lan2,lan3 = symbols(\"lambda_1 lambda_2 lambda_3\")\n",
    "\n",
    "\n",
    "# I1=m1*L1**2/3  #momet of Inertia of L1 about A\n",
    "# I2=m2*L2**2/12 #about G\n",
    "\n",
    "t = Symbol('t')\n",
    "\n",
    "x = Function(\"theta_1\")(t)\n",
    "y = Function(\"phi_1\")(t)\n",
    "z = Function(\"theta_2\")(t)\n",
    "w = Function(\"phi_2\")(t)\n"
   ]
  },
  {
   "cell_type": "code",
   "execution_count": 109,
   "metadata": {},
   "outputs": [
    {
     "data": {
      "text/latex": [
       "$\\displaystyle \\left[\\begin{matrix}- l_{1} \\sin{\\left(\\theta_{1}{\\left(t \\right)} \\right)} \\frac{d}{d t} \\theta_{1}{\\left(t \\right)} - \\frac{l_{2} \\sin{\\left(\\phi_{1}{\\left(t \\right)} \\right)} \\frac{d}{d t} \\phi_{1}{\\left(t \\right)}}{2}\\\\\\frac{l_{2} \\cos{\\left(\\phi_{1}{\\left(t \\right)} \\right)} \\frac{d}{d t} \\phi_{1}{\\left(t \\right)}}{2}\\end{matrix}\\right]$"
      ],
      "text/plain": [
       "Matrix([\n",
       "[-l_1*sin(theta_1(t))*Derivative(theta_1(t), t) - l_2*sin(phi_1(t))*Derivative(phi_1(t), t)/2],\n",
       "[                                                 l_2*cos(phi_1(t))*Derivative(phi_1(t), t)/2]])"
      ]
     },
     "metadata": {},
     "output_type": "display_data"
    },
    {
     "data": {
      "text/latex": [
       "$\\displaystyle \\left[\\begin{matrix}l_{1} \\sin{\\left(\\theta_{2}{\\left(t \\right)} \\right)} \\frac{d}{d t} \\theta_{2}{\\left(t \\right)} + \\frac{l_{2} \\sin{\\left(\\phi_{2}{\\left(t \\right)} \\right)} \\frac{d}{d t} \\phi_{2}{\\left(t \\right)}}{2}\\\\\\frac{l_{2} \\cos{\\left(\\phi_{2}{\\left(t \\right)} \\right)} \\frac{d}{d t} \\phi_{2}{\\left(t \\right)}}{2}\\end{matrix}\\right]$"
      ],
      "text/plain": [
       "Matrix([\n",
       "[l_1*sin(theta_2(t))*Derivative(theta_2(t), t) + l_2*sin(phi_2(t))*Derivative(phi_2(t), t)/2],\n",
       "[                                                l_2*cos(phi_2(t))*Derivative(phi_2(t), t)/2]])"
      ]
     },
     "metadata": {},
     "output_type": "display_data"
    },
    {
     "data": {
      "text/latex": [
       "$\\displaystyle \\left[\\begin{matrix}- l_{1} \\sin{\\left(\\theta_{1}{\\left(t \\right)} \\right)} \\frac{d}{d t} \\theta_{1}{\\left(t \\right)} - l_{2} \\sin{\\left(\\phi_{1}{\\left(t \\right)} \\right)} \\frac{d}{d t} \\phi_{1}{\\left(t \\right)}\\\\0\\end{matrix}\\right]$"
      ],
      "text/plain": [
       "Matrix([\n",
       "[-l_1*sin(theta_1(t))*Derivative(theta_1(t), t) - l_2*sin(phi_1(t))*Derivative(phi_1(t), t)],\n",
       "[                                                                                         0]])"
      ]
     },
     "metadata": {},
     "output_type": "display_data"
    }
   ],
   "source": [
    "\n",
    "r_G1A = Matrix([  L1*cos(x)+L2/2*cos(y)  , d+L2/2*sin(y)  ])\n",
    "r_G2B = Matrix([ -L1*cos(z)-L2/2*cos(w)  , d+L2/2*sin(w)  ])        \n",
    "r_RA  = Matrix([  L1*cos(x)+L2*cos(y)    , d              ])\n",
    "    \n",
    "V_G   = diff(r_G1A,t)\n",
    "V_G2  = diff(r_G2B,t)   \n",
    "V_C   = diff(r_RA,t)\n",
    "\n",
    "display(V_G)\n",
    "display(V_G2)\n",
    "display(V_C)"
   ]
  },
  {
   "cell_type": "code",
   "execution_count": 110,
   "metadata": {},
   "outputs": [],
   "source": [
    "T=(  I1*diff(x,t)**2    \\\n",
    "   + I2*diff(y,t)**2    \\\n",
    "   + m2*V_G.dot(V_G)    \\\n",
    "   + mr*V_C.dot(V_C)    \\\n",
    "   + I1*diff(z,t)**2    \\\n",
    "   + I2*diff(w,t)**2    \\\n",
    "   + m2*V_G2.dot(V_G2)  )/2"
   ]
  },
  {
   "cell_type": "code",
   "execution_count": 111,
   "metadata": {},
   "outputs": [],
   "source": [
    "\n",
    "Eq = Matrix( [diff(diff(T, diff(x, t)), t) - diff(T, x),\\\n",
    "              diff(diff(T, diff(y, t)), t) - diff(T, y),\\\n",
    "              diff(diff(T, diff(z, t)), t) - diff(T, z),\\\n",
    "              diff(diff(T, diff(w, t)), t) - diff(T, w)] )\n",
    "\n"
   ]
  },
  {
   "cell_type": "code",
   "execution_count": 112,
   "metadata": {},
   "outputs": [],
   "source": [
    "xd = Function(\"\\dot{\\\\theta}_1\")(t)\n",
    "yd = Function(\"\\dot{\\\\phi}_1\")(t)\n",
    "zd = Function(\"\\dot{\\\\theta}_2\")(t)\n",
    "wd = Function(\"\\dot{\\\\phi}_2\")(t)\n",
    "\n",
    "xdd = Function(\"\\ddot{\\\\theta}_1\")(t)\n",
    "ydd = Function(\"\\ddot{\\\\phi}_1\")(t)\n",
    "zdd = Function(\"\\ddot{\\\\theta}_2\")(t)\n",
    "wdd = Function(\"\\ddot{\\\\phi}_2\")(t)\n",
    "\n",
    "Eq = Eq.subs([  (diff(x,t,2), xdd),(diff(x,t,1), xd)\\\n",
    "               ,(diff(y,t,2), ydd),(diff(y,t,1), yd)\\\n",
    "               ,(diff(z,t,2), zdd),(diff(z,t,1), zd)\\\n",
    "               ,(diff(w,t,2), wdd),(diff(w,t,1), wd)    ])\n",
    "\n",
    "\n",
    "# Eq = simplify(Eq)"
   ]
  },
  {
   "cell_type": "code",
   "execution_count": 113,
   "metadata": {},
   "outputs": [
    {
     "data": {
      "text/latex": [
       "$\\displaystyle \\left[\\begin{matrix}I_{1} + l_{1}^{2} m_{2} \\sin^{2}{\\left(\\theta_{1}{\\left(t \\right)} \\right)} + l_{1}^{2} m_{r} \\sin^{2}{\\left(\\theta_{1}{\\left(t \\right)} \\right)} & \\frac{l_{1} l_{2} m_{2} \\sin{\\left(\\phi_{1}{\\left(t \\right)} \\right)} \\sin{\\left(\\theta_{1}{\\left(t \\right)} \\right)}}{2} + l_{1} l_{2} m_{r} \\sin{\\left(\\phi_{1}{\\left(t \\right)} \\right)} \\sin{\\left(\\theta_{1}{\\left(t \\right)} \\right)} & l_{1}^{2} m_{2} \\sin{\\left(\\theta_{1}{\\left(t \\right)} \\right)} \\cos{\\left(\\theta_{1}{\\left(t \\right)} \\right)} + l_{1}^{2} m_{r} \\sin{\\left(\\theta_{1}{\\left(t \\right)} \\right)} \\cos{\\left(\\theta_{1}{\\left(t \\right)} \\right)} & \\frac{l_{1} l_{2} m_{2} \\sin{\\left(\\theta_{1}{\\left(t \\right)} \\right)} \\cos{\\left(\\phi_{1}{\\left(t \\right)} \\right)}}{2} + l_{1} l_{2} m_{r} \\sin{\\left(\\theta_{1}{\\left(t \\right)} \\right)} \\cos{\\left(\\phi_{1}{\\left(t \\right)} \\right)} & 0 & 0 & 0 & 0\\\\\\frac{l_{1} l_{2} m_{2} \\sin{\\left(\\phi_{1}{\\left(t \\right)} \\right)} \\sin{\\left(\\theta_{1}{\\left(t \\right)} \\right)}}{2} + l_{1} l_{2} m_{r} \\sin{\\left(\\phi_{1}{\\left(t \\right)} \\right)} \\sin{\\left(\\theta_{1}{\\left(t \\right)} \\right)} & I_{2} + \\frac{l_{2}^{2} m_{2} \\sin^{2}{\\left(\\phi_{1}{\\left(t \\right)} \\right)}}{4} + \\frac{l_{2}^{2} m_{2} \\cos^{2}{\\left(\\phi_{1}{\\left(t \\right)} \\right)}}{4} + l_{2}^{2} m_{r} \\sin^{2}{\\left(\\phi_{1}{\\left(t \\right)} \\right)} & \\frac{l_{1} l_{2} m_{2} \\sin{\\left(\\phi_{1}{\\left(t \\right)} \\right)} \\cos{\\left(\\theta_{1}{\\left(t \\right)} \\right)}}{2} + l_{1} l_{2} m_{r} \\sin{\\left(\\phi_{1}{\\left(t \\right)} \\right)} \\cos{\\left(\\theta_{1}{\\left(t \\right)} \\right)} & l_{2}^{2} m_{r} \\sin{\\left(\\phi_{1}{\\left(t \\right)} \\right)} \\cos{\\left(\\phi_{1}{\\left(t \\right)} \\right)} & 0 & 0 & 0 & 0\\\\0 & 0 & 0 & 0 & I_{1} + l_{1}^{2} m_{2} \\sin^{2}{\\left(\\theta_{2}{\\left(t \\right)} \\right)} & \\frac{l_{1} l_{2} m_{2} \\sin{\\left(\\phi_{2}{\\left(t \\right)} \\right)} \\sin{\\left(\\theta_{2}{\\left(t \\right)} \\right)}}{2} & l_{1}^{2} m_{2} \\sin{\\left(\\theta_{2}{\\left(t \\right)} \\right)} \\cos{\\left(\\theta_{2}{\\left(t \\right)} \\right)} & \\frac{l_{1} l_{2} m_{2} \\sin{\\left(\\theta_{2}{\\left(t \\right)} \\right)} \\cos{\\left(\\phi_{2}{\\left(t \\right)} \\right)}}{2}\\\\0 & 0 & 0 & 0 & \\frac{l_{1} l_{2} m_{2} \\sin{\\left(\\phi_{2}{\\left(t \\right)} \\right)} \\sin{\\left(\\theta_{2}{\\left(t \\right)} \\right)}}{2} & I_{2} + \\frac{l_{2}^{2} m_{2} \\sin^{2}{\\left(\\phi_{2}{\\left(t \\right)} \\right)}}{4} + \\frac{l_{2}^{2} m_{2} \\cos^{2}{\\left(\\phi_{2}{\\left(t \\right)} \\right)}}{4} & \\frac{l_{1} l_{2} m_{2} \\sin{\\left(\\phi_{2}{\\left(t \\right)} \\right)} \\cos{\\left(\\theta_{2}{\\left(t \\right)} \\right)}}{2} & 0\\end{matrix}\\right]$"
      ],
      "text/plain": [
       "Matrix([\n",
       "[                    I_1 + l_1**2*m_2*sin(theta_1(t))**2 + l_1**2*m_r*sin(theta_1(t))**2,           l_1*l_2*m_2*sin(phi_1(t))*sin(theta_1(t))/2 + l_1*l_2*m_r*sin(phi_1(t))*sin(theta_1(t)), l_1**2*m_2*sin(theta_1(t))*cos(theta_1(t)) + l_1**2*m_r*sin(theta_1(t))*cos(theta_1(t)), l_1*l_2*m_2*sin(theta_1(t))*cos(phi_1(t))/2 + l_1*l_2*m_r*sin(theta_1(t))*cos(phi_1(t)),                                           0,                                                                   0,                                           0,                                           0],\n",
       "[l_1*l_2*m_2*sin(phi_1(t))*sin(theta_1(t))/2 + l_1*l_2*m_r*sin(phi_1(t))*sin(theta_1(t)), I_2 + l_2**2*m_2*sin(phi_1(t))**2/4 + l_2**2*m_2*cos(phi_1(t))**2/4 + l_2**2*m_r*sin(phi_1(t))**2, l_1*l_2*m_2*sin(phi_1(t))*cos(theta_1(t))/2 + l_1*l_2*m_r*sin(phi_1(t))*cos(theta_1(t)),                                                  l_2**2*m_r*sin(phi_1(t))*cos(phi_1(t)),                                           0,                                                                   0,                                           0,                                           0],\n",
       "[                                                                                      0,                                                                                                 0,                                                                                       0,                                                                                       0,         I_1 + l_1**2*m_2*sin(theta_2(t))**2,                         l_1*l_2*m_2*sin(phi_2(t))*sin(theta_2(t))/2,  l_1**2*m_2*sin(theta_2(t))*cos(theta_2(t)), l_1*l_2*m_2*sin(theta_2(t))*cos(phi_2(t))/2],\n",
       "[                                                                                      0,                                                                                                 0,                                                                                       0,                                                                                       0, l_1*l_2*m_2*sin(phi_2(t))*sin(theta_2(t))/2, I_2 + l_2**2*m_2*sin(phi_2(t))**2/4 + l_2**2*m_2*cos(phi_2(t))**2/4, l_1*l_2*m_2*sin(phi_2(t))*cos(theta_2(t))/2,                                           0]])"
      ]
     },
     "metadata": {},
     "output_type": "display_data"
    },
    {
     "data": {
      "text/latex": [
       "$\\displaystyle \\left[\\begin{matrix}\\ddot{\\theta}_1{\\left(t \\right)}\\\\\\ddot{\\phi}_1{\\left(t \\right)}\\\\\\dot{\\theta}_1^{2}{\\left(t \\right)}\\\\\\dot{\\phi}_1^{2}{\\left(t \\right)}\\\\\\ddot{\\theta}_2{\\left(t \\right)}\\\\\\ddot{\\phi}_2{\\left(t \\right)}\\\\\\dot{\\theta}_2^{2}{\\left(t \\right)}\\\\\\dot{\\phi}_2^{2}{\\left(t \\right)}\\end{matrix}\\right]$"
      ],
      "text/plain": [
       "Matrix([\n",
       "[  \\ddot{\\theta}_1(t)],\n",
       "[    \\ddot{\\phi}_1(t)],\n",
       "[\\dot{\\theta}_1(t)**2],\n",
       "[  \\dot{\\phi}_1(t)**2],\n",
       "[  \\ddot{\\theta}_2(t)],\n",
       "[    \\ddot{\\phi}_2(t)],\n",
       "[\\dot{\\theta}_2(t)**2],\n",
       "[  \\dot{\\phi}_2(t)**2]])"
      ]
     },
     "metadata": {},
     "output_type": "display_data"
    }
   ],
   "source": [
    "Eq = expand(Eq)\n",
    "\n",
    "Lside_factors = [xdd,ydd,xd**2,yd**2,zdd,wdd,zd**2,wd**2]\n",
    "\n",
    "Lside = zeros(4,8)\n",
    "\n",
    "\n",
    "for i,eq in enumerate(Eq):\n",
    "    A = collect(eq,Lside_factors,evaluate=False) \n",
    "    for j,f in enumerate(Lside_factors):\n",
    "        if f in A:\n",
    "            Lside[i,j] = A[f]\n",
    "\n",
    "Lside_factors = Matrix(Lside_factors)\n",
    "\n",
    "display(Lside)\n",
    "display(Lside_factors)"
   ]
  },
  {
   "cell_type": "code",
   "execution_count": 114,
   "metadata": {},
   "outputs": [],
   "source": [
    "# constrain Eq\n",
    "\n",
    "Const_Eq = Matrix([  -d - L2*sin(y) + L1*sin(x)\n",
    "                    ,-d - L2*sin(w) + L1*sin(z)\n",
    "                    ,L1*cos(x)+L2*cos(y)+L1*cos(z)+L2*cos(w)-D+L3])\n",
    "\n",
    "# display(CEq)\n",
    "\n",
    "CEq = diff(Const_Eq,t)\n",
    "\n",
    "CEq = CEq.subs([    (diff(x,t,1), xd)\\\n",
    "                   ,(diff(y,t,1), yd)\\\n",
    "                   ,(diff(z,t,1), zd)\\\n",
    "                   ,(diff(w,t,1), wd)    ])\n",
    "\n",
    "# display(CEq)\n",
    "\n",
    "Rside = zeros(4,3+external_inputs_num)\n",
    "\n",
    "factors = [xd,yd,zd,wd]\n",
    "\n",
    "for i,ceq in enumerate(CEq):\n",
    "    A = collect(ceq,factors,evaluate=False)\n",
    "    \n",
    "    for j,f in enumerate(factors):\n",
    "        if f in A:\n",
    "            Rside[j,i+external_inputs_num] = A[f]"
   ]
  },
  {
   "cell_type": "code",
   "execution_count": 115,
   "metadata": {},
   "outputs": [
    {
     "data": {
      "text/latex": [
       "$\\displaystyle \\left[\\begin{matrix}1 & 0 & - l_{1} \\sin{\\left(\\theta_{1}{\\left(t \\right)} \\right)} & l_{1} \\cos{\\left(\\theta_{1}{\\left(t \\right)} \\right)} & 0 & - l_{1} \\sin{\\left(\\theta_{1}{\\left(t \\right)} \\right)}\\\\0 & 0 & - l_{2} \\sin{\\left(\\phi_{1}{\\left(t \\right)} \\right)} & - l_{2} \\cos{\\left(\\phi_{1}{\\left(t \\right)} \\right)} & 0 & - l_{2} \\sin{\\left(\\phi_{1}{\\left(t \\right)} \\right)}\\\\0 & 1 & 0 & 0 & l_{1} \\cos{\\left(\\theta_{2}{\\left(t \\right)} \\right)} & - l_{1} \\sin{\\left(\\theta_{2}{\\left(t \\right)} \\right)}\\\\0 & 0 & 0 & 0 & - l_{2} \\cos{\\left(\\phi_{2}{\\left(t \\right)} \\right)} & - l_{2} \\sin{\\left(\\phi_{2}{\\left(t \\right)} \\right)}\\end{matrix}\\right]$"
      ],
      "text/plain": [
       "Matrix([\n",
       "[1, 0, -l_1*sin(theta_1(t)), l_1*cos(theta_1(t)),                   0, -l_1*sin(theta_1(t))],\n",
       "[0, 0,   -l_2*sin(phi_1(t)),  -l_2*cos(phi_1(t)),                   0,   -l_2*sin(phi_1(t))],\n",
       "[0, 1,                    0,                   0, l_1*cos(theta_2(t)), -l_1*sin(theta_2(t))],\n",
       "[0, 0,                    0,                   0,  -l_2*cos(phi_2(t)),   -l_2*sin(phi_2(t))]])"
      ]
     },
     "metadata": {},
     "output_type": "display_data"
    },
    {
     "data": {
      "text/latex": [
       "$\\displaystyle \\left[\\begin{matrix}\\tau_{1}\\\\\\tau_{2}\\\\F_{r}\\\\\\lambda_{1}\\\\\\lambda_{2}\\\\\\lambda_{3}\\end{matrix}\\right]$"
      ],
      "text/plain": [
       "Matrix([\n",
       "[   tau_1],\n",
       "[   tau_2],\n",
       "[     F_r],\n",
       "[lambda_1],\n",
       "[lambda_2],\n",
       "[lambda_3]])"
      ]
     },
     "metadata": {},
     "output_type": "display_data"
    }
   ],
   "source": [
    "# Virtual Work\n",
    "F = Matrix([1,0]) \n",
    "\n",
    "dw = Matrix([xd , zd , F.dot(V_C) ]) # *[M1,M2,Fr]\n",
    "\n",
    "dw = dw.subs([      (diff(x,t,1), xd)\\\n",
    "                   ,(diff(y,t,1), yd)\\\n",
    "                   ,(diff(z,t,1), zd)\\\n",
    "                   ,(diff(w,t,1), wd)    ])\n",
    "Dw = expand(dw)\n",
    "# display(Dw)\n",
    "\n",
    "factors = [xd,yd,zd,wd]\n",
    "\n",
    "for i,dw in enumerate(Dw):\n",
    "    A = collect(dw,factors,evaluate=False)\n",
    "    \n",
    "    for j,f in enumerate(factors):\n",
    "        if f in A:\n",
    "            Rside[j,i] = A[f]\n",
    "\n",
    "display(Rside)\n",
    "\n",
    "Rside_factors = Matrix([[M1],[M2],[Fr],[lan1],[lan2],[lan3]])\n",
    "display(Rside_factors)"
   ]
  },
  {
   "cell_type": "code",
   "execution_count": 116,
   "metadata": {},
   "outputs": [
    {
     "data": {
      "text/latex": [
       "$\\displaystyle \\left[\\begin{array}{cccccccccccccc}I_{1} + l_{1}^{2} m_{2} \\sin^{2}{\\left(\\theta_{1}{\\left(t \\right)} \\right)} + l_{1}^{2} m_{r} \\sin^{2}{\\left(\\theta_{1}{\\left(t \\right)} \\right)} & \\frac{l_{1} l_{2} m_{2} \\sin{\\left(\\phi_{1}{\\left(t \\right)} \\right)} \\sin{\\left(\\theta_{1}{\\left(t \\right)} \\right)}}{2} + l_{1} l_{2} m_{r} \\sin{\\left(\\phi_{1}{\\left(t \\right)} \\right)} \\sin{\\left(\\theta_{1}{\\left(t \\right)} \\right)} & l_{1}^{2} m_{2} \\sin{\\left(\\theta_{1}{\\left(t \\right)} \\right)} \\cos{\\left(\\theta_{1}{\\left(t \\right)} \\right)} + l_{1}^{2} m_{r} \\sin{\\left(\\theta_{1}{\\left(t \\right)} \\right)} \\cos{\\left(\\theta_{1}{\\left(t \\right)} \\right)} & \\frac{l_{1} l_{2} m_{2} \\sin{\\left(\\theta_{1}{\\left(t \\right)} \\right)} \\cos{\\left(\\phi_{1}{\\left(t \\right)} \\right)}}{2} + l_{1} l_{2} m_{r} \\sin{\\left(\\theta_{1}{\\left(t \\right)} \\right)} \\cos{\\left(\\phi_{1}{\\left(t \\right)} \\right)} & 0 & 0 & 0 & 0 & -1 & 0 & l_{1} \\sin{\\left(\\theta_{1}{\\left(t \\right)} \\right)} & - l_{1} \\cos{\\left(\\theta_{1}{\\left(t \\right)} \\right)} & 0 & l_{1} \\sin{\\left(\\theta_{1}{\\left(t \\right)} \\right)}\\\\\\frac{l_{1} l_{2} m_{2} \\sin{\\left(\\phi_{1}{\\left(t \\right)} \\right)} \\sin{\\left(\\theta_{1}{\\left(t \\right)} \\right)}}{2} + l_{1} l_{2} m_{r} \\sin{\\left(\\phi_{1}{\\left(t \\right)} \\right)} \\sin{\\left(\\theta_{1}{\\left(t \\right)} \\right)} & I_{2} + \\frac{l_{2}^{2} m_{2} \\sin^{2}{\\left(\\phi_{1}{\\left(t \\right)} \\right)}}{4} + \\frac{l_{2}^{2} m_{2} \\cos^{2}{\\left(\\phi_{1}{\\left(t \\right)} \\right)}}{4} + l_{2}^{2} m_{r} \\sin^{2}{\\left(\\phi_{1}{\\left(t \\right)} \\right)} & \\frac{l_{1} l_{2} m_{2} \\sin{\\left(\\phi_{1}{\\left(t \\right)} \\right)} \\cos{\\left(\\theta_{1}{\\left(t \\right)} \\right)}}{2} + l_{1} l_{2} m_{r} \\sin{\\left(\\phi_{1}{\\left(t \\right)} \\right)} \\cos{\\left(\\theta_{1}{\\left(t \\right)} \\right)} & l_{2}^{2} m_{r} \\sin{\\left(\\phi_{1}{\\left(t \\right)} \\right)} \\cos{\\left(\\phi_{1}{\\left(t \\right)} \\right)} & 0 & 0 & 0 & 0 & 0 & 0 & l_{2} \\sin{\\left(\\phi_{1}{\\left(t \\right)} \\right)} & l_{2} \\cos{\\left(\\phi_{1}{\\left(t \\right)} \\right)} & 0 & l_{2} \\sin{\\left(\\phi_{1}{\\left(t \\right)} \\right)}\\\\0 & 0 & 0 & 0 & I_{1} + l_{1}^{2} m_{2} \\sin^{2}{\\left(\\theta_{2}{\\left(t \\right)} \\right)} & \\frac{l_{1} l_{2} m_{2} \\sin{\\left(\\phi_{2}{\\left(t \\right)} \\right)} \\sin{\\left(\\theta_{2}{\\left(t \\right)} \\right)}}{2} & l_{1}^{2} m_{2} \\sin{\\left(\\theta_{2}{\\left(t \\right)} \\right)} \\cos{\\left(\\theta_{2}{\\left(t \\right)} \\right)} & \\frac{l_{1} l_{2} m_{2} \\sin{\\left(\\theta_{2}{\\left(t \\right)} \\right)} \\cos{\\left(\\phi_{2}{\\left(t \\right)} \\right)}}{2} & 0 & -1 & 0 & 0 & - l_{1} \\cos{\\left(\\theta_{2}{\\left(t \\right)} \\right)} & l_{1} \\sin{\\left(\\theta_{2}{\\left(t \\right)} \\right)}\\\\0 & 0 & 0 & 0 & \\frac{l_{1} l_{2} m_{2} \\sin{\\left(\\phi_{2}{\\left(t \\right)} \\right)} \\sin{\\left(\\theta_{2}{\\left(t \\right)} \\right)}}{2} & I_{2} + \\frac{l_{2}^{2} m_{2} \\sin^{2}{\\left(\\phi_{2}{\\left(t \\right)} \\right)}}{4} + \\frac{l_{2}^{2} m_{2} \\cos^{2}{\\left(\\phi_{2}{\\left(t \\right)} \\right)}}{4} & \\frac{l_{1} l_{2} m_{2} \\sin{\\left(\\phi_{2}{\\left(t \\right)} \\right)} \\cos{\\left(\\theta_{2}{\\left(t \\right)} \\right)}}{2} & 0 & 0 & 0 & 0 & 0 & l_{2} \\cos{\\left(\\phi_{2}{\\left(t \\right)} \\right)} & l_{2} \\sin{\\left(\\phi_{2}{\\left(t \\right)} \\right)}\\end{array}\\right]$"
      ],
      "text/plain": [
       "Matrix([\n",
       "[                    I_1 + l_1**2*m_2*sin(theta_1(t))**2 + l_1**2*m_r*sin(theta_1(t))**2,           l_1*l_2*m_2*sin(phi_1(t))*sin(theta_1(t))/2 + l_1*l_2*m_r*sin(phi_1(t))*sin(theta_1(t)), l_1**2*m_2*sin(theta_1(t))*cos(theta_1(t)) + l_1**2*m_r*sin(theta_1(t))*cos(theta_1(t)), l_1*l_2*m_2*sin(theta_1(t))*cos(phi_1(t))/2 + l_1*l_2*m_r*sin(theta_1(t))*cos(phi_1(t)),                                           0,                                                                   0,                                           0,                                           0, -1,  0, l_1*sin(theta_1(t)), -l_1*cos(theta_1(t)),                    0, l_1*sin(theta_1(t))],\n",
       "[l_1*l_2*m_2*sin(phi_1(t))*sin(theta_1(t))/2 + l_1*l_2*m_r*sin(phi_1(t))*sin(theta_1(t)), I_2 + l_2**2*m_2*sin(phi_1(t))**2/4 + l_2**2*m_2*cos(phi_1(t))**2/4 + l_2**2*m_r*sin(phi_1(t))**2, l_1*l_2*m_2*sin(phi_1(t))*cos(theta_1(t))/2 + l_1*l_2*m_r*sin(phi_1(t))*cos(theta_1(t)),                                                  l_2**2*m_r*sin(phi_1(t))*cos(phi_1(t)),                                           0,                                                                   0,                                           0,                                           0,  0,  0,   l_2*sin(phi_1(t)),    l_2*cos(phi_1(t)),                    0,   l_2*sin(phi_1(t))],\n",
       "[                                                                                      0,                                                                                                 0,                                                                                       0,                                                                                       0,         I_1 + l_1**2*m_2*sin(theta_2(t))**2,                         l_1*l_2*m_2*sin(phi_2(t))*sin(theta_2(t))/2,  l_1**2*m_2*sin(theta_2(t))*cos(theta_2(t)), l_1*l_2*m_2*sin(theta_2(t))*cos(phi_2(t))/2,  0, -1,                   0,                    0, -l_1*cos(theta_2(t)), l_1*sin(theta_2(t))],\n",
       "[                                                                                      0,                                                                                                 0,                                                                                       0,                                                                                       0, l_1*l_2*m_2*sin(phi_2(t))*sin(theta_2(t))/2, I_2 + l_2**2*m_2*sin(phi_2(t))**2/4 + l_2**2*m_2*cos(phi_2(t))**2/4, l_1*l_2*m_2*sin(phi_2(t))*cos(theta_2(t))/2,                                           0,  0,  0,                   0,                    0,    l_2*cos(phi_2(t)),   l_2*sin(phi_2(t))]])"
      ]
     },
     "metadata": {},
     "output_type": "display_data"
    },
    {
     "data": {
      "text/latex": [
       "$\\displaystyle \\left[\\begin{matrix}\\ddot{\\theta}_1{\\left(t \\right)}\\\\\\ddot{\\phi}_1{\\left(t \\right)}\\\\\\dot{\\theta}_1^{2}{\\left(t \\right)}\\\\\\dot{\\phi}_1^{2}{\\left(t \\right)}\\\\\\ddot{\\theta}_2{\\left(t \\right)}\\\\\\ddot{\\phi}_2{\\left(t \\right)}\\\\\\dot{\\theta}_2^{2}{\\left(t \\right)}\\\\\\dot{\\phi}_2^{2}{\\left(t \\right)}\\\\\\tau_{1}\\\\\\tau_{2}\\\\F_{r}\\\\\\lambda_{1}\\\\\\lambda_{2}\\\\\\lambda_{3}\\end{matrix}\\right]$"
      ],
      "text/plain": [
       "Matrix([\n",
       "[  \\ddot{\\theta}_1(t)],\n",
       "[    \\ddot{\\phi}_1(t)],\n",
       "[\\dot{\\theta}_1(t)**2],\n",
       "[  \\dot{\\phi}_1(t)**2],\n",
       "[  \\ddot{\\theta}_2(t)],\n",
       "[    \\ddot{\\phi}_2(t)],\n",
       "[\\dot{\\theta}_2(t)**2],\n",
       "[  \\dot{\\phi}_2(t)**2],\n",
       "[               tau_1],\n",
       "[               tau_2],\n",
       "[                 F_r],\n",
       "[            lambda_1],\n",
       "[            lambda_2],\n",
       "[            lambda_3]])"
      ]
     },
     "metadata": {},
     "output_type": "display_data"
    }
   ],
   "source": [
    "# combile All\n",
    "\n",
    "All = Lside.row_join(-Rside)\n",
    "All_factors = Lside_factors.col_join(Rside_factors)\n",
    "\n",
    "display(All)\n",
    "display(All_factors)"
   ]
  },
  {
   "cell_type": "code",
   "execution_count": 117,
   "metadata": {},
   "outputs": [],
   "source": [
    "# solve for F landa1 landa2 landa3\n",
    "# C = A*[F landa1 landa2 landa3]'\n",
    "\n",
    "C = All[:,0:10]\n",
    "A = All[:,[10,11,12,13]]\n",
    "\n",
    "A_inv = A.inv()\n",
    "\n",
    "# display(A)\n",
    "# display(A_inv)\n",
    "\n",
    "Eq = A_inv*C"
   ]
  },
  {
   "cell_type": "code",
   "execution_count": 118,
   "metadata": {},
   "outputs": [],
   "source": [
    "import numpy as np\n",
    "\n",
    "INIT = [     (L1,0.14)\\\n",
    "            ,(L2,0.4)\\\n",
    "            ,(d,0.2)\\\n",
    "            ,(m1,1.51623)\\\n",
    "            ,(m2,0.9018)\\\n",
    "            ,(mr,1.61777)\\\n",
    "            ,(I1,0.7761601605732)\\\n",
    "            ,(I2,0.012853467910000001)\\\n",
    "        ]\n",
    "\n",
    "Eq = Eq.subs(INIT)\n",
    "\n",
    "# Eq = simplify(Eq)\n",
    "# display(Eq)\n",
    "\n",
    "f = lambdify([x,xd,xdd , y,yd,ydd , z,zd,zdd , w,wd,wdd , M1,M2], Eq, \"numpy\") "
   ]
  },
  {
   "cell_type": "code",
   "execution_count": 122,
   "metadata": {},
   "outputs": [],
   "source": [
    "# Initial Condition\n",
    "L3 = 0.72692859863604331\n",
    "x0 = 1.2653637076958888\n",
    "D  = 1.6\n",
    "\n",
    "X   = x0\n",
    "Xd  = 0\n",
    "Xdd = 0\n",
    "\n",
    "\n",
    "Y_val = Matrix(solve(Const_Eq[0],y))\n",
    "\n",
    "\n"
   ]
  },
  {
   "cell_type": "code",
   "execution_count": null,
   "metadata": {},
   "outputs": [],
   "source": [
    "# e1 = '%s'%E1\n",
    "\n",
    "# E1 = parse_expr(e1,evaluate=False)\n",
    "# display(E1)\n",
    "\n",
    "\n",
    "# OR: sym.euler_equations(L)\n",
    "\n",
    "\n",
    "\n",
    "\n",
    "\n",
    "\n",
    "\n",
    "\n",
    "\n",
    "\n",
    "\n",
    "\n",
    "\n",
    "\n",
    "\n",
    "\n",
    "\n",
    "\n",
    "\n",
    "\n",
    "\n",
    "\n",
    "\n",
    "\n",
    "\n"
   ]
  },
  {
   "cell_type": "code",
   "execution_count": null,
   "metadata": {},
   "outputs": [],
   "source": [
    "import numpy as np\n",
    "\n",
    "# L3 = 0.72692859863604331\n",
    "# x0 = 1.2653637076958888\n",
    "# D  = 1.6\n",
    "\n",
    "Eq = Eq.subs([    (L1,0.14)\\\n",
    "                 ,(L2,0.4)\\\n",
    "                 ,(d,0.2)\\\n",
    "                 ,(m1,1.51623)\\\n",
    "                 ,(m2,0.9018)\\\n",
    "                 ,(mr,1.61777)\\\n",
    "                 ,(I1,0.7761601605732)\\\n",
    "                 ,(I2,0.012853467910000001)\\\n",
    "             ])\n",
    "\n",
    "f = lambdify([x,xd,xdd , y,yd,ydd , z,zd,zdd , w,wd,wdd], Eq, \"numpy\") "
   ]
  },
  {
   "cell_type": "code",
   "execution_count": null,
   "metadata": {},
   "outputs": [],
   "source": []
  },
  {
   "cell_type": "code",
   "execution_count": null,
   "metadata": {},
   "outputs": [],
   "source": []
  }
 ],
 "metadata": {
  "kernelspec": {
   "display_name": "Python 3",
   "language": "python",
   "name": "python3"
  },
  "language_info": {
   "codemirror_mode": {
    "name": "ipython",
    "version": 3
   },
   "file_extension": ".py",
   "mimetype": "text/x-python",
   "name": "python",
   "nbconvert_exporter": "python",
   "pygments_lexer": "ipython3",
   "version": "3.7.3"
  }
 },
 "nbformat": 4,
 "nbformat_minor": 4
}
