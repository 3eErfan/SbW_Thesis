{
 "cells": [
  {
   "cell_type": "code",
   "execution_count": 41,
   "metadata": {},
   "outputs": [],
   "source": [
    "from sympy import *\n",
    "from IPython.display import display\n",
    "import numpy as np\n",
    "\n",
    "\n",
    "a,L1,L2,L3,d,D,m2,mr,I1,I2 = symbols(\"alpha,L_1,L_2,L_3,d,D,m_2,m_r,I_1,I_2\")\n",
    "\n",
    "external_inputs_num = 3\n",
    "M1,M2,Fr = symbols(\"tau_1 tau_2 F_r\")\n",
    "\n",
    "constrain_Eq_num = 3\n",
    "lan1,lan2,lan3 = symbols(\"lambda_1 lambda_2 lambda_3\")\n",
    "\n",
    "\n",
    "# I1=m1*L1**2/3  #momet of Inertia of L1 about A\n",
    "# I2=m2*L2**2/12 #about G\n",
    "\n",
    "t = Symbol('t')\n",
    "\n",
    "x = Function(\"delta_1\")(t) \n",
    "y = Function(\"phi_1\")(t)\n",
    "z = Function(\"delta_2\")(t) \n",
    "w = Function(\"phi_2\")(t)\n",
    "\n",
    "xd = Function(\"\\dot{\\\\delta}_1\")(t)\n",
    "yd = Function(\"\\dot{\\\\phi}_1\")(t)\n",
    "zd = Function(\"\\dot{\\\\delta}_2\")(t)\n",
    "wd = Function(\"\\dot{\\\\phi}_2\")(t)\n",
    "\n",
    "xdd = Function(\"\\ddot{\\\\delta}_1\")(t)\n",
    "ydd = Function(\"\\ddot{\\\\phi}_1\")(t)\n",
    "zdd = Function(\"\\ddot{\\\\delta}_2\")(t)\n",
    "wdd = Function(\"\\ddot{\\\\phi}_2\")(t)\n"
   ]
  },
  {
   "cell_type": "code",
   "execution_count": 42,
   "metadata": {},
   "outputs": [
    {
     "data": {
      "text/latex": [
       "$\\displaystyle \\left[\\begin{matrix}L_{1} \\sin{\\left(\\alpha + \\delta_{1}{\\left(t \\right)} \\right)} \\frac{d}{d t} \\delta_{1}{\\left(t \\right)} - \\frac{L_{2} \\cos{\\left(\\phi_{1}{\\left(t \\right)} \\right)} \\frac{d}{d t} \\phi_{1}{\\left(t \\right)}}{2}\\\\- L_{1} \\cos{\\left(\\alpha + \\delta_{1}{\\left(t \\right)} \\right)} \\frac{d}{d t} \\delta_{1}{\\left(t \\right)} + \\frac{L_{2} \\sin{\\left(\\phi_{1}{\\left(t \\right)} \\right)} \\frac{d}{d t} \\phi_{1}{\\left(t \\right)}}{2}\\end{matrix}\\right]$"
      ],
      "text/plain": [
       "Matrix([\n",
       "[ L_1*sin(alpha + delta_1(t))*Derivative(delta_1(t), t) - L_2*cos(phi_1(t))*Derivative(phi_1(t), t)/2],\n",
       "[-L_1*cos(alpha + delta_1(t))*Derivative(delta_1(t), t) + L_2*sin(phi_1(t))*Derivative(phi_1(t), t)/2]])"
      ]
     },
     "metadata": {},
     "output_type": "display_data"
    },
    {
     "data": {
      "text/latex": [
       "$\\displaystyle \\left[\\begin{matrix}- L_{1} \\sin{\\left(\\alpha - \\delta_{2}{\\left(t \\right)} \\right)} \\frac{d}{d t} \\delta_{2}{\\left(t \\right)} - \\frac{L_{2} \\cos{\\left(\\phi_{2}{\\left(t \\right)} \\right)} \\frac{d}{d t} \\phi_{2}{\\left(t \\right)}}{2}\\\\L_{1} \\cos{\\left(\\alpha - \\delta_{2}{\\left(t \\right)} \\right)} \\frac{d}{d t} \\delta_{2}{\\left(t \\right)} - \\frac{L_{2} \\sin{\\left(\\phi_{2}{\\left(t \\right)} \\right)} \\frac{d}{d t} \\phi_{2}{\\left(t \\right)}}{2}\\end{matrix}\\right]$"
      ],
      "text/plain": [
       "Matrix([\n",
       "[-L_1*sin(alpha - delta_2(t))*Derivative(delta_2(t), t) - L_2*cos(phi_2(t))*Derivative(phi_2(t), t)/2],\n",
       "[ L_1*cos(alpha - delta_2(t))*Derivative(delta_2(t), t) - L_2*sin(phi_2(t))*Derivative(phi_2(t), t)/2]])"
      ]
     },
     "metadata": {},
     "output_type": "display_data"
    },
    {
     "data": {
      "text/latex": [
       "$\\displaystyle \\left[\\begin{matrix}0\\\\- L_{1} \\cos{\\left(\\alpha + \\delta_{1}{\\left(t \\right)} \\right)} \\frac{d}{d t} \\delta_{1}{\\left(t \\right)} + L_{2} \\sin{\\left(\\phi_{1}{\\left(t \\right)} \\right)} \\frac{d}{d t} \\phi_{1}{\\left(t \\right)}\\end{matrix}\\right]$"
      ],
      "text/plain": [
       "Matrix([\n",
       "[                                                                                                 0],\n",
       "[-L_1*cos(alpha + delta_1(t))*Derivative(delta_1(t), t) + L_2*sin(phi_1(t))*Derivative(phi_1(t), t)]])"
      ]
     },
     "metadata": {},
     "output_type": "display_data"
    }
   ],
   "source": [
    "\n",
    "r_G1A = Matrix([  -L1*cos(x+a)-L2*sin(y)/2  ,   -L1*sin(x+a)-L2*cos(y)/2    ])\n",
    "r_G2B = Matrix([  -L1*cos(z-a)-L2*sin(w)/2  , -D+L1*sin(z-a)+L2*cos(w)/2    ])        \n",
    "r_Gr  = Matrix([  -d                      ,     -L1*sin(x+a)-L2*cos(y)-L3/2 ])\n",
    "\n",
    "V_G   = diff(r_G1A,t)\n",
    "V_G2  = diff(r_G2B,t)  \n",
    "V_rack   = diff(r_Gr,t)\n",
    "\n",
    "# V_G   = diff(r_G1A,t).subs([(diff(x,t,1), xd), (diff(y,t,1), yd)\\\n",
    "#                            ,(diff(z,t,1), zd), (diff(w,t,1), wd)])\n",
    "# V_G2  = diff(r_G2B,t).subs([(diff(x,t,1), xd), (diff(y,t,1), yd)\\\n",
    "#                            ,(diff(z,t,1), zd), (diff(w,t,1), wd)])   \n",
    "# V_rack   = diff(r_Gr,t).subs([(diff(x,t,1), xd), (diff(y,t,1), yd)\\\n",
    "#                            ,(diff(z,t,1), zd), (diff(w,t,1), wd)])\n",
    "\n",
    "display(V_G)\n",
    "display(V_G2)\n",
    "display(V_rack)"
   ]
  },
  {
   "cell_type": "code",
   "execution_count": 43,
   "metadata": {},
   "outputs": [
    {
     "data": {
      "text/latex": [
       "$\\displaystyle \\frac{I_{1} \\left(\\frac{d}{d t} \\delta_{1}{\\left(t \\right)}\\right)^{2}}{2} + \\frac{I_{1} \\left(\\frac{d}{d t} \\delta_{2}{\\left(t \\right)}\\right)^{2}}{2} + \\frac{I_{2} \\left(\\frac{d}{d t} \\phi_{1}{\\left(t \\right)}\\right)^{2}}{2} + \\frac{I_{2} \\left(\\frac{d}{d t} \\phi_{2}{\\left(t \\right)}\\right)^{2}}{2} + \\frac{m_{2} \\left(4 L_{1}^{2} \\left(\\frac{d}{d t} \\delta_{1}{\\left(t \\right)}\\right)^{2} - 4 L_{1} L_{2} \\sin{\\left(\\alpha + \\delta_{1}{\\left(t \\right)} + \\phi_{1}{\\left(t \\right)} \\right)} \\frac{d}{d t} \\delta_{1}{\\left(t \\right)} \\frac{d}{d t} \\phi_{1}{\\left(t \\right)} + L_{2}^{2} \\left(\\frac{d}{d t} \\phi_{1}{\\left(t \\right)}\\right)^{2}\\right)}{8} + \\frac{m_{2} \\left(4 L_{1}^{2} \\left(\\frac{d}{d t} \\delta_{2}{\\left(t \\right)}\\right)^{2} - 4 L_{1} L_{2} \\sin{\\left(- \\alpha + \\delta_{2}{\\left(t \\right)} + \\phi_{2}{\\left(t \\right)} \\right)} \\frac{d}{d t} \\delta_{2}{\\left(t \\right)} \\frac{d}{d t} \\phi_{2}{\\left(t \\right)} + L_{2}^{2} \\left(\\frac{d}{d t} \\phi_{2}{\\left(t \\right)}\\right)^{2}\\right)}{8} + \\frac{m_{r} \\left(L_{1} \\cos{\\left(\\alpha + \\delta_{1}{\\left(t \\right)} \\right)} \\frac{d}{d t} \\delta_{1}{\\left(t \\right)} - L_{2} \\sin{\\left(\\phi_{1}{\\left(t \\right)} \\right)} \\frac{d}{d t} \\phi_{1}{\\left(t \\right)}\\right)^{2}}{2}$"
      ],
      "text/plain": [
       "I_1*Derivative(delta_1(t), t)**2/2 + I_1*Derivative(delta_2(t), t)**2/2 + I_2*Derivative(phi_1(t), t)**2/2 + I_2*Derivative(phi_2(t), t)**2/2 + m_2*(4*L_1**2*Derivative(delta_1(t), t)**2 - 4*L_1*L_2*sin(alpha + delta_1(t) + phi_1(t))*Derivative(delta_1(t), t)*Derivative(phi_1(t), t) + L_2**2*Derivative(phi_1(t), t)**2)/8 + m_2*(4*L_1**2*Derivative(delta_2(t), t)**2 - 4*L_1*L_2*sin(-alpha + delta_2(t) + phi_2(t))*Derivative(delta_2(t), t)*Derivative(phi_2(t), t) + L_2**2*Derivative(phi_2(t), t)**2)/8 + m_r*(L_1*cos(alpha + delta_1(t))*Derivative(delta_1(t), t) - L_2*sin(phi_1(t))*Derivative(phi_1(t), t))**2/2"
      ]
     },
     "metadata": {},
     "output_type": "display_data"
    }
   ],
   "source": [
    "T=(  I1*diff(x,t)**2    \\\n",
    "   + I2*diff(y,t)**2    \\\n",
    "   + m2*V_G.dot(V_G)    \\\n",
    "   + mr*V_rack.dot(V_rack)    \\\n",
    "   + I1*diff(z,t)**2    \\\n",
    "   + I2*diff(w,t)**2    \\\n",
    "   + m2*V_G2.dot(V_G2)  )/2\n",
    "\n",
    "# T = T.subs([(diff(x,t,1), xd), (diff(y,t,1), yd)\\\n",
    "#                            ,(diff(z,t,1), zd), (diff(w,t,1), wd)])\n",
    "T = simplify(T)\n",
    "display(T)"
   ]
  },
  {
   "cell_type": "code",
   "execution_count": 44,
   "metadata": {},
   "outputs": [],
   "source": [
    "\n",
    "Eq = Matrix( [diff(diff(T, diff(x, t)), t) - diff(T, x),\\\n",
    "              diff(diff(T, diff(y, t)), t) - diff(T, y),\\\n",
    "              diff(diff(T, diff(z, t)), t) - diff(T, z),\\\n",
    "              diff(diff(T, diff(w, t)), t) - diff(T, w)] )\n",
    "\n"
   ]
  },
  {
   "cell_type": "code",
   "execution_count": 45,
   "metadata": {},
   "outputs": [],
   "source": [
    "\n",
    "\n",
    "Eq = Eq.subs([  (diff(x,t,2), xdd),(diff(xd,t,1), xdd),(diff(x,t,1), xd)\\\n",
    "               ,(diff(y,t,2), ydd),(diff(yd,t,1), ydd),(diff(y,t,1), yd)\\\n",
    "               ,(diff(z,t,2), zdd),(diff(zd,t,1), zdd),(diff(z,t,1), zd)\\\n",
    "               ,(diff(w,t,2), wdd),(diff(wd,t,1), wdd),(diff(w,t,1), wd)    ])\n",
    "\n",
    "\n",
    "# Eq = simplify(Eq)"
   ]
  },
  {
   "cell_type": "code",
   "execution_count": 46,
   "metadata": {},
   "outputs": [
    {
     "data": {
      "text/latex": [
       "$\\displaystyle \\left[\\begin{matrix}I_{1} + L_{1}^{2} m_{2} + L_{1}^{2} m_{r} \\cos^{2}{\\left(\\alpha + \\delta_{1}{\\left(t \\right)} \\right)} & - \\frac{L_{1} L_{2} m_{2} \\sin{\\left(\\alpha + \\delta_{1}{\\left(t \\right)} + \\phi_{1}{\\left(t \\right)} \\right)}}{2} - L_{1} L_{2} m_{r} \\sin{\\left(\\phi_{1}{\\left(t \\right)} \\right)} \\cos{\\left(\\alpha + \\delta_{1}{\\left(t \\right)} \\right)} & - L_{1}^{2} m_{r} \\sin{\\left(\\alpha + \\delta_{1}{\\left(t \\right)} \\right)} \\cos{\\left(\\alpha + \\delta_{1}{\\left(t \\right)} \\right)} & - \\frac{L_{1} L_{2} m_{2} \\cos{\\left(\\alpha + \\delta_{1}{\\left(t \\right)} + \\phi_{1}{\\left(t \\right)} \\right)}}{2} - L_{1} L_{2} m_{r} \\cos{\\left(\\alpha + \\delta_{1}{\\left(t \\right)} \\right)} \\cos{\\left(\\phi_{1}{\\left(t \\right)} \\right)} & 0 & 0 & 0 & 0\\\\- \\frac{L_{1} L_{2} m_{2} \\sin{\\left(\\alpha + \\delta_{1}{\\left(t \\right)} + \\phi_{1}{\\left(t \\right)} \\right)}}{2} - L_{1} L_{2} m_{r} \\sin{\\left(\\phi_{1}{\\left(t \\right)} \\right)} \\cos{\\left(\\alpha + \\delta_{1}{\\left(t \\right)} \\right)} & I_{2} + \\frac{L_{2}^{2} m_{2}}{4} + L_{2}^{2} m_{r} \\sin^{2}{\\left(\\phi_{1}{\\left(t \\right)} \\right)} & - \\frac{L_{1} L_{2} m_{2} \\cos{\\left(\\alpha + \\delta_{1}{\\left(t \\right)} + \\phi_{1}{\\left(t \\right)} \\right)}}{2} + L_{1} L_{2} m_{r} \\sin{\\left(\\alpha + \\delta_{1}{\\left(t \\right)} \\right)} \\sin{\\left(\\phi_{1}{\\left(t \\right)} \\right)} & L_{2}^{2} m_{r} \\sin{\\left(\\phi_{1}{\\left(t \\right)} \\right)} \\cos{\\left(\\phi_{1}{\\left(t \\right)} \\right)} & 0 & 0 & 0 & 0\\\\0 & 0 & 0 & 0 & I_{1} + L_{1}^{2} m_{2} & - \\frac{L_{1} L_{2} m_{2} \\sin{\\left(- \\alpha + \\delta_{2}{\\left(t \\right)} + \\phi_{2}{\\left(t \\right)} \\right)}}{2} & 0 & - \\frac{L_{1} L_{2} m_{2} \\cos{\\left(- \\alpha + \\delta_{2}{\\left(t \\right)} + \\phi_{2}{\\left(t \\right)} \\right)}}{2}\\\\0 & 0 & 0 & 0 & - \\frac{L_{1} L_{2} m_{2} \\sin{\\left(- \\alpha + \\delta_{2}{\\left(t \\right)} + \\phi_{2}{\\left(t \\right)} \\right)}}{2} & I_{2} + \\frac{L_{2}^{2} m_{2}}{4} & - \\frac{L_{1} L_{2} m_{2} \\cos{\\left(- \\alpha + \\delta_{2}{\\left(t \\right)} + \\phi_{2}{\\left(t \\right)} \\right)}}{2} & 0\\end{matrix}\\right]$"
      ],
      "text/plain": [
       "Matrix([\n",
       "[                                             I_1 + L_1**2*m_2 + L_1**2*m_r*cos(alpha + delta_1(t))**2, -L_1*L_2*m_2*sin(alpha + delta_1(t) + phi_1(t))/2 - L_1*L_2*m_r*sin(phi_1(t))*cos(alpha + delta_1(t)),                                           -L_1**2*m_r*sin(alpha + delta_1(t))*cos(alpha + delta_1(t)), -L_1*L_2*m_2*cos(alpha + delta_1(t) + phi_1(t))/2 - L_1*L_2*m_r*cos(alpha + delta_1(t))*cos(phi_1(t)),                                                  0,                                                  0,                                                  0,                                                  0],\n",
       "[-L_1*L_2*m_2*sin(alpha + delta_1(t) + phi_1(t))/2 - L_1*L_2*m_r*sin(phi_1(t))*cos(alpha + delta_1(t)),                                                      I_2 + L_2**2*m_2/4 + L_2**2*m_r*sin(phi_1(t))**2, -L_1*L_2*m_2*cos(alpha + delta_1(t) + phi_1(t))/2 + L_1*L_2*m_r*sin(alpha + delta_1(t))*sin(phi_1(t)),                                                                L_2**2*m_r*sin(phi_1(t))*cos(phi_1(t)),                                                  0,                                                  0,                                                  0,                                                  0],\n",
       "[                                                                                                    0,                                                                                                     0,                                                                                                     0,                                                                                                     0,                                   I_1 + L_1**2*m_2, -L_1*L_2*m_2*sin(-alpha + delta_2(t) + phi_2(t))/2,                                                  0, -L_1*L_2*m_2*cos(-alpha + delta_2(t) + phi_2(t))/2],\n",
       "[                                                                                                    0,                                                                                                     0,                                                                                                     0,                                                                                                     0, -L_1*L_2*m_2*sin(-alpha + delta_2(t) + phi_2(t))/2,                                 I_2 + L_2**2*m_2/4, -L_1*L_2*m_2*cos(-alpha + delta_2(t) + phi_2(t))/2,                                                  0]])"
      ]
     },
     "metadata": {},
     "output_type": "display_data"
    },
    {
     "data": {
      "text/latex": [
       "$\\displaystyle \\left[\\begin{matrix}\\ddot{\\delta}_1{\\left(t \\right)}\\\\\\ddot{\\phi}_1{\\left(t \\right)}\\\\\\dot{\\delta}_1^{2}{\\left(t \\right)}\\\\\\dot{\\phi}_1^{2}{\\left(t \\right)}\\\\\\ddot{\\delta}_2{\\left(t \\right)}\\\\\\ddot{\\phi}_2{\\left(t \\right)}\\\\\\dot{\\delta}_2^{2}{\\left(t \\right)}\\\\\\dot{\\phi}_2^{2}{\\left(t \\right)}\\end{matrix}\\right]$"
      ],
      "text/plain": [
       "Matrix([\n",
       "[  \\ddot{\\delta}_1(t)],\n",
       "[    \\ddot{\\phi}_1(t)],\n",
       "[\\dot{\\delta}_1(t)**2],\n",
       "[  \\dot{\\phi}_1(t)**2],\n",
       "[  \\ddot{\\delta}_2(t)],\n",
       "[    \\ddot{\\phi}_2(t)],\n",
       "[\\dot{\\delta}_2(t)**2],\n",
       "[  \\dot{\\phi}_2(t)**2]])"
      ]
     },
     "metadata": {},
     "output_type": "display_data"
    }
   ],
   "source": [
    "Eq = expand(Eq)\n",
    "\n",
    "Lside_factors = [xdd,ydd,xd**2,yd**2,zdd,wdd,zd**2,wd**2]\n",
    "\n",
    "Lside = zeros(4,8)\n",
    "\n",
    "\n",
    "for i,eq in enumerate(Eq):\n",
    "    A = collect(eq,Lside_factors,evaluate=False) \n",
    "    for j,f in enumerate(Lside_factors):\n",
    "        if f in A:\n",
    "            Lside[i,j] = A[f]\n",
    "            \n",
    "Lside_factors = Matrix(Lside_factors)\n",
    "\n",
    "display(Lside)\n",
    "display(Lside_factors)"
   ]
  },
  {
   "cell_type": "code",
   "execution_count": 26,
   "metadata": {},
   "outputs": [
    {
     "data": {
      "text/latex": [
       "$\\displaystyle \\left[\\begin{matrix}- L_{1} \\dot{\\delta}_1{\\left(t \\right)} \\sin{\\left(\\alpha + \\delta_{1}{\\left(t \\right)} \\right)} + L_{2} \\dot{\\phi}_1{\\left(t \\right)} \\cos{\\left(\\phi_{1}{\\left(t \\right)} \\right)}\\\\L_{1} \\dot{\\delta}_2{\\left(t \\right)} \\sin{\\left(\\alpha - \\delta_{2}{\\left(t \\right)} \\right)} + L_{2} \\dot{\\phi}_2{\\left(t \\right)} \\cos{\\left(\\phi_{2}{\\left(t \\right)} \\right)}\\\\L_{1} \\dot{\\delta}_1{\\left(t \\right)} \\cos{\\left(\\alpha + \\delta_{1}{\\left(t \\right)} \\right)} - L_{1} \\dot{\\delta}_2{\\left(t \\right)} \\cos{\\left(\\alpha - \\delta_{2}{\\left(t \\right)} \\right)} - L_{2} \\dot{\\phi}_1{\\left(t \\right)} \\sin{\\left(\\phi_{1}{\\left(t \\right)} \\right)} - L_{2} \\dot{\\phi}_2{\\left(t \\right)} \\sin{\\left(\\phi_{2}{\\left(t \\right)} \\right)}\\end{matrix}\\right]$"
      ],
      "text/plain": [
       "Matrix([\n",
       "[                                                                                   -L_1*\\dot{\\delta}_1(t)*sin(alpha + delta_1(t)) + L_2*\\dot{\\phi}_1(t)*cos(phi_1(t))],\n",
       "[                                                                                    L_1*\\dot{\\delta}_2(t)*sin(alpha - delta_2(t)) + L_2*\\dot{\\phi}_2(t)*cos(phi_2(t))],\n",
       "[L_1*\\dot{\\delta}_1(t)*cos(alpha + delta_1(t)) - L_1*\\dot{\\delta}_2(t)*cos(alpha - delta_2(t)) - L_2*\\dot{\\phi}_1(t)*sin(phi_1(t)) - L_2*\\dot{\\phi}_2(t)*sin(phi_2(t))]])"
      ]
     },
     "metadata": {},
     "output_type": "display_data"
    }
   ],
   "source": [
    "# constrain Eq\n",
    "\n",
    "Const_Eq = Matrix([  -d + L2*sin(y) + L1*cos(x+a)\n",
    "                    ,-d + L2*sin(w) + L1*cos(a-z)\n",
    "                    ,L1*sin(x+a)+L2*cos(y)+L1*sin(a-z)+L2*cos(w)-D+L3])\n",
    "\n",
    "# display(CEq)\n",
    "\n",
    "CEq = diff(Const_Eq,t)\n",
    "\n",
    "CEq = CEq.subs([    (diff(x,t,1), xd)\\\n",
    "                   ,(diff(y,t,1), yd)\\\n",
    "                   ,(diff(z,t,1), zd)\\\n",
    "                   ,(diff(w,t,1), wd)    ])\n",
    "\n",
    "display(CEq)\n",
    "\n",
    "Rside = zeros(4,3+external_inputs_num)\n",
    "\n",
    "factors = [xd,yd,zd,wd]\n",
    "\n",
    "for i,ceq in enumerate(CEq):\n",
    "    A = collect(ceq,factors,evaluate=False)\n",
    "    \n",
    "    for j,f in enumerate(factors):\n",
    "        if f in A:\n",
    "            Rside[j,i+external_inputs_num] = A[f]\n",
    "            "
   ]
  },
  {
   "cell_type": "code",
   "execution_count": 27,
   "metadata": {},
   "outputs": [
    {
     "data": {
      "text/latex": [
       "$\\displaystyle \\left[\\begin{matrix}\\dot{\\delta}_1{\\left(t \\right)}\\\\\\dot{\\delta}_2{\\left(t \\right)}\\\\L_{1} \\dot{\\delta}_1{\\left(t \\right)} \\cos{\\left(\\alpha + \\delta_{1}{\\left(t \\right)} \\right)} - L_{2} \\dot{\\phi}_1{\\left(t \\right)} \\sin{\\left(\\phi_{1}{\\left(t \\right)} \\right)}\\end{matrix}\\right]$"
      ],
      "text/plain": [
       "Matrix([\n",
       "[                                                                \\dot{\\delta}_1(t)],\n",
       "[                                                                \\dot{\\delta}_2(t)],\n",
       "[L_1*\\dot{\\delta}_1(t)*cos(alpha + delta_1(t)) - L_2*\\dot{\\phi}_1(t)*sin(phi_1(t))]])"
      ]
     },
     "metadata": {},
     "output_type": "display_data"
    },
    {
     "data": {
      "text/latex": [
       "$\\displaystyle \\left[\\begin{matrix}1 & 0 & L_{1} \\cos{\\left(\\alpha + \\delta_{1}{\\left(t \\right)} \\right)} & - L_{1} \\sin{\\left(\\alpha + \\delta_{1}{\\left(t \\right)} \\right)} & 0 & L_{1} \\cos{\\left(\\alpha + \\delta_{1}{\\left(t \\right)} \\right)}\\\\0 & 0 & - L_{2} \\sin{\\left(\\phi_{1}{\\left(t \\right)} \\right)} & L_{2} \\cos{\\left(\\phi_{1}{\\left(t \\right)} \\right)} & 0 & - L_{2} \\sin{\\left(\\phi_{1}{\\left(t \\right)} \\right)}\\\\0 & 1 & 0 & 0 & L_{1} \\sin{\\left(\\alpha - \\delta_{2}{\\left(t \\right)} \\right)} & - L_{1} \\cos{\\left(\\alpha - \\delta_{2}{\\left(t \\right)} \\right)}\\\\0 & 0 & 0 & 0 & L_{2} \\cos{\\left(\\phi_{2}{\\left(t \\right)} \\right)} & - L_{2} \\sin{\\left(\\phi_{2}{\\left(t \\right)} \\right)}\\end{matrix}\\right]$"
      ],
      "text/plain": [
       "Matrix([\n",
       "[1, 0, L_1*cos(alpha + delta_1(t)), -L_1*sin(alpha + delta_1(t)),                           0,  L_1*cos(alpha + delta_1(t))],\n",
       "[0, 0,          -L_2*sin(phi_1(t)),            L_2*cos(phi_1(t)),                           0,           -L_2*sin(phi_1(t))],\n",
       "[0, 1,                           0,                            0, L_1*sin(alpha - delta_2(t)), -L_1*cos(alpha - delta_2(t))],\n",
       "[0, 0,                           0,                            0,           L_2*cos(phi_2(t)),           -L_2*sin(phi_2(t))]])"
      ]
     },
     "metadata": {},
     "output_type": "display_data"
    },
    {
     "data": {
      "text/latex": [
       "$\\displaystyle \\left[\\begin{matrix}\\tau_{1}\\\\\\tau_{2}\\\\F_{r}\\\\\\lambda_{1}\\\\\\lambda_{2}\\\\\\lambda_{3}\\end{matrix}\\right]$"
      ],
      "text/plain": [
       "Matrix([\n",
       "[   tau_1],\n",
       "[   tau_2],\n",
       "[     F_r],\n",
       "[lambda_1],\n",
       "[lambda_2],\n",
       "[lambda_3]])"
      ]
     },
     "metadata": {},
     "output_type": "display_data"
    }
   ],
   "source": [
    "# Virtual Work\n",
    "F = Matrix([0,-1]) \n",
    "\n",
    "dw = Matrix([xd , zd , F.dot(V_rack) ]) # *[M1,M2,Fr]\n",
    "\n",
    "dw = dw.subs([      (diff(x,t,1), xd)\\\n",
    "                   ,(diff(y,t,1), yd)\\\n",
    "                   ,(diff(z,t,1), zd)\\\n",
    "                   ,(diff(w,t,1), wd)    ])\n",
    "Dw = expand(dw)\n",
    "display(Dw)\n",
    "\n",
    "factors = [xd,yd,zd,wd]\n",
    "\n",
    "for i,dw in enumerate(Dw):\n",
    "    A = collect(dw,factors,evaluate=False)\n",
    "    \n",
    "    for j,f in enumerate(factors):\n",
    "        if f in A:\n",
    "            Rside[j,i] = A[f]\n",
    "\n",
    "display(Rside)\n",
    "\n",
    "Rside_factors = Matrix([[M1],[M2],[Fr],[lan1],[lan2],[lan3]])\n",
    "display(Rside_factors)"
   ]
  },
  {
   "cell_type": "code",
   "execution_count": 28,
   "metadata": {},
   "outputs": [
    {
     "data": {
      "text/latex": [
       "$\\displaystyle \\left[\\begin{array}{cccccccccccccc}I_{1} + L_{1}^{2} m_{2} + L_{1}^{2} m_{r} \\cos^{2}{\\left(\\alpha + \\delta_{1}{\\left(t \\right)} \\right)} & - \\frac{L_{1} L_{2} m_{2} \\sin{\\left(\\alpha + \\delta_{1}{\\left(t \\right)} + \\phi_{1}{\\left(t \\right)} \\right)}}{2} - L_{1} L_{2} m_{r} \\sin{\\left(\\phi_{1}{\\left(t \\right)} \\right)} \\cos{\\left(\\alpha + \\delta_{1}{\\left(t \\right)} \\right)} & - L_{1}^{2} m_{r} \\sin{\\left(\\alpha + \\delta_{1}{\\left(t \\right)} \\right)} \\cos{\\left(\\alpha + \\delta_{1}{\\left(t \\right)} \\right)} & - \\frac{L_{1} L_{2} m_{2} \\cos{\\left(\\alpha + \\delta_{1}{\\left(t \\right)} + \\phi_{1}{\\left(t \\right)} \\right)}}{2} - L_{1} L_{2} m_{r} \\cos{\\left(\\alpha + \\delta_{1}{\\left(t \\right)} \\right)} \\cos{\\left(\\phi_{1}{\\left(t \\right)} \\right)} & 0 & 0 & 0 & 0 & -1 & 0 & - L_{1} \\cos{\\left(\\alpha + \\delta_{1}{\\left(t \\right)} \\right)} & L_{1} \\sin{\\left(\\alpha + \\delta_{1}{\\left(t \\right)} \\right)} & 0 & - L_{1} \\cos{\\left(\\alpha + \\delta_{1}{\\left(t \\right)} \\right)}\\\\- \\frac{L_{1} L_{2} m_{2} \\sin{\\left(\\alpha + \\delta_{1}{\\left(t \\right)} + \\phi_{1}{\\left(t \\right)} \\right)}}{2} - L_{1} L_{2} m_{r} \\sin{\\left(\\phi_{1}{\\left(t \\right)} \\right)} \\cos{\\left(\\alpha + \\delta_{1}{\\left(t \\right)} \\right)} & I_{2} + \\frac{L_{2}^{2} m_{2}}{4} + L_{2}^{2} m_{r} \\sin^{2}{\\left(\\phi_{1}{\\left(t \\right)} \\right)} & - \\frac{L_{1} L_{2} m_{2} \\cos{\\left(\\alpha + \\delta_{1}{\\left(t \\right)} + \\phi_{1}{\\left(t \\right)} \\right)}}{2} + L_{1} L_{2} m_{r} \\sin{\\left(\\alpha + \\delta_{1}{\\left(t \\right)} \\right)} \\sin{\\left(\\phi_{1}{\\left(t \\right)} \\right)} & L_{2}^{2} m_{r} \\sin{\\left(\\phi_{1}{\\left(t \\right)} \\right)} \\cos{\\left(\\phi_{1}{\\left(t \\right)} \\right)} & 0 & 0 & 0 & 0 & 0 & 0 & L_{2} \\sin{\\left(\\phi_{1}{\\left(t \\right)} \\right)} & - L_{2} \\cos{\\left(\\phi_{1}{\\left(t \\right)} \\right)} & 0 & L_{2} \\sin{\\left(\\phi_{1}{\\left(t \\right)} \\right)}\\\\0 & 0 & 0 & 0 & I_{1} + L_{1}^{2} m_{2} & - \\frac{L_{1} L_{2} m_{2} \\sin{\\left(- \\alpha + \\delta_{2}{\\left(t \\right)} + \\phi_{2}{\\left(t \\right)} \\right)}}{2} & 0 & - \\frac{L_{1} L_{2} m_{2} \\cos{\\left(- \\alpha + \\delta_{2}{\\left(t \\right)} + \\phi_{2}{\\left(t \\right)} \\right)}}{2} & 0 & -1 & 0 & 0 & - L_{1} \\sin{\\left(\\alpha - \\delta_{2}{\\left(t \\right)} \\right)} & L_{1} \\cos{\\left(\\alpha - \\delta_{2}{\\left(t \\right)} \\right)}\\\\0 & 0 & 0 & 0 & - \\frac{L_{1} L_{2} m_{2} \\sin{\\left(- \\alpha + \\delta_{2}{\\left(t \\right)} + \\phi_{2}{\\left(t \\right)} \\right)}}{2} & I_{2} + \\frac{L_{2}^{2} m_{2}}{4} & - \\frac{L_{1} L_{2} m_{2} \\cos{\\left(- \\alpha + \\delta_{2}{\\left(t \\right)} + \\phi_{2}{\\left(t \\right)} \\right)}}{2} & 0 & 0 & 0 & 0 & 0 & - L_{2} \\cos{\\left(\\phi_{2}{\\left(t \\right)} \\right)} & L_{2} \\sin{\\left(\\phi_{2}{\\left(t \\right)} \\right)}\\end{array}\\right]$"
      ],
      "text/plain": [
       "Matrix([\n",
       "[                                             I_1 + L_1**2*m_2 + L_1**2*m_r*cos(alpha + delta_1(t))**2, -L_1*L_2*m_2*sin(alpha + delta_1(t) + phi_1(t))/2 - L_1*L_2*m_r*sin(phi_1(t))*cos(alpha + delta_1(t)),                                           -L_1**2*m_r*sin(alpha + delta_1(t))*cos(alpha + delta_1(t)), -L_1*L_2*m_2*cos(alpha + delta_1(t) + phi_1(t))/2 - L_1*L_2*m_r*cos(alpha + delta_1(t))*cos(phi_1(t)),                                                  0,                                                  0,                                                  0,                                                  0, -1,  0, -L_1*cos(alpha + delta_1(t)), L_1*sin(alpha + delta_1(t)),                            0, -L_1*cos(alpha + delta_1(t))],\n",
       "[-L_1*L_2*m_2*sin(alpha + delta_1(t) + phi_1(t))/2 - L_1*L_2*m_r*sin(phi_1(t))*cos(alpha + delta_1(t)),                                                      I_2 + L_2**2*m_2/4 + L_2**2*m_r*sin(phi_1(t))**2, -L_1*L_2*m_2*cos(alpha + delta_1(t) + phi_1(t))/2 + L_1*L_2*m_r*sin(alpha + delta_1(t))*sin(phi_1(t)),                                                                L_2**2*m_r*sin(phi_1(t))*cos(phi_1(t)),                                                  0,                                                  0,                                                  0,                                                  0,  0,  0,            L_2*sin(phi_1(t)),          -L_2*cos(phi_1(t)),                            0,            L_2*sin(phi_1(t))],\n",
       "[                                                                                                    0,                                                                                                     0,                                                                                                     0,                                                                                                     0,                                   I_1 + L_1**2*m_2, -L_1*L_2*m_2*sin(-alpha + delta_2(t) + phi_2(t))/2,                                                  0, -L_1*L_2*m_2*cos(-alpha + delta_2(t) + phi_2(t))/2,  0, -1,                            0,                           0, -L_1*sin(alpha - delta_2(t)),  L_1*cos(alpha - delta_2(t))],\n",
       "[                                                                                                    0,                                                                                                     0,                                                                                                     0,                                                                                                     0, -L_1*L_2*m_2*sin(-alpha + delta_2(t) + phi_2(t))/2,                                 I_2 + L_2**2*m_2/4, -L_1*L_2*m_2*cos(-alpha + delta_2(t) + phi_2(t))/2,                                                  0,  0,  0,                            0,                           0,           -L_2*cos(phi_2(t)),            L_2*sin(phi_2(t))]])"
      ]
     },
     "metadata": {},
     "output_type": "display_data"
    },
    {
     "data": {
      "text/latex": [
       "$\\displaystyle \\left[\\begin{matrix}\\ddot{\\delta}_1{\\left(t \\right)}\\\\\\ddot{\\phi}_1{\\left(t \\right)}\\\\\\dot{\\delta}_1^{2}{\\left(t \\right)}\\\\\\dot{\\phi}_1^{2}{\\left(t \\right)}\\\\\\ddot{\\delta}_2{\\left(t \\right)}\\\\\\ddot{\\phi}_2{\\left(t \\right)}\\\\\\dot{\\delta}_2^{2}{\\left(t \\right)}\\\\\\dot{\\phi}_2^{2}{\\left(t \\right)}\\\\\\tau_{1}\\\\\\tau_{2}\\\\F_{r}\\\\\\lambda_{1}\\\\\\lambda_{2}\\\\\\lambda_{3}\\end{matrix}\\right]$"
      ],
      "text/plain": [
       "Matrix([\n",
       "[  \\ddot{\\delta}_1(t)],\n",
       "[    \\ddot{\\phi}_1(t)],\n",
       "[\\dot{\\delta}_1(t)**2],\n",
       "[  \\dot{\\phi}_1(t)**2],\n",
       "[  \\ddot{\\delta}_2(t)],\n",
       "[    \\ddot{\\phi}_2(t)],\n",
       "[\\dot{\\delta}_2(t)**2],\n",
       "[  \\dot{\\phi}_2(t)**2],\n",
       "[               tau_1],\n",
       "[               tau_2],\n",
       "[                 F_r],\n",
       "[            lambda_1],\n",
       "[            lambda_2],\n",
       "[            lambda_3]])"
      ]
     },
     "metadata": {},
     "output_type": "display_data"
    }
   ],
   "source": [
    "# combile All\n",
    "\n",
    "All = Lside.row_join(-Rside)\n",
    "All_factors = Lside_factors.col_join(Rside_factors)\n",
    "\n",
    "display(All)\n",
    "display(All_factors)"
   ]
  },
  {
   "cell_type": "code",
   "execution_count": 29,
   "metadata": {},
   "outputs": [],
   "source": [
    "# a11,a21,a31,a41 = symbols(\"a_{11},a_{21},a_{31},a_{41},\")\n",
    "# r11,r21,r31,r41 = symbols(\"r_{11},r_{21},r_{31},r_{41},\")\n",
    "# r12,r22,r32,r42 = symbols(\"r_{12},r_{22},r_{32},r_{42},\")\n",
    "# r13,r23,r33,r43 = symbols(\"r_{13},r_{23},r_{33},r_{43},\")\n",
    "\n",
    "\n",
    "# A = zeros(4,4)\n",
    "# A[0,0] = -a11\n",
    "# A[1,0] = -a21\n",
    "# A[2,0] = -a31\n",
    "# A[3,0] = -a41\n",
    "\n",
    "# A[0,1] = r11\n",
    "# A[1,1] = r21\n",
    "# A[2,1] = 0\n",
    "# A[3,1] = 0\n",
    "\n",
    "# A[0,2] = 0\n",
    "# A[1,2] = 0\n",
    "# A[2,2] = r32\n",
    "# A[3,2] = r42\n",
    "\n",
    "# A[0,3] = r13\n",
    "# A[1,3] = r23\n",
    "# A[2,3] = r33\n",
    "# A[3,3] = r43\n",
    "\n",
    "\n",
    "\n",
    "\n",
    "# # A[:,1:] = All[:,[11,12,13]]*-1\n",
    "\n",
    "# display(A)\n",
    "# A = A.inv()\n",
    "\n",
    "# DEN = A[0]/(-r21*r32*r43+r21*r33*r42)\n",
    "# A = A/DEN\n",
    "\n",
    "# DEN = DEN.subs([(a31,0),(a41,0)])\n",
    "# A = A.subs([(a31,0),(a41,0)])\n",
    "\n",
    "# display(DEN)\n",
    "\n",
    "# display(A)"
   ]
  },
  {
   "cell_type": "code",
   "execution_count": 30,
   "metadata": {
    "scrolled": false
   },
   "outputs": [
    {
     "data": {
      "text/latex": [
       "$\\displaystyle \\left[\\begin{matrix}\\frac{\\left(- \\frac{L_{1} L_{2} m_{2} \\sin{\\left(\\alpha + \\delta_{1}{\\left(t \\right)} + \\phi_{1}{\\left(t \\right)} \\right)}}{2} - L_{1} L_{2} m_{r} \\sin{\\left(\\phi_{1}{\\left(t \\right)} \\right)} \\cos{\\left(\\alpha + \\delta_{1}{\\left(t \\right)} \\right)}\\right) \\sin{\\left(\\alpha + \\delta_{1}{\\left(t \\right)} \\right)}}{- L_{2} \\sin{\\left(\\alpha + \\delta_{1}{\\left(t \\right)} \\right)} \\sin{\\left(\\phi_{1}{\\left(t \\right)} \\right)} + L_{2} \\cos{\\left(\\alpha + \\delta_{1}{\\left(t \\right)} \\right)} \\cos{\\left(\\phi_{1}{\\left(t \\right)} \\right)}} + \\frac{\\left(I_{1} + L_{1}^{2} m_{2} + L_{1}^{2} m_{r} \\cos^{2}{\\left(\\alpha + \\delta_{1}{\\left(t \\right)} \\right)}\\right) \\cos{\\left(\\phi_{1}{\\left(t \\right)} \\right)}}{- L_{1} \\sin{\\left(\\alpha + \\delta_{1}{\\left(t \\right)} \\right)} \\sin{\\left(\\phi_{1}{\\left(t \\right)} \\right)} + L_{1} \\cos{\\left(\\alpha + \\delta_{1}{\\left(t \\right)} \\right)} \\cos{\\left(\\phi_{1}{\\left(t \\right)} \\right)}} & \\frac{\\left(I_{2} + \\frac{L_{2}^{2} m_{2}}{4} + L_{2}^{2} m_{r} \\sin^{2}{\\left(\\phi_{1}{\\left(t \\right)} \\right)}\\right) \\sin{\\left(\\alpha + \\delta_{1}{\\left(t \\right)} \\right)}}{- L_{2} \\sin{\\left(\\alpha + \\delta_{1}{\\left(t \\right)} \\right)} \\sin{\\left(\\phi_{1}{\\left(t \\right)} \\right)} + L_{2} \\cos{\\left(\\alpha + \\delta_{1}{\\left(t \\right)} \\right)} \\cos{\\left(\\phi_{1}{\\left(t \\right)} \\right)}} + \\frac{\\left(- \\frac{L_{1} L_{2} m_{2} \\sin{\\left(\\alpha + \\delta_{1}{\\left(t \\right)} + \\phi_{1}{\\left(t \\right)} \\right)}}{2} - L_{1} L_{2} m_{r} \\sin{\\left(\\phi_{1}{\\left(t \\right)} \\right)} \\cos{\\left(\\alpha + \\delta_{1}{\\left(t \\right)} \\right)}\\right) \\cos{\\left(\\phi_{1}{\\left(t \\right)} \\right)}}{- L_{1} \\sin{\\left(\\alpha + \\delta_{1}{\\left(t \\right)} \\right)} \\sin{\\left(\\phi_{1}{\\left(t \\right)} \\right)} + L_{1} \\cos{\\left(\\alpha + \\delta_{1}{\\left(t \\right)} \\right)} \\cos{\\left(\\phi_{1}{\\left(t \\right)} \\right)}} & - \\frac{L_{1}^{2} m_{r} \\sin{\\left(\\alpha + \\delta_{1}{\\left(t \\right)} \\right)} \\cos{\\left(\\alpha + \\delta_{1}{\\left(t \\right)} \\right)} \\cos{\\left(\\phi_{1}{\\left(t \\right)} \\right)}}{- L_{1} \\sin{\\left(\\alpha + \\delta_{1}{\\left(t \\right)} \\right)} \\sin{\\left(\\phi_{1}{\\left(t \\right)} \\right)} + L_{1} \\cos{\\left(\\alpha + \\delta_{1}{\\left(t \\right)} \\right)} \\cos{\\left(\\phi_{1}{\\left(t \\right)} \\right)}} + \\frac{\\left(- \\frac{L_{1} L_{2} m_{2} \\cos{\\left(\\alpha + \\delta_{1}{\\left(t \\right)} + \\phi_{1}{\\left(t \\right)} \\right)}}{2} + L_{1} L_{2} m_{r} \\sin{\\left(\\alpha + \\delta_{1}{\\left(t \\right)} \\right)} \\sin{\\left(\\phi_{1}{\\left(t \\right)} \\right)}\\right) \\sin{\\left(\\alpha + \\delta_{1}{\\left(t \\right)} \\right)}}{- L_{2} \\sin{\\left(\\alpha + \\delta_{1}{\\left(t \\right)} \\right)} \\sin{\\left(\\phi_{1}{\\left(t \\right)} \\right)} + L_{2} \\cos{\\left(\\alpha + \\delta_{1}{\\left(t \\right)} \\right)} \\cos{\\left(\\phi_{1}{\\left(t \\right)} \\right)}} & \\frac{L_{2}^{2} m_{r} \\sin{\\left(\\alpha + \\delta_{1}{\\left(t \\right)} \\right)} \\sin{\\left(\\phi_{1}{\\left(t \\right)} \\right)} \\cos{\\left(\\phi_{1}{\\left(t \\right)} \\right)}}{- L_{2} \\sin{\\left(\\alpha + \\delta_{1}{\\left(t \\right)} \\right)} \\sin{\\left(\\phi_{1}{\\left(t \\right)} \\right)} + L_{2} \\cos{\\left(\\alpha + \\delta_{1}{\\left(t \\right)} \\right)} \\cos{\\left(\\phi_{1}{\\left(t \\right)} \\right)}} + \\frac{\\left(- \\frac{L_{1} L_{2} m_{2} \\cos{\\left(\\alpha + \\delta_{1}{\\left(t \\right)} + \\phi_{1}{\\left(t \\right)} \\right)}}{2} - L_{1} L_{2} m_{r} \\cos{\\left(\\alpha + \\delta_{1}{\\left(t \\right)} \\right)} \\cos{\\left(\\phi_{1}{\\left(t \\right)} \\right)}\\right) \\cos{\\left(\\phi_{1}{\\left(t \\right)} \\right)}}{- L_{1} \\sin{\\left(\\alpha + \\delta_{1}{\\left(t \\right)} \\right)} \\sin{\\left(\\phi_{1}{\\left(t \\right)} \\right)} + L_{1} \\cos{\\left(\\alpha + \\delta_{1}{\\left(t \\right)} \\right)} \\cos{\\left(\\phi_{1}{\\left(t \\right)} \\right)}} & \\frac{L_{1} L_{2} m_{2} \\sin{\\left(\\alpha - \\delta_{2}{\\left(t \\right)} \\right)} \\sin{\\left(- \\alpha + \\delta_{2}{\\left(t \\right)} + \\phi_{2}{\\left(t \\right)} \\right)}}{2 \\left(- L_{2} \\sin{\\left(\\alpha - \\delta_{2}{\\left(t \\right)} \\right)} \\sin{\\left(\\phi_{2}{\\left(t \\right)} \\right)} + L_{2} \\cos{\\left(\\alpha - \\delta_{2}{\\left(t \\right)} \\right)} \\cos{\\left(\\phi_{2}{\\left(t \\right)} \\right)}\\right)} + \\frac{\\left(I_{1} + L_{1}^{2} m_{2}\\right) \\cos{\\left(\\phi_{2}{\\left(t \\right)} \\right)}}{- L_{1} \\sin{\\left(\\alpha - \\delta_{2}{\\left(t \\right)} \\right)} \\sin{\\left(\\phi_{2}{\\left(t \\right)} \\right)} + L_{1} \\cos{\\left(\\alpha - \\delta_{2}{\\left(t \\right)} \\right)} \\cos{\\left(\\phi_{2}{\\left(t \\right)} \\right)}} & - \\frac{L_{1} L_{2} m_{2} \\sin{\\left(- \\alpha + \\delta_{2}{\\left(t \\right)} + \\phi_{2}{\\left(t \\right)} \\right)} \\cos{\\left(\\phi_{2}{\\left(t \\right)} \\right)}}{2 \\left(- L_{1} \\sin{\\left(\\alpha - \\delta_{2}{\\left(t \\right)} \\right)} \\sin{\\left(\\phi_{2}{\\left(t \\right)} \\right)} + L_{1} \\cos{\\left(\\alpha - \\delta_{2}{\\left(t \\right)} \\right)} \\cos{\\left(\\phi_{2}{\\left(t \\right)} \\right)}\\right)} - \\frac{\\left(I_{2} + \\frac{L_{2}^{2} m_{2}}{4}\\right) \\sin{\\left(\\alpha - \\delta_{2}{\\left(t \\right)} \\right)}}{- L_{2} \\sin{\\left(\\alpha - \\delta_{2}{\\left(t \\right)} \\right)} \\sin{\\left(\\phi_{2}{\\left(t \\right)} \\right)} + L_{2} \\cos{\\left(\\alpha - \\delta_{2}{\\left(t \\right)} \\right)} \\cos{\\left(\\phi_{2}{\\left(t \\right)} \\right)}} & \\frac{L_{1} L_{2} m_{2} \\sin{\\left(\\alpha - \\delta_{2}{\\left(t \\right)} \\right)} \\cos{\\left(- \\alpha + \\delta_{2}{\\left(t \\right)} + \\phi_{2}{\\left(t \\right)} \\right)}}{2 \\left(- L_{2} \\sin{\\left(\\alpha - \\delta_{2}{\\left(t \\right)} \\right)} \\sin{\\left(\\phi_{2}{\\left(t \\right)} \\right)} + L_{2} \\cos{\\left(\\alpha - \\delta_{2}{\\left(t \\right)} \\right)} \\cos{\\left(\\phi_{2}{\\left(t \\right)} \\right)}\\right)} & - \\frac{L_{1} L_{2} m_{2} \\cos{\\left(- \\alpha + \\delta_{2}{\\left(t \\right)} + \\phi_{2}{\\left(t \\right)} \\right)} \\cos{\\left(\\phi_{2}{\\left(t \\right)} \\right)}}{2 \\left(- L_{1} \\sin{\\left(\\alpha - \\delta_{2}{\\left(t \\right)} \\right)} \\sin{\\left(\\phi_{2}{\\left(t \\right)} \\right)} + L_{1} \\cos{\\left(\\alpha - \\delta_{2}{\\left(t \\right)} \\right)} \\cos{\\left(\\phi_{2}{\\left(t \\right)} \\right)}\\right)} & - \\frac{\\cos{\\left(\\phi_{1}{\\left(t \\right)} \\right)}}{- L_{1} \\sin{\\left(\\alpha + \\delta_{1}{\\left(t \\right)} \\right)} \\sin{\\left(\\phi_{1}{\\left(t \\right)} \\right)} + L_{1} \\cos{\\left(\\alpha + \\delta_{1}{\\left(t \\right)} \\right)} \\cos{\\left(\\phi_{1}{\\left(t \\right)} \\right)}} & - \\frac{\\cos{\\left(\\phi_{2}{\\left(t \\right)} \\right)}}{- L_{1} \\sin{\\left(\\alpha - \\delta_{2}{\\left(t \\right)} \\right)} \\sin{\\left(\\phi_{2}{\\left(t \\right)} \\right)} + L_{1} \\cos{\\left(\\alpha - \\delta_{2}{\\left(t \\right)} \\right)} \\cos{\\left(\\phi_{2}{\\left(t \\right)} \\right)}}\\end{matrix}\\right]$"
      ],
      "text/plain": [
       "Matrix([[(-L_1*L_2*m_2*sin(alpha + delta_1(t) + phi_1(t))/2 - L_1*L_2*m_r*sin(phi_1(t))*cos(alpha + delta_1(t)))*sin(alpha + delta_1(t))/(-L_2*sin(alpha + delta_1(t))*sin(phi_1(t)) + L_2*cos(alpha + delta_1(t))*cos(phi_1(t))) + (I_1 + L_1**2*m_2 + L_1**2*m_r*cos(alpha + delta_1(t))**2)*cos(phi_1(t))/(-L_1*sin(alpha + delta_1(t))*sin(phi_1(t)) + L_1*cos(alpha + delta_1(t))*cos(phi_1(t))), (I_2 + L_2**2*m_2/4 + L_2**2*m_r*sin(phi_1(t))**2)*sin(alpha + delta_1(t))/(-L_2*sin(alpha + delta_1(t))*sin(phi_1(t)) + L_2*cos(alpha + delta_1(t))*cos(phi_1(t))) + (-L_1*L_2*m_2*sin(alpha + delta_1(t) + phi_1(t))/2 - L_1*L_2*m_r*sin(phi_1(t))*cos(alpha + delta_1(t)))*cos(phi_1(t))/(-L_1*sin(alpha + delta_1(t))*sin(phi_1(t)) + L_1*cos(alpha + delta_1(t))*cos(phi_1(t))), -L_1**2*m_r*sin(alpha + delta_1(t))*cos(alpha + delta_1(t))*cos(phi_1(t))/(-L_1*sin(alpha + delta_1(t))*sin(phi_1(t)) + L_1*cos(alpha + delta_1(t))*cos(phi_1(t))) + (-L_1*L_2*m_2*cos(alpha + delta_1(t) + phi_1(t))/2 + L_1*L_2*m_r*sin(alpha + delta_1(t))*sin(phi_1(t)))*sin(alpha + delta_1(t))/(-L_2*sin(alpha + delta_1(t))*sin(phi_1(t)) + L_2*cos(alpha + delta_1(t))*cos(phi_1(t))), L_2**2*m_r*sin(alpha + delta_1(t))*sin(phi_1(t))*cos(phi_1(t))/(-L_2*sin(alpha + delta_1(t))*sin(phi_1(t)) + L_2*cos(alpha + delta_1(t))*cos(phi_1(t))) + (-L_1*L_2*m_2*cos(alpha + delta_1(t) + phi_1(t))/2 - L_1*L_2*m_r*cos(alpha + delta_1(t))*cos(phi_1(t)))*cos(phi_1(t))/(-L_1*sin(alpha + delta_1(t))*sin(phi_1(t)) + L_1*cos(alpha + delta_1(t))*cos(phi_1(t))), L_1*L_2*m_2*sin(alpha - delta_2(t))*sin(-alpha + delta_2(t) + phi_2(t))/(2*(-L_2*sin(alpha - delta_2(t))*sin(phi_2(t)) + L_2*cos(alpha - delta_2(t))*cos(phi_2(t)))) + (I_1 + L_1**2*m_2)*cos(phi_2(t))/(-L_1*sin(alpha - delta_2(t))*sin(phi_2(t)) + L_1*cos(alpha - delta_2(t))*cos(phi_2(t))), -L_1*L_2*m_2*sin(-alpha + delta_2(t) + phi_2(t))*cos(phi_2(t))/(2*(-L_1*sin(alpha - delta_2(t))*sin(phi_2(t)) + L_1*cos(alpha - delta_2(t))*cos(phi_2(t)))) - (I_2 + L_2**2*m_2/4)*sin(alpha - delta_2(t))/(-L_2*sin(alpha - delta_2(t))*sin(phi_2(t)) + L_2*cos(alpha - delta_2(t))*cos(phi_2(t))), L_1*L_2*m_2*sin(alpha - delta_2(t))*cos(-alpha + delta_2(t) + phi_2(t))/(2*(-L_2*sin(alpha - delta_2(t))*sin(phi_2(t)) + L_2*cos(alpha - delta_2(t))*cos(phi_2(t)))), -L_1*L_2*m_2*cos(-alpha + delta_2(t) + phi_2(t))*cos(phi_2(t))/(2*(-L_1*sin(alpha - delta_2(t))*sin(phi_2(t)) + L_1*cos(alpha - delta_2(t))*cos(phi_2(t)))), -cos(phi_1(t))/(-L_1*sin(alpha + delta_1(t))*sin(phi_1(t)) + L_1*cos(alpha + delta_1(t))*cos(phi_1(t))), -cos(phi_2(t))/(-L_1*sin(alpha - delta_2(t))*sin(phi_2(t)) + L_1*cos(alpha - delta_2(t))*cos(phi_2(t)))]])"
      ]
     },
     "metadata": {},
     "output_type": "display_data"
    },
    {
     "data": {
      "text/latex": [
       "$\\displaystyle \\left[\\begin{matrix}- \\frac{2 L_{1} \\left(I_{2} + \\frac{L_{2}^{2} m_{2}}{4} + L_{2}^{2} m_{r} \\sin^{2}{\\left(\\phi_{1}{\\left(t \\right)} \\right)}\\right) \\sin{\\left(\\alpha + \\delta_{1}{\\left(t \\right)} \\right)}}{2 I_{1} L_{2} \\cos{\\left(\\phi_{1}{\\left(t \\right)} \\right)} - L_{1}^{2} L_{2} m_{2} \\sin{\\left(\\alpha + \\delta_{1}{\\left(t \\right)} \\right)} \\sin{\\left(\\alpha + \\delta_{1}{\\left(t \\right)} + \\phi_{1}{\\left(t \\right)} \\right)} + 2 L_{1}^{2} L_{2} m_{2} \\cos{\\left(\\phi_{1}{\\left(t \\right)} \\right)} - 2 L_{1}^{2} L_{2} m_{r} \\sin{\\left(\\alpha + \\delta_{1}{\\left(t \\right)} \\right)} \\sin{\\left(\\phi_{1}{\\left(t \\right)} \\right)} \\cos{\\left(\\alpha + \\delta_{1}{\\left(t \\right)} \\right)} + 2 L_{1}^{2} L_{2} m_{r} \\cos^{2}{\\left(\\alpha + \\delta_{1}{\\left(t \\right)} \\right)} \\cos{\\left(\\phi_{1}{\\left(t \\right)} \\right)}} - \\frac{2 \\left(- \\frac{L_{1} L_{2} m_{2} \\sin{\\left(\\alpha + \\delta_{1}{\\left(t \\right)} + \\phi_{1}{\\left(t \\right)} \\right)}}{2} - L_{1} L_{2} m_{r} \\sin{\\left(\\phi_{1}{\\left(t \\right)} \\right)} \\cos{\\left(\\alpha + \\delta_{1}{\\left(t \\right)} \\right)}\\right) \\cos{\\left(\\phi_{1}{\\left(t \\right)} \\right)}}{2 I_{1} \\cos{\\left(\\phi_{1}{\\left(t \\right)} \\right)} - L_{1}^{2} m_{2} \\sin{\\left(\\alpha + \\delta_{1}{\\left(t \\right)} \\right)} \\sin{\\left(\\alpha + \\delta_{1}{\\left(t \\right)} + \\phi_{1}{\\left(t \\right)} \\right)} + 2 L_{1}^{2} m_{2} \\cos{\\left(\\phi_{1}{\\left(t \\right)} \\right)} - 2 L_{1}^{2} m_{r} \\sin{\\left(\\alpha + \\delta_{1}{\\left(t \\right)} \\right)} \\sin{\\left(\\phi_{1}{\\left(t \\right)} \\right)} \\cos{\\left(\\alpha + \\delta_{1}{\\left(t \\right)} \\right)} + 2 L_{1}^{2} m_{r} \\cos^{2}{\\left(\\alpha + \\delta_{1}{\\left(t \\right)} \\right)} \\cos{\\left(\\phi_{1}{\\left(t \\right)} \\right)}} & \\frac{2 L_{1}^{2} m_{r} \\sin{\\left(\\alpha + \\delta_{1}{\\left(t \\right)} \\right)} \\cos{\\left(\\alpha + \\delta_{1}{\\left(t \\right)} \\right)} \\cos{\\left(\\phi_{1}{\\left(t \\right)} \\right)}}{2 I_{1} \\cos{\\left(\\phi_{1}{\\left(t \\right)} \\right)} - L_{1}^{2} m_{2} \\sin{\\left(\\alpha + \\delta_{1}{\\left(t \\right)} \\right)} \\sin{\\left(\\alpha + \\delta_{1}{\\left(t \\right)} + \\phi_{1}{\\left(t \\right)} \\right)} + 2 L_{1}^{2} m_{2} \\cos{\\left(\\phi_{1}{\\left(t \\right)} \\right)} - 2 L_{1}^{2} m_{r} \\sin{\\left(\\alpha + \\delta_{1}{\\left(t \\right)} \\right)} \\sin{\\left(\\phi_{1}{\\left(t \\right)} \\right)} \\cos{\\left(\\alpha + \\delta_{1}{\\left(t \\right)} \\right)} + 2 L_{1}^{2} m_{r} \\cos^{2}{\\left(\\alpha + \\delta_{1}{\\left(t \\right)} \\right)} \\cos{\\left(\\phi_{1}{\\left(t \\right)} \\right)}} - \\frac{2 L_{1} \\left(- \\frac{L_{1} L_{2} m_{2} \\cos{\\left(\\alpha + \\delta_{1}{\\left(t \\right)} + \\phi_{1}{\\left(t \\right)} \\right)}}{2} + L_{1} L_{2} m_{r} \\sin{\\left(\\alpha + \\delta_{1}{\\left(t \\right)} \\right)} \\sin{\\left(\\phi_{1}{\\left(t \\right)} \\right)}\\right) \\sin{\\left(\\alpha + \\delta_{1}{\\left(t \\right)} \\right)}}{2 I_{1} L_{2} \\cos{\\left(\\phi_{1}{\\left(t \\right)} \\right)} - L_{1}^{2} L_{2} m_{2} \\sin{\\left(\\alpha + \\delta_{1}{\\left(t \\right)} \\right)} \\sin{\\left(\\alpha + \\delta_{1}{\\left(t \\right)} + \\phi_{1}{\\left(t \\right)} \\right)} + 2 L_{1}^{2} L_{2} m_{2} \\cos{\\left(\\phi_{1}{\\left(t \\right)} \\right)} - 2 L_{1}^{2} L_{2} m_{r} \\sin{\\left(\\alpha + \\delta_{1}{\\left(t \\right)} \\right)} \\sin{\\left(\\phi_{1}{\\left(t \\right)} \\right)} \\cos{\\left(\\alpha + \\delta_{1}{\\left(t \\right)} \\right)} + 2 L_{1}^{2} L_{2} m_{r} \\cos^{2}{\\left(\\alpha + \\delta_{1}{\\left(t \\right)} \\right)} \\cos{\\left(\\phi_{1}{\\left(t \\right)} \\right)}} & - \\frac{2 L_{1} L_{2}^{2} m_{r} \\sin{\\left(\\alpha + \\delta_{1}{\\left(t \\right)} \\right)} \\sin{\\left(\\phi_{1}{\\left(t \\right)} \\right)} \\cos{\\left(\\phi_{1}{\\left(t \\right)} \\right)}}{2 I_{1} L_{2} \\cos{\\left(\\phi_{1}{\\left(t \\right)} \\right)} - L_{1}^{2} L_{2} m_{2} \\sin{\\left(\\alpha + \\delta_{1}{\\left(t \\right)} \\right)} \\sin{\\left(\\alpha + \\delta_{1}{\\left(t \\right)} + \\phi_{1}{\\left(t \\right)} \\right)} + 2 L_{1}^{2} L_{2} m_{2} \\cos{\\left(\\phi_{1}{\\left(t \\right)} \\right)} - 2 L_{1}^{2} L_{2} m_{r} \\sin{\\left(\\alpha + \\delta_{1}{\\left(t \\right)} \\right)} \\sin{\\left(\\phi_{1}{\\left(t \\right)} \\right)} \\cos{\\left(\\alpha + \\delta_{1}{\\left(t \\right)} \\right)} + 2 L_{1}^{2} L_{2} m_{r} \\cos^{2}{\\left(\\alpha + \\delta_{1}{\\left(t \\right)} \\right)} \\cos{\\left(\\phi_{1}{\\left(t \\right)} \\right)}} - \\frac{2 \\left(- \\frac{L_{1} L_{2} m_{2} \\cos{\\left(\\alpha + \\delta_{1}{\\left(t \\right)} + \\phi_{1}{\\left(t \\right)} \\right)}}{2} - L_{1} L_{2} m_{r} \\cos{\\left(\\alpha + \\delta_{1}{\\left(t \\right)} \\right)} \\cos{\\left(\\phi_{1}{\\left(t \\right)} \\right)}\\right) \\cos{\\left(\\phi_{1}{\\left(t \\right)} \\right)}}{2 I_{1} \\cos{\\left(\\phi_{1}{\\left(t \\right)} \\right)} - L_{1}^{2} m_{2} \\sin{\\left(\\alpha + \\delta_{1}{\\left(t \\right)} \\right)} \\sin{\\left(\\alpha + \\delta_{1}{\\left(t \\right)} + \\phi_{1}{\\left(t \\right)} \\right)} + 2 L_{1}^{2} m_{2} \\cos{\\left(\\phi_{1}{\\left(t \\right)} \\right)} - 2 L_{1}^{2} m_{r} \\sin{\\left(\\alpha + \\delta_{1}{\\left(t \\right)} \\right)} \\sin{\\left(\\phi_{1}{\\left(t \\right)} \\right)} \\cos{\\left(\\alpha + \\delta_{1}{\\left(t \\right)} \\right)} + 2 L_{1}^{2} m_{r} \\cos^{2}{\\left(\\alpha + \\delta_{1}{\\left(t \\right)} \\right)} \\cos{\\left(\\phi_{1}{\\left(t \\right)} \\right)}} & - \\frac{L_{1} L_{2} m_{2} \\left(- 2 L_{1} \\sin{\\left(\\alpha + \\delta_{1}{\\left(t \\right)} \\right)} \\sin{\\left(\\alpha - \\delta_{2}{\\left(t \\right)} \\right)} \\sin{\\left(\\phi_{1}{\\left(t \\right)} \\right)} + 2 L_{1} \\sin{\\left(\\alpha - \\delta_{2}{\\left(t \\right)} \\right)} \\cos{\\left(\\alpha + \\delta_{1}{\\left(t \\right)} \\right)} \\cos{\\left(\\phi_{1}{\\left(t \\right)} \\right)}\\right) \\sin{\\left(- \\alpha + \\delta_{2}{\\left(t \\right)} + \\phi_{2}{\\left(t \\right)} \\right)}}{2 \\left(- 2 I_{1} L_{2} \\sin{\\left(\\alpha - \\delta_{2}{\\left(t \\right)} \\right)} \\sin{\\left(\\phi_{2}{\\left(t \\right)} \\right)} \\cos{\\left(\\phi_{1}{\\left(t \\right)} \\right)} + 2 I_{1} L_{2} \\cos{\\left(\\alpha - \\delta_{2}{\\left(t \\right)} \\right)} \\cos{\\left(\\phi_{1}{\\left(t \\right)} \\right)} \\cos{\\left(\\phi_{2}{\\left(t \\right)} \\right)} + L_{1}^{2} L_{2} m_{2} \\sin{\\left(\\alpha + \\delta_{1}{\\left(t \\right)} \\right)} \\sin{\\left(\\alpha - \\delta_{2}{\\left(t \\right)} \\right)} \\sin{\\left(\\alpha + \\delta_{1}{\\left(t \\right)} + \\phi_{1}{\\left(t \\right)} \\right)} \\sin{\\left(\\phi_{2}{\\left(t \\right)} \\right)} - L_{1}^{2} L_{2} m_{2} \\sin{\\left(\\alpha + \\delta_{1}{\\left(t \\right)} \\right)} \\sin{\\left(\\alpha + \\delta_{1}{\\left(t \\right)} + \\phi_{1}{\\left(t \\right)} \\right)} \\cos{\\left(\\alpha - \\delta_{2}{\\left(t \\right)} \\right)} \\cos{\\left(\\phi_{2}{\\left(t \\right)} \\right)} - 2 L_{1}^{2} L_{2} m_{2} \\sin{\\left(\\alpha - \\delta_{2}{\\left(t \\right)} \\right)} \\sin{\\left(\\phi_{2}{\\left(t \\right)} \\right)} \\cos{\\left(\\phi_{1}{\\left(t \\right)} \\right)} + 2 L_{1}^{2} L_{2} m_{2} \\cos{\\left(\\alpha - \\delta_{2}{\\left(t \\right)} \\right)} \\cos{\\left(\\phi_{1}{\\left(t \\right)} \\right)} \\cos{\\left(\\phi_{2}{\\left(t \\right)} \\right)} + 2 L_{1}^{2} L_{2} m_{r} \\sin{\\left(\\alpha + \\delta_{1}{\\left(t \\right)} \\right)} \\sin{\\left(\\alpha - \\delta_{2}{\\left(t \\right)} \\right)} \\sin{\\left(\\phi_{1}{\\left(t \\right)} \\right)} \\sin{\\left(\\phi_{2}{\\left(t \\right)} \\right)} \\cos{\\left(\\alpha + \\delta_{1}{\\left(t \\right)} \\right)} - 2 L_{1}^{2} L_{2} m_{r} \\sin{\\left(\\alpha + \\delta_{1}{\\left(t \\right)} \\right)} \\sin{\\left(\\phi_{1}{\\left(t \\right)} \\right)} \\cos{\\left(\\alpha + \\delta_{1}{\\left(t \\right)} \\right)} \\cos{\\left(\\alpha - \\delta_{2}{\\left(t \\right)} \\right)} \\cos{\\left(\\phi_{2}{\\left(t \\right)} \\right)} - 2 L_{1}^{2} L_{2} m_{r} \\sin{\\left(\\alpha - \\delta_{2}{\\left(t \\right)} \\right)} \\sin{\\left(\\phi_{2}{\\left(t \\right)} \\right)} \\cos^{2}{\\left(\\alpha + \\delta_{1}{\\left(t \\right)} \\right)} \\cos{\\left(\\phi_{1}{\\left(t \\right)} \\right)} + 2 L_{1}^{2} L_{2} m_{r} \\cos^{2}{\\left(\\alpha + \\delta_{1}{\\left(t \\right)} \\right)} \\cos{\\left(\\alpha - \\delta_{2}{\\left(t \\right)} \\right)} \\cos{\\left(\\phi_{1}{\\left(t \\right)} \\right)} \\cos{\\left(\\phi_{2}{\\left(t \\right)} \\right)}\\right)} + \\frac{\\left(I_{1} + L_{1}^{2} m_{2}\\right) \\left(2 \\sin{\\left(\\alpha + \\delta_{1}{\\left(t \\right)} \\right)} \\sin{\\left(\\phi_{1}{\\left(t \\right)} \\right)} \\cos{\\left(\\phi_{2}{\\left(t \\right)} \\right)} - 2 \\cos{\\left(\\alpha + \\delta_{1}{\\left(t \\right)} \\right)} \\cos{\\left(\\phi_{1}{\\left(t \\right)} \\right)} \\cos{\\left(\\phi_{2}{\\left(t \\right)} \\right)}\\right)}{- 2 I_{1} \\sin{\\left(\\alpha - \\delta_{2}{\\left(t \\right)} \\right)} \\sin{\\left(\\phi_{2}{\\left(t \\right)} \\right)} \\cos{\\left(\\phi_{1}{\\left(t \\right)} \\right)} + 2 I_{1} \\cos{\\left(\\alpha - \\delta_{2}{\\left(t \\right)} \\right)} \\cos{\\left(\\phi_{1}{\\left(t \\right)} \\right)} \\cos{\\left(\\phi_{2}{\\left(t \\right)} \\right)} + L_{1}^{2} m_{2} \\sin{\\left(\\alpha + \\delta_{1}{\\left(t \\right)} \\right)} \\sin{\\left(\\alpha - \\delta_{2}{\\left(t \\right)} \\right)} \\sin{\\left(\\alpha + \\delta_{1}{\\left(t \\right)} + \\phi_{1}{\\left(t \\right)} \\right)} \\sin{\\left(\\phi_{2}{\\left(t \\right)} \\right)} - L_{1}^{2} m_{2} \\sin{\\left(\\alpha + \\delta_{1}{\\left(t \\right)} \\right)} \\sin{\\left(\\alpha + \\delta_{1}{\\left(t \\right)} + \\phi_{1}{\\left(t \\right)} \\right)} \\cos{\\left(\\alpha - \\delta_{2}{\\left(t \\right)} \\right)} \\cos{\\left(\\phi_{2}{\\left(t \\right)} \\right)} - 2 L_{1}^{2} m_{2} \\sin{\\left(\\alpha - \\delta_{2}{\\left(t \\right)} \\right)} \\sin{\\left(\\phi_{2}{\\left(t \\right)} \\right)} \\cos{\\left(\\phi_{1}{\\left(t \\right)} \\right)} + 2 L_{1}^{2} m_{2} \\cos{\\left(\\alpha - \\delta_{2}{\\left(t \\right)} \\right)} \\cos{\\left(\\phi_{1}{\\left(t \\right)} \\right)} \\cos{\\left(\\phi_{2}{\\left(t \\right)} \\right)} + 2 L_{1}^{2} m_{r} \\sin{\\left(\\alpha + \\delta_{1}{\\left(t \\right)} \\right)} \\sin{\\left(\\alpha - \\delta_{2}{\\left(t \\right)} \\right)} \\sin{\\left(\\phi_{1}{\\left(t \\right)} \\right)} \\sin{\\left(\\phi_{2}{\\left(t \\right)} \\right)} \\cos{\\left(\\alpha + \\delta_{1}{\\left(t \\right)} \\right)} - 2 L_{1}^{2} m_{r} \\sin{\\left(\\alpha + \\delta_{1}{\\left(t \\right)} \\right)} \\sin{\\left(\\phi_{1}{\\left(t \\right)} \\right)} \\cos{\\left(\\alpha + \\delta_{1}{\\left(t \\right)} \\right)} \\cos{\\left(\\alpha - \\delta_{2}{\\left(t \\right)} \\right)} \\cos{\\left(\\phi_{2}{\\left(t \\right)} \\right)} - 2 L_{1}^{2} m_{r} \\sin{\\left(\\alpha - \\delta_{2}{\\left(t \\right)} \\right)} \\sin{\\left(\\phi_{2}{\\left(t \\right)} \\right)} \\cos^{2}{\\left(\\alpha + \\delta_{1}{\\left(t \\right)} \\right)} \\cos{\\left(\\phi_{1}{\\left(t \\right)} \\right)} + 2 L_{1}^{2} m_{r} \\cos^{2}{\\left(\\alpha + \\delta_{1}{\\left(t \\right)} \\right)} \\cos{\\left(\\alpha - \\delta_{2}{\\left(t \\right)} \\right)} \\cos{\\left(\\phi_{1}{\\left(t \\right)} \\right)} \\cos{\\left(\\phi_{2}{\\left(t \\right)} \\right)}} & - \\frac{L_{1} L_{2} m_{2} \\left(2 \\sin{\\left(\\alpha + \\delta_{1}{\\left(t \\right)} \\right)} \\sin{\\left(\\phi_{1}{\\left(t \\right)} \\right)} \\cos{\\left(\\phi_{2}{\\left(t \\right)} \\right)} - 2 \\cos{\\left(\\alpha + \\delta_{1}{\\left(t \\right)} \\right)} \\cos{\\left(\\phi_{1}{\\left(t \\right)} \\right)} \\cos{\\left(\\phi_{2}{\\left(t \\right)} \\right)}\\right) \\sin{\\left(- \\alpha + \\delta_{2}{\\left(t \\right)} + \\phi_{2}{\\left(t \\right)} \\right)}}{2 \\left(- 2 I_{1} \\sin{\\left(\\alpha - \\delta_{2}{\\left(t \\right)} \\right)} \\sin{\\left(\\phi_{2}{\\left(t \\right)} \\right)} \\cos{\\left(\\phi_{1}{\\left(t \\right)} \\right)} + 2 I_{1} \\cos{\\left(\\alpha - \\delta_{2}{\\left(t \\right)} \\right)} \\cos{\\left(\\phi_{1}{\\left(t \\right)} \\right)} \\cos{\\left(\\phi_{2}{\\left(t \\right)} \\right)} + L_{1}^{2} m_{2} \\sin{\\left(\\alpha + \\delta_{1}{\\left(t \\right)} \\right)} \\sin{\\left(\\alpha - \\delta_{2}{\\left(t \\right)} \\right)} \\sin{\\left(\\alpha + \\delta_{1}{\\left(t \\right)} + \\phi_{1}{\\left(t \\right)} \\right)} \\sin{\\left(\\phi_{2}{\\left(t \\right)} \\right)} - L_{1}^{2} m_{2} \\sin{\\left(\\alpha + \\delta_{1}{\\left(t \\right)} \\right)} \\sin{\\left(\\alpha + \\delta_{1}{\\left(t \\right)} + \\phi_{1}{\\left(t \\right)} \\right)} \\cos{\\left(\\alpha - \\delta_{2}{\\left(t \\right)} \\right)} \\cos{\\left(\\phi_{2}{\\left(t \\right)} \\right)} - 2 L_{1}^{2} m_{2} \\sin{\\left(\\alpha - \\delta_{2}{\\left(t \\right)} \\right)} \\sin{\\left(\\phi_{2}{\\left(t \\right)} \\right)} \\cos{\\left(\\phi_{1}{\\left(t \\right)} \\right)} + 2 L_{1}^{2} m_{2} \\cos{\\left(\\alpha - \\delta_{2}{\\left(t \\right)} \\right)} \\cos{\\left(\\phi_{1}{\\left(t \\right)} \\right)} \\cos{\\left(\\phi_{2}{\\left(t \\right)} \\right)} + 2 L_{1}^{2} m_{r} \\sin{\\left(\\alpha + \\delta_{1}{\\left(t \\right)} \\right)} \\sin{\\left(\\alpha - \\delta_{2}{\\left(t \\right)} \\right)} \\sin{\\left(\\phi_{1}{\\left(t \\right)} \\right)} \\sin{\\left(\\phi_{2}{\\left(t \\right)} \\right)} \\cos{\\left(\\alpha + \\delta_{1}{\\left(t \\right)} \\right)} - 2 L_{1}^{2} m_{r} \\sin{\\left(\\alpha + \\delta_{1}{\\left(t \\right)} \\right)} \\sin{\\left(\\phi_{1}{\\left(t \\right)} \\right)} \\cos{\\left(\\alpha + \\delta_{1}{\\left(t \\right)} \\right)} \\cos{\\left(\\alpha - \\delta_{2}{\\left(t \\right)} \\right)} \\cos{\\left(\\phi_{2}{\\left(t \\right)} \\right)} - 2 L_{1}^{2} m_{r} \\sin{\\left(\\alpha - \\delta_{2}{\\left(t \\right)} \\right)} \\sin{\\left(\\phi_{2}{\\left(t \\right)} \\right)} \\cos^{2}{\\left(\\alpha + \\delta_{1}{\\left(t \\right)} \\right)} \\cos{\\left(\\phi_{1}{\\left(t \\right)} \\right)} + 2 L_{1}^{2} m_{r} \\cos^{2}{\\left(\\alpha + \\delta_{1}{\\left(t \\right)} \\right)} \\cos{\\left(\\alpha - \\delta_{2}{\\left(t \\right)} \\right)} \\cos{\\left(\\phi_{1}{\\left(t \\right)} \\right)} \\cos{\\left(\\phi_{2}{\\left(t \\right)} \\right)}\\right)} + \\frac{\\left(I_{2} + \\frac{L_{2}^{2} m_{2}}{4}\\right) \\left(- 2 L_{1} \\sin{\\left(\\alpha + \\delta_{1}{\\left(t \\right)} \\right)} \\sin{\\left(\\alpha - \\delta_{2}{\\left(t \\right)} \\right)} \\sin{\\left(\\phi_{1}{\\left(t \\right)} \\right)} + 2 L_{1} \\sin{\\left(\\alpha - \\delta_{2}{\\left(t \\right)} \\right)} \\cos{\\left(\\alpha + \\delta_{1}{\\left(t \\right)} \\right)} \\cos{\\left(\\phi_{1}{\\left(t \\right)} \\right)}\\right)}{- 2 I_{1} L_{2} \\sin{\\left(\\alpha - \\delta_{2}{\\left(t \\right)} \\right)} \\sin{\\left(\\phi_{2}{\\left(t \\right)} \\right)} \\cos{\\left(\\phi_{1}{\\left(t \\right)} \\right)} + 2 I_{1} L_{2} \\cos{\\left(\\alpha - \\delta_{2}{\\left(t \\right)} \\right)} \\cos{\\left(\\phi_{1}{\\left(t \\right)} \\right)} \\cos{\\left(\\phi_{2}{\\left(t \\right)} \\right)} + L_{1}^{2} L_{2} m_{2} \\sin{\\left(\\alpha + \\delta_{1}{\\left(t \\right)} \\right)} \\sin{\\left(\\alpha - \\delta_{2}{\\left(t \\right)} \\right)} \\sin{\\left(\\alpha + \\delta_{1}{\\left(t \\right)} + \\phi_{1}{\\left(t \\right)} \\right)} \\sin{\\left(\\phi_{2}{\\left(t \\right)} \\right)} - L_{1}^{2} L_{2} m_{2} \\sin{\\left(\\alpha + \\delta_{1}{\\left(t \\right)} \\right)} \\sin{\\left(\\alpha + \\delta_{1}{\\left(t \\right)} + \\phi_{1}{\\left(t \\right)} \\right)} \\cos{\\left(\\alpha - \\delta_{2}{\\left(t \\right)} \\right)} \\cos{\\left(\\phi_{2}{\\left(t \\right)} \\right)} - 2 L_{1}^{2} L_{2} m_{2} \\sin{\\left(\\alpha - \\delta_{2}{\\left(t \\right)} \\right)} \\sin{\\left(\\phi_{2}{\\left(t \\right)} \\right)} \\cos{\\left(\\phi_{1}{\\left(t \\right)} \\right)} + 2 L_{1}^{2} L_{2} m_{2} \\cos{\\left(\\alpha - \\delta_{2}{\\left(t \\right)} \\right)} \\cos{\\left(\\phi_{1}{\\left(t \\right)} \\right)} \\cos{\\left(\\phi_{2}{\\left(t \\right)} \\right)} + 2 L_{1}^{2} L_{2} m_{r} \\sin{\\left(\\alpha + \\delta_{1}{\\left(t \\right)} \\right)} \\sin{\\left(\\alpha - \\delta_{2}{\\left(t \\right)} \\right)} \\sin{\\left(\\phi_{1}{\\left(t \\right)} \\right)} \\sin{\\left(\\phi_{2}{\\left(t \\right)} \\right)} \\cos{\\left(\\alpha + \\delta_{1}{\\left(t \\right)} \\right)} - 2 L_{1}^{2} L_{2} m_{r} \\sin{\\left(\\alpha + \\delta_{1}{\\left(t \\right)} \\right)} \\sin{\\left(\\phi_{1}{\\left(t \\right)} \\right)} \\cos{\\left(\\alpha + \\delta_{1}{\\left(t \\right)} \\right)} \\cos{\\left(\\alpha - \\delta_{2}{\\left(t \\right)} \\right)} \\cos{\\left(\\phi_{2}{\\left(t \\right)} \\right)} - 2 L_{1}^{2} L_{2} m_{r} \\sin{\\left(\\alpha - \\delta_{2}{\\left(t \\right)} \\right)} \\sin{\\left(\\phi_{2}{\\left(t \\right)} \\right)} \\cos^{2}{\\left(\\alpha + \\delta_{1}{\\left(t \\right)} \\right)} \\cos{\\left(\\phi_{1}{\\left(t \\right)} \\right)} + 2 L_{1}^{2} L_{2} m_{r} \\cos^{2}{\\left(\\alpha + \\delta_{1}{\\left(t \\right)} \\right)} \\cos{\\left(\\alpha - \\delta_{2}{\\left(t \\right)} \\right)} \\cos{\\left(\\phi_{1}{\\left(t \\right)} \\right)} \\cos{\\left(\\phi_{2}{\\left(t \\right)} \\right)}} & - \\frac{L_{1} L_{2} m_{2} \\left(- 2 L_{1} \\sin{\\left(\\alpha + \\delta_{1}{\\left(t \\right)} \\right)} \\sin{\\left(\\alpha - \\delta_{2}{\\left(t \\right)} \\right)} \\sin{\\left(\\phi_{1}{\\left(t \\right)} \\right)} + 2 L_{1} \\sin{\\left(\\alpha - \\delta_{2}{\\left(t \\right)} \\right)} \\cos{\\left(\\alpha + \\delta_{1}{\\left(t \\right)} \\right)} \\cos{\\left(\\phi_{1}{\\left(t \\right)} \\right)}\\right) \\cos{\\left(- \\alpha + \\delta_{2}{\\left(t \\right)} + \\phi_{2}{\\left(t \\right)} \\right)}}{2 \\left(- 2 I_{1} L_{2} \\sin{\\left(\\alpha - \\delta_{2}{\\left(t \\right)} \\right)} \\sin{\\left(\\phi_{2}{\\left(t \\right)} \\right)} \\cos{\\left(\\phi_{1}{\\left(t \\right)} \\right)} + 2 I_{1} L_{2} \\cos{\\left(\\alpha - \\delta_{2}{\\left(t \\right)} \\right)} \\cos{\\left(\\phi_{1}{\\left(t \\right)} \\right)} \\cos{\\left(\\phi_{2}{\\left(t \\right)} \\right)} + L_{1}^{2} L_{2} m_{2} \\sin{\\left(\\alpha + \\delta_{1}{\\left(t \\right)} \\right)} \\sin{\\left(\\alpha - \\delta_{2}{\\left(t \\right)} \\right)} \\sin{\\left(\\alpha + \\delta_{1}{\\left(t \\right)} + \\phi_{1}{\\left(t \\right)} \\right)} \\sin{\\left(\\phi_{2}{\\left(t \\right)} \\right)} - L_{1}^{2} L_{2} m_{2} \\sin{\\left(\\alpha + \\delta_{1}{\\left(t \\right)} \\right)} \\sin{\\left(\\alpha + \\delta_{1}{\\left(t \\right)} + \\phi_{1}{\\left(t \\right)} \\right)} \\cos{\\left(\\alpha - \\delta_{2}{\\left(t \\right)} \\right)} \\cos{\\left(\\phi_{2}{\\left(t \\right)} \\right)} - 2 L_{1}^{2} L_{2} m_{2} \\sin{\\left(\\alpha - \\delta_{2}{\\left(t \\right)} \\right)} \\sin{\\left(\\phi_{2}{\\left(t \\right)} \\right)} \\cos{\\left(\\phi_{1}{\\left(t \\right)} \\right)} + 2 L_{1}^{2} L_{2} m_{2} \\cos{\\left(\\alpha - \\delta_{2}{\\left(t \\right)} \\right)} \\cos{\\left(\\phi_{1}{\\left(t \\right)} \\right)} \\cos{\\left(\\phi_{2}{\\left(t \\right)} \\right)} + 2 L_{1}^{2} L_{2} m_{r} \\sin{\\left(\\alpha + \\delta_{1}{\\left(t \\right)} \\right)} \\sin{\\left(\\alpha - \\delta_{2}{\\left(t \\right)} \\right)} \\sin{\\left(\\phi_{1}{\\left(t \\right)} \\right)} \\sin{\\left(\\phi_{2}{\\left(t \\right)} \\right)} \\cos{\\left(\\alpha + \\delta_{1}{\\left(t \\right)} \\right)} - 2 L_{1}^{2} L_{2} m_{r} \\sin{\\left(\\alpha + \\delta_{1}{\\left(t \\right)} \\right)} \\sin{\\left(\\phi_{1}{\\left(t \\right)} \\right)} \\cos{\\left(\\alpha + \\delta_{1}{\\left(t \\right)} \\right)} \\cos{\\left(\\alpha - \\delta_{2}{\\left(t \\right)} \\right)} \\cos{\\left(\\phi_{2}{\\left(t \\right)} \\right)} - 2 L_{1}^{2} L_{2} m_{r} \\sin{\\left(\\alpha - \\delta_{2}{\\left(t \\right)} \\right)} \\sin{\\left(\\phi_{2}{\\left(t \\right)} \\right)} \\cos^{2}{\\left(\\alpha + \\delta_{1}{\\left(t \\right)} \\right)} \\cos{\\left(\\phi_{1}{\\left(t \\right)} \\right)} + 2 L_{1}^{2} L_{2} m_{r} \\cos^{2}{\\left(\\alpha + \\delta_{1}{\\left(t \\right)} \\right)} \\cos{\\left(\\alpha - \\delta_{2}{\\left(t \\right)} \\right)} \\cos{\\left(\\phi_{1}{\\left(t \\right)} \\right)} \\cos{\\left(\\phi_{2}{\\left(t \\right)} \\right)}\\right)} & - \\frac{L_{1} L_{2} m_{2} \\left(2 \\sin{\\left(\\alpha + \\delta_{1}{\\left(t \\right)} \\right)} \\sin{\\left(\\phi_{1}{\\left(t \\right)} \\right)} \\cos{\\left(\\phi_{2}{\\left(t \\right)} \\right)} - 2 \\cos{\\left(\\alpha + \\delta_{1}{\\left(t \\right)} \\right)} \\cos{\\left(\\phi_{1}{\\left(t \\right)} \\right)} \\cos{\\left(\\phi_{2}{\\left(t \\right)} \\right)}\\right) \\cos{\\left(- \\alpha + \\delta_{2}{\\left(t \\right)} + \\phi_{2}{\\left(t \\right)} \\right)}}{2 \\left(- 2 I_{1} \\sin{\\left(\\alpha - \\delta_{2}{\\left(t \\right)} \\right)} \\sin{\\left(\\phi_{2}{\\left(t \\right)} \\right)} \\cos{\\left(\\phi_{1}{\\left(t \\right)} \\right)} + 2 I_{1} \\cos{\\left(\\alpha - \\delta_{2}{\\left(t \\right)} \\right)} \\cos{\\left(\\phi_{1}{\\left(t \\right)} \\right)} \\cos{\\left(\\phi_{2}{\\left(t \\right)} \\right)} + L_{1}^{2} m_{2} \\sin{\\left(\\alpha + \\delta_{1}{\\left(t \\right)} \\right)} \\sin{\\left(\\alpha - \\delta_{2}{\\left(t \\right)} \\right)} \\sin{\\left(\\alpha + \\delta_{1}{\\left(t \\right)} + \\phi_{1}{\\left(t \\right)} \\right)} \\sin{\\left(\\phi_{2}{\\left(t \\right)} \\right)} - L_{1}^{2} m_{2} \\sin{\\left(\\alpha + \\delta_{1}{\\left(t \\right)} \\right)} \\sin{\\left(\\alpha + \\delta_{1}{\\left(t \\right)} + \\phi_{1}{\\left(t \\right)} \\right)} \\cos{\\left(\\alpha - \\delta_{2}{\\left(t \\right)} \\right)} \\cos{\\left(\\phi_{2}{\\left(t \\right)} \\right)} - 2 L_{1}^{2} m_{2} \\sin{\\left(\\alpha - \\delta_{2}{\\left(t \\right)} \\right)} \\sin{\\left(\\phi_{2}{\\left(t \\right)} \\right)} \\cos{\\left(\\phi_{1}{\\left(t \\right)} \\right)} + 2 L_{1}^{2} m_{2} \\cos{\\left(\\alpha - \\delta_{2}{\\left(t \\right)} \\right)} \\cos{\\left(\\phi_{1}{\\left(t \\right)} \\right)} \\cos{\\left(\\phi_{2}{\\left(t \\right)} \\right)} + 2 L_{1}^{2} m_{r} \\sin{\\left(\\alpha + \\delta_{1}{\\left(t \\right)} \\right)} \\sin{\\left(\\alpha - \\delta_{2}{\\left(t \\right)} \\right)} \\sin{\\left(\\phi_{1}{\\left(t \\right)} \\right)} \\sin{\\left(\\phi_{2}{\\left(t \\right)} \\right)} \\cos{\\left(\\alpha + \\delta_{1}{\\left(t \\right)} \\right)} - 2 L_{1}^{2} m_{r} \\sin{\\left(\\alpha + \\delta_{1}{\\left(t \\right)} \\right)} \\sin{\\left(\\phi_{1}{\\left(t \\right)} \\right)} \\cos{\\left(\\alpha + \\delta_{1}{\\left(t \\right)} \\right)} \\cos{\\left(\\alpha - \\delta_{2}{\\left(t \\right)} \\right)} \\cos{\\left(\\phi_{2}{\\left(t \\right)} \\right)} - 2 L_{1}^{2} m_{r} \\sin{\\left(\\alpha - \\delta_{2}{\\left(t \\right)} \\right)} \\sin{\\left(\\phi_{2}{\\left(t \\right)} \\right)} \\cos^{2}{\\left(\\alpha + \\delta_{1}{\\left(t \\right)} \\right)} \\cos{\\left(\\phi_{1}{\\left(t \\right)} \\right)} + 2 L_{1}^{2} m_{r} \\cos^{2}{\\left(\\alpha + \\delta_{1}{\\left(t \\right)} \\right)} \\cos{\\left(\\alpha - \\delta_{2}{\\left(t \\right)} \\right)} \\cos{\\left(\\phi_{1}{\\left(t \\right)} \\right)} \\cos{\\left(\\phi_{2}{\\left(t \\right)} \\right)}\\right)} & \\frac{2 \\cos{\\left(\\phi_{1}{\\left(t \\right)} \\right)}}{2 I_{1} \\cos{\\left(\\phi_{1}{\\left(t \\right)} \\right)} - L_{1}^{2} m_{2} \\sin{\\left(\\alpha + \\delta_{1}{\\left(t \\right)} \\right)} \\sin{\\left(\\alpha + \\delta_{1}{\\left(t \\right)} + \\phi_{1}{\\left(t \\right)} \\right)} + 2 L_{1}^{2} m_{2} \\cos{\\left(\\phi_{1}{\\left(t \\right)} \\right)} - 2 L_{1}^{2} m_{r} \\sin{\\left(\\alpha + \\delta_{1}{\\left(t \\right)} \\right)} \\sin{\\left(\\phi_{1}{\\left(t \\right)} \\right)} \\cos{\\left(\\alpha + \\delta_{1}{\\left(t \\right)} \\right)} + 2 L_{1}^{2} m_{r} \\cos^{2}{\\left(\\alpha + \\delta_{1}{\\left(t \\right)} \\right)} \\cos{\\left(\\phi_{1}{\\left(t \\right)} \\right)}} & - \\frac{2 \\sin{\\left(\\alpha + \\delta_{1}{\\left(t \\right)} \\right)} \\sin{\\left(\\phi_{1}{\\left(t \\right)} \\right)} \\cos{\\left(\\phi_{2}{\\left(t \\right)} \\right)} - 2 \\cos{\\left(\\alpha + \\delta_{1}{\\left(t \\right)} \\right)} \\cos{\\left(\\phi_{1}{\\left(t \\right)} \\right)} \\cos{\\left(\\phi_{2}{\\left(t \\right)} \\right)}}{- 2 I_{1} \\sin{\\left(\\alpha - \\delta_{2}{\\left(t \\right)} \\right)} \\sin{\\left(\\phi_{2}{\\left(t \\right)} \\right)} \\cos{\\left(\\phi_{1}{\\left(t \\right)} \\right)} + 2 I_{1} \\cos{\\left(\\alpha - \\delta_{2}{\\left(t \\right)} \\right)} \\cos{\\left(\\phi_{1}{\\left(t \\right)} \\right)} \\cos{\\left(\\phi_{2}{\\left(t \\right)} \\right)} + L_{1}^{2} m_{2} \\sin{\\left(\\alpha + \\delta_{1}{\\left(t \\right)} \\right)} \\sin{\\left(\\alpha - \\delta_{2}{\\left(t \\right)} \\right)} \\sin{\\left(\\alpha + \\delta_{1}{\\left(t \\right)} + \\phi_{1}{\\left(t \\right)} \\right)} \\sin{\\left(\\phi_{2}{\\left(t \\right)} \\right)} - L_{1}^{2} m_{2} \\sin{\\left(\\alpha + \\delta_{1}{\\left(t \\right)} \\right)} \\sin{\\left(\\alpha + \\delta_{1}{\\left(t \\right)} + \\phi_{1}{\\left(t \\right)} \\right)} \\cos{\\left(\\alpha - \\delta_{2}{\\left(t \\right)} \\right)} \\cos{\\left(\\phi_{2}{\\left(t \\right)} \\right)} - 2 L_{1}^{2} m_{2} \\sin{\\left(\\alpha - \\delta_{2}{\\left(t \\right)} \\right)} \\sin{\\left(\\phi_{2}{\\left(t \\right)} \\right)} \\cos{\\left(\\phi_{1}{\\left(t \\right)} \\right)} + 2 L_{1}^{2} m_{2} \\cos{\\left(\\alpha - \\delta_{2}{\\left(t \\right)} \\right)} \\cos{\\left(\\phi_{1}{\\left(t \\right)} \\right)} \\cos{\\left(\\phi_{2}{\\left(t \\right)} \\right)} + 2 L_{1}^{2} m_{r} \\sin{\\left(\\alpha + \\delta_{1}{\\left(t \\right)} \\right)} \\sin{\\left(\\alpha - \\delta_{2}{\\left(t \\right)} \\right)} \\sin{\\left(\\phi_{1}{\\left(t \\right)} \\right)} \\sin{\\left(\\phi_{2}{\\left(t \\right)} \\right)} \\cos{\\left(\\alpha + \\delta_{1}{\\left(t \\right)} \\right)} - 2 L_{1}^{2} m_{r} \\sin{\\left(\\alpha + \\delta_{1}{\\left(t \\right)} \\right)} \\sin{\\left(\\phi_{1}{\\left(t \\right)} \\right)} \\cos{\\left(\\alpha + \\delta_{1}{\\left(t \\right)} \\right)} \\cos{\\left(\\alpha - \\delta_{2}{\\left(t \\right)} \\right)} \\cos{\\left(\\phi_{2}{\\left(t \\right)} \\right)} - 2 L_{1}^{2} m_{r} \\sin{\\left(\\alpha - \\delta_{2}{\\left(t \\right)} \\right)} \\sin{\\left(\\phi_{2}{\\left(t \\right)} \\right)} \\cos^{2}{\\left(\\alpha + \\delta_{1}{\\left(t \\right)} \\right)} \\cos{\\left(\\phi_{1}{\\left(t \\right)} \\right)} + 2 L_{1}^{2} m_{r} \\cos^{2}{\\left(\\alpha + \\delta_{1}{\\left(t \\right)} \\right)} \\cos{\\left(\\alpha - \\delta_{2}{\\left(t \\right)} \\right)} \\cos{\\left(\\phi_{1}{\\left(t \\right)} \\right)} \\cos{\\left(\\phi_{2}{\\left(t \\right)} \\right)}} & - \\frac{2 L_{1} L_{2} \\sin{\\left(\\alpha + \\delta_{1}{\\left(t \\right)} \\right)} \\sin{\\left(\\phi_{1}{\\left(t \\right)} \\right)}}{2 I_{1} L_{2} \\cos{\\left(\\phi_{1}{\\left(t \\right)} \\right)} - L_{1}^{2} L_{2} m_{2} \\sin{\\left(\\alpha + \\delta_{1}{\\left(t \\right)} \\right)} \\sin{\\left(\\alpha + \\delta_{1}{\\left(t \\right)} + \\phi_{1}{\\left(t \\right)} \\right)} + 2 L_{1}^{2} L_{2} m_{2} \\cos{\\left(\\phi_{1}{\\left(t \\right)} \\right)} - 2 L_{1}^{2} L_{2} m_{r} \\sin{\\left(\\alpha + \\delta_{1}{\\left(t \\right)} \\right)} \\sin{\\left(\\phi_{1}{\\left(t \\right)} \\right)} \\cos{\\left(\\alpha + \\delta_{1}{\\left(t \\right)} \\right)} + 2 L_{1}^{2} L_{2} m_{r} \\cos^{2}{\\left(\\alpha + \\delta_{1}{\\left(t \\right)} \\right)} \\cos{\\left(\\phi_{1}{\\left(t \\right)} \\right)}} + \\frac{2 L_{1} \\cos{\\left(\\alpha + \\delta_{1}{\\left(t \\right)} \\right)} \\cos{\\left(\\phi_{1}{\\left(t \\right)} \\right)}}{2 I_{1} \\cos{\\left(\\phi_{1}{\\left(t \\right)} \\right)} - L_{1}^{2} m_{2} \\sin{\\left(\\alpha + \\delta_{1}{\\left(t \\right)} \\right)} \\sin{\\left(\\alpha + \\delta_{1}{\\left(t \\right)} + \\phi_{1}{\\left(t \\right)} \\right)} + 2 L_{1}^{2} m_{2} \\cos{\\left(\\phi_{1}{\\left(t \\right)} \\right)} - 2 L_{1}^{2} m_{r} \\sin{\\left(\\alpha + \\delta_{1}{\\left(t \\right)} \\right)} \\sin{\\left(\\phi_{1}{\\left(t \\right)} \\right)} \\cos{\\left(\\alpha + \\delta_{1}{\\left(t \\right)} \\right)} + 2 L_{1}^{2} m_{r} \\cos^{2}{\\left(\\alpha + \\delta_{1}{\\left(t \\right)} \\right)} \\cos{\\left(\\phi_{1}{\\left(t \\right)} \\right)}}\\end{matrix}\\right]$"
      ],
      "text/plain": [
       "Matrix([[-2*L_1*(I_2 + L_2**2*m_2/4 + L_2**2*m_r*sin(phi_1(t))**2)*sin(alpha + delta_1(t))/(2*I_1*L_2*cos(phi_1(t)) - L_1**2*L_2*m_2*sin(alpha + delta_1(t))*sin(alpha + delta_1(t) + phi_1(t)) + 2*L_1**2*L_2*m_2*cos(phi_1(t)) - 2*L_1**2*L_2*m_r*sin(alpha + delta_1(t))*sin(phi_1(t))*cos(alpha + delta_1(t)) + 2*L_1**2*L_2*m_r*cos(alpha + delta_1(t))**2*cos(phi_1(t))) - 2*(-L_1*L_2*m_2*sin(alpha + delta_1(t) + phi_1(t))/2 - L_1*L_2*m_r*sin(phi_1(t))*cos(alpha + delta_1(t)))*cos(phi_1(t))/(2*I_1*cos(phi_1(t)) - L_1**2*m_2*sin(alpha + delta_1(t))*sin(alpha + delta_1(t) + phi_1(t)) + 2*L_1**2*m_2*cos(phi_1(t)) - 2*L_1**2*m_r*sin(alpha + delta_1(t))*sin(phi_1(t))*cos(alpha + delta_1(t)) + 2*L_1**2*m_r*cos(alpha + delta_1(t))**2*cos(phi_1(t))), 2*L_1**2*m_r*sin(alpha + delta_1(t))*cos(alpha + delta_1(t))*cos(phi_1(t))/(2*I_1*cos(phi_1(t)) - L_1**2*m_2*sin(alpha + delta_1(t))*sin(alpha + delta_1(t) + phi_1(t)) + 2*L_1**2*m_2*cos(phi_1(t)) - 2*L_1**2*m_r*sin(alpha + delta_1(t))*sin(phi_1(t))*cos(alpha + delta_1(t)) + 2*L_1**2*m_r*cos(alpha + delta_1(t))**2*cos(phi_1(t))) - 2*L_1*(-L_1*L_2*m_2*cos(alpha + delta_1(t) + phi_1(t))/2 + L_1*L_2*m_r*sin(alpha + delta_1(t))*sin(phi_1(t)))*sin(alpha + delta_1(t))/(2*I_1*L_2*cos(phi_1(t)) - L_1**2*L_2*m_2*sin(alpha + delta_1(t))*sin(alpha + delta_1(t) + phi_1(t)) + 2*L_1**2*L_2*m_2*cos(phi_1(t)) - 2*L_1**2*L_2*m_r*sin(alpha + delta_1(t))*sin(phi_1(t))*cos(alpha + delta_1(t)) + 2*L_1**2*L_2*m_r*cos(alpha + delta_1(t))**2*cos(phi_1(t))), -2*L_1*L_2**2*m_r*sin(alpha + delta_1(t))*sin(phi_1(t))*cos(phi_1(t))/(2*I_1*L_2*cos(phi_1(t)) - L_1**2*L_2*m_2*sin(alpha + delta_1(t))*sin(alpha + delta_1(t) + phi_1(t)) + 2*L_1**2*L_2*m_2*cos(phi_1(t)) - 2*L_1**2*L_2*m_r*sin(alpha + delta_1(t))*sin(phi_1(t))*cos(alpha + delta_1(t)) + 2*L_1**2*L_2*m_r*cos(alpha + delta_1(t))**2*cos(phi_1(t))) - 2*(-L_1*L_2*m_2*cos(alpha + delta_1(t) + phi_1(t))/2 - L_1*L_2*m_r*cos(alpha + delta_1(t))*cos(phi_1(t)))*cos(phi_1(t))/(2*I_1*cos(phi_1(t)) - L_1**2*m_2*sin(alpha + delta_1(t))*sin(alpha + delta_1(t) + phi_1(t)) + 2*L_1**2*m_2*cos(phi_1(t)) - 2*L_1**2*m_r*sin(alpha + delta_1(t))*sin(phi_1(t))*cos(alpha + delta_1(t)) + 2*L_1**2*m_r*cos(alpha + delta_1(t))**2*cos(phi_1(t))), -L_1*L_2*m_2*(-2*L_1*sin(alpha + delta_1(t))*sin(alpha - delta_2(t))*sin(phi_1(t)) + 2*L_1*sin(alpha - delta_2(t))*cos(alpha + delta_1(t))*cos(phi_1(t)))*sin(-alpha + delta_2(t) + phi_2(t))/(2*(-2*I_1*L_2*sin(alpha - delta_2(t))*sin(phi_2(t))*cos(phi_1(t)) + 2*I_1*L_2*cos(alpha - delta_2(t))*cos(phi_1(t))*cos(phi_2(t)) + L_1**2*L_2*m_2*sin(alpha + delta_1(t))*sin(alpha - delta_2(t))*sin(alpha + delta_1(t) + phi_1(t))*sin(phi_2(t)) - L_1**2*L_2*m_2*sin(alpha + delta_1(t))*sin(alpha + delta_1(t) + phi_1(t))*cos(alpha - delta_2(t))*cos(phi_2(t)) - 2*L_1**2*L_2*m_2*sin(alpha - delta_2(t))*sin(phi_2(t))*cos(phi_1(t)) + 2*L_1**2*L_2*m_2*cos(alpha - delta_2(t))*cos(phi_1(t))*cos(phi_2(t)) + 2*L_1**2*L_2*m_r*sin(alpha + delta_1(t))*sin(alpha - delta_2(t))*sin(phi_1(t))*sin(phi_2(t))*cos(alpha + delta_1(t)) - 2*L_1**2*L_2*m_r*sin(alpha + delta_1(t))*sin(phi_1(t))*cos(alpha + delta_1(t))*cos(alpha - delta_2(t))*cos(phi_2(t)) - 2*L_1**2*L_2*m_r*sin(alpha - delta_2(t))*sin(phi_2(t))*cos(alpha + delta_1(t))**2*cos(phi_1(t)) + 2*L_1**2*L_2*m_r*cos(alpha + delta_1(t))**2*cos(alpha - delta_2(t))*cos(phi_1(t))*cos(phi_2(t)))) + (I_1 + L_1**2*m_2)*(2*sin(alpha + delta_1(t))*sin(phi_1(t))*cos(phi_2(t)) - 2*cos(alpha + delta_1(t))*cos(phi_1(t))*cos(phi_2(t)))/(-2*I_1*sin(alpha - delta_2(t))*sin(phi_2(t))*cos(phi_1(t)) + 2*I_1*cos(alpha - delta_2(t))*cos(phi_1(t))*cos(phi_2(t)) + L_1**2*m_2*sin(alpha + delta_1(t))*sin(alpha - delta_2(t))*sin(alpha + delta_1(t) + phi_1(t))*sin(phi_2(t)) - L_1**2*m_2*sin(alpha + delta_1(t))*sin(alpha + delta_1(t) + phi_1(t))*cos(alpha - delta_2(t))*cos(phi_2(t)) - 2*L_1**2*m_2*sin(alpha - delta_2(t))*sin(phi_2(t))*cos(phi_1(t)) + 2*L_1**2*m_2*cos(alpha - delta_2(t))*cos(phi_1(t))*cos(phi_2(t)) + 2*L_1**2*m_r*sin(alpha + delta_1(t))*sin(alpha - delta_2(t))*sin(phi_1(t))*sin(phi_2(t))*cos(alpha + delta_1(t)) - 2*L_1**2*m_r*sin(alpha + delta_1(t))*sin(phi_1(t))*cos(alpha + delta_1(t))*cos(alpha - delta_2(t))*cos(phi_2(t)) - 2*L_1**2*m_r*sin(alpha - delta_2(t))*sin(phi_2(t))*cos(alpha + delta_1(t))**2*cos(phi_1(t)) + 2*L_1**2*m_r*cos(alpha + delta_1(t))**2*cos(alpha - delta_2(t))*cos(phi_1(t))*cos(phi_2(t))), -L_1*L_2*m_2*(2*sin(alpha + delta_1(t))*sin(phi_1(t))*cos(phi_2(t)) - 2*cos(alpha + delta_1(t))*cos(phi_1(t))*cos(phi_2(t)))*sin(-alpha + delta_2(t) + phi_2(t))/(2*(-2*I_1*sin(alpha - delta_2(t))*sin(phi_2(t))*cos(phi_1(t)) + 2*I_1*cos(alpha - delta_2(t))*cos(phi_1(t))*cos(phi_2(t)) + L_1**2*m_2*sin(alpha + delta_1(t))*sin(alpha - delta_2(t))*sin(alpha + delta_1(t) + phi_1(t))*sin(phi_2(t)) - L_1**2*m_2*sin(alpha + delta_1(t))*sin(alpha + delta_1(t) + phi_1(t))*cos(alpha - delta_2(t))*cos(phi_2(t)) - 2*L_1**2*m_2*sin(alpha - delta_2(t))*sin(phi_2(t))*cos(phi_1(t)) + 2*L_1**2*m_2*cos(alpha - delta_2(t))*cos(phi_1(t))*cos(phi_2(t)) + 2*L_1**2*m_r*sin(alpha + delta_1(t))*sin(alpha - delta_2(t))*sin(phi_1(t))*sin(phi_2(t))*cos(alpha + delta_1(t)) - 2*L_1**2*m_r*sin(alpha + delta_1(t))*sin(phi_1(t))*cos(alpha + delta_1(t))*cos(alpha - delta_2(t))*cos(phi_2(t)) - 2*L_1**2*m_r*sin(alpha - delta_2(t))*sin(phi_2(t))*cos(alpha + delta_1(t))**2*cos(phi_1(t)) + 2*L_1**2*m_r*cos(alpha + delta_1(t))**2*cos(alpha - delta_2(t))*cos(phi_1(t))*cos(phi_2(t)))) + (I_2 + L_2**2*m_2/4)*(-2*L_1*sin(alpha + delta_1(t))*sin(alpha - delta_2(t))*sin(phi_1(t)) + 2*L_1*sin(alpha - delta_2(t))*cos(alpha + delta_1(t))*cos(phi_1(t)))/(-2*I_1*L_2*sin(alpha - delta_2(t))*sin(phi_2(t))*cos(phi_1(t)) + 2*I_1*L_2*cos(alpha - delta_2(t))*cos(phi_1(t))*cos(phi_2(t)) + L_1**2*L_2*m_2*sin(alpha + delta_1(t))*sin(alpha - delta_2(t))*sin(alpha + delta_1(t) + phi_1(t))*sin(phi_2(t)) - L_1**2*L_2*m_2*sin(alpha + delta_1(t))*sin(alpha + delta_1(t) + phi_1(t))*cos(alpha - delta_2(t))*cos(phi_2(t)) - 2*L_1**2*L_2*m_2*sin(alpha - delta_2(t))*sin(phi_2(t))*cos(phi_1(t)) + 2*L_1**2*L_2*m_2*cos(alpha - delta_2(t))*cos(phi_1(t))*cos(phi_2(t)) + 2*L_1**2*L_2*m_r*sin(alpha + delta_1(t))*sin(alpha - delta_2(t))*sin(phi_1(t))*sin(phi_2(t))*cos(alpha + delta_1(t)) - 2*L_1**2*L_2*m_r*sin(alpha + delta_1(t))*sin(phi_1(t))*cos(alpha + delta_1(t))*cos(alpha - delta_2(t))*cos(phi_2(t)) - 2*L_1**2*L_2*m_r*sin(alpha - delta_2(t))*sin(phi_2(t))*cos(alpha + delta_1(t))**2*cos(phi_1(t)) + 2*L_1**2*L_2*m_r*cos(alpha + delta_1(t))**2*cos(alpha - delta_2(t))*cos(phi_1(t))*cos(phi_2(t))), -L_1*L_2*m_2*(-2*L_1*sin(alpha + delta_1(t))*sin(alpha - delta_2(t))*sin(phi_1(t)) + 2*L_1*sin(alpha - delta_2(t))*cos(alpha + delta_1(t))*cos(phi_1(t)))*cos(-alpha + delta_2(t) + phi_2(t))/(2*(-2*I_1*L_2*sin(alpha - delta_2(t))*sin(phi_2(t))*cos(phi_1(t)) + 2*I_1*L_2*cos(alpha - delta_2(t))*cos(phi_1(t))*cos(phi_2(t)) + L_1**2*L_2*m_2*sin(alpha + delta_1(t))*sin(alpha - delta_2(t))*sin(alpha + delta_1(t) + phi_1(t))*sin(phi_2(t)) - L_1**2*L_2*m_2*sin(alpha + delta_1(t))*sin(alpha + delta_1(t) + phi_1(t))*cos(alpha - delta_2(t))*cos(phi_2(t)) - 2*L_1**2*L_2*m_2*sin(alpha - delta_2(t))*sin(phi_2(t))*cos(phi_1(t)) + 2*L_1**2*L_2*m_2*cos(alpha - delta_2(t))*cos(phi_1(t))*cos(phi_2(t)) + 2*L_1**2*L_2*m_r*sin(alpha + delta_1(t))*sin(alpha - delta_2(t))*sin(phi_1(t))*sin(phi_2(t))*cos(alpha + delta_1(t)) - 2*L_1**2*L_2*m_r*sin(alpha + delta_1(t))*sin(phi_1(t))*cos(alpha + delta_1(t))*cos(alpha - delta_2(t))*cos(phi_2(t)) - 2*L_1**2*L_2*m_r*sin(alpha - delta_2(t))*sin(phi_2(t))*cos(alpha + delta_1(t))**2*cos(phi_1(t)) + 2*L_1**2*L_2*m_r*cos(alpha + delta_1(t))**2*cos(alpha - delta_2(t))*cos(phi_1(t))*cos(phi_2(t)))), -L_1*L_2*m_2*(2*sin(alpha + delta_1(t))*sin(phi_1(t))*cos(phi_2(t)) - 2*cos(alpha + delta_1(t))*cos(phi_1(t))*cos(phi_2(t)))*cos(-alpha + delta_2(t) + phi_2(t))/(2*(-2*I_1*sin(alpha - delta_2(t))*sin(phi_2(t))*cos(phi_1(t)) + 2*I_1*cos(alpha - delta_2(t))*cos(phi_1(t))*cos(phi_2(t)) + L_1**2*m_2*sin(alpha + delta_1(t))*sin(alpha - delta_2(t))*sin(alpha + delta_1(t) + phi_1(t))*sin(phi_2(t)) - L_1**2*m_2*sin(alpha + delta_1(t))*sin(alpha + delta_1(t) + phi_1(t))*cos(alpha - delta_2(t))*cos(phi_2(t)) - 2*L_1**2*m_2*sin(alpha - delta_2(t))*sin(phi_2(t))*cos(phi_1(t)) + 2*L_1**2*m_2*cos(alpha - delta_2(t))*cos(phi_1(t))*cos(phi_2(t)) + 2*L_1**2*m_r*sin(alpha + delta_1(t))*sin(alpha - delta_2(t))*sin(phi_1(t))*sin(phi_2(t))*cos(alpha + delta_1(t)) - 2*L_1**2*m_r*sin(alpha + delta_1(t))*sin(phi_1(t))*cos(alpha + delta_1(t))*cos(alpha - delta_2(t))*cos(phi_2(t)) - 2*L_1**2*m_r*sin(alpha - delta_2(t))*sin(phi_2(t))*cos(alpha + delta_1(t))**2*cos(phi_1(t)) + 2*L_1**2*m_r*cos(alpha + delta_1(t))**2*cos(alpha - delta_2(t))*cos(phi_1(t))*cos(phi_2(t)))), 2*cos(phi_1(t))/(2*I_1*cos(phi_1(t)) - L_1**2*m_2*sin(alpha + delta_1(t))*sin(alpha + delta_1(t) + phi_1(t)) + 2*L_1**2*m_2*cos(phi_1(t)) - 2*L_1**2*m_r*sin(alpha + delta_1(t))*sin(phi_1(t))*cos(alpha + delta_1(t)) + 2*L_1**2*m_r*cos(alpha + delta_1(t))**2*cos(phi_1(t))), -(2*sin(alpha + delta_1(t))*sin(phi_1(t))*cos(phi_2(t)) - 2*cos(alpha + delta_1(t))*cos(phi_1(t))*cos(phi_2(t)))/(-2*I_1*sin(alpha - delta_2(t))*sin(phi_2(t))*cos(phi_1(t)) + 2*I_1*cos(alpha - delta_2(t))*cos(phi_1(t))*cos(phi_2(t)) + L_1**2*m_2*sin(alpha + delta_1(t))*sin(alpha - delta_2(t))*sin(alpha + delta_1(t) + phi_1(t))*sin(phi_2(t)) - L_1**2*m_2*sin(alpha + delta_1(t))*sin(alpha + delta_1(t) + phi_1(t))*cos(alpha - delta_2(t))*cos(phi_2(t)) - 2*L_1**2*m_2*sin(alpha - delta_2(t))*sin(phi_2(t))*cos(phi_1(t)) + 2*L_1**2*m_2*cos(alpha - delta_2(t))*cos(phi_1(t))*cos(phi_2(t)) + 2*L_1**2*m_r*sin(alpha + delta_1(t))*sin(alpha - delta_2(t))*sin(phi_1(t))*sin(phi_2(t))*cos(alpha + delta_1(t)) - 2*L_1**2*m_r*sin(alpha + delta_1(t))*sin(phi_1(t))*cos(alpha + delta_1(t))*cos(alpha - delta_2(t))*cos(phi_2(t)) - 2*L_1**2*m_r*sin(alpha - delta_2(t))*sin(phi_2(t))*cos(alpha + delta_1(t))**2*cos(phi_1(t)) + 2*L_1**2*m_r*cos(alpha + delta_1(t))**2*cos(alpha - delta_2(t))*cos(phi_1(t))*cos(phi_2(t))), -2*L_1*L_2*sin(alpha + delta_1(t))*sin(phi_1(t))/(2*I_1*L_2*cos(phi_1(t)) - L_1**2*L_2*m_2*sin(alpha + delta_1(t))*sin(alpha + delta_1(t) + phi_1(t)) + 2*L_1**2*L_2*m_2*cos(phi_1(t)) - 2*L_1**2*L_2*m_r*sin(alpha + delta_1(t))*sin(phi_1(t))*cos(alpha + delta_1(t)) + 2*L_1**2*L_2*m_r*cos(alpha + delta_1(t))**2*cos(phi_1(t))) + 2*L_1*cos(alpha + delta_1(t))*cos(phi_1(t))/(2*I_1*cos(phi_1(t)) - L_1**2*m_2*sin(alpha + delta_1(t))*sin(alpha + delta_1(t) + phi_1(t)) + 2*L_1**2*m_2*cos(phi_1(t)) - 2*L_1**2*m_r*sin(alpha + delta_1(t))*sin(phi_1(t))*cos(alpha + delta_1(t)) + 2*L_1**2*m_r*cos(alpha + delta_1(t))**2*cos(phi_1(t)))]])"
      ]
     },
     "metadata": {},
     "output_type": "display_data"
    }
   ],
   "source": [
    "# solve for F landa1 landa2 landa3\n",
    "# C = A*[theta_dd landa1 landa2 landa3]'\n",
    "\n",
    "C = All[:,1:11]\n",
    "A = All[:,[0,11,12,13]] * -1\n",
    "A_inv = A.inv()\n",
    "Eq_X = A_inv*C\n",
    "\n",
    "C = All[:,0:10]\n",
    "A = All[:,[10,11,12,13]] * -1\n",
    "A_inv = A.inv()\n",
    "Eq_F = A_inv*C\n",
    "\n",
    "Eq_X = Eq_X[0,:]\n",
    "Eq_F = Eq_F[0,:]\n",
    "\n",
    "display(Eq_F)\n",
    "display(Eq_X)\n"
   ]
  },
  {
   "cell_type": "code",
   "execution_count": 31,
   "metadata": {},
   "outputs": [],
   "source": [
    "# evaluate x,y,z,w\n",
    "# C = -D+L3+L1*sin(x+a)+L2*cos(y)\n",
    "C = Symbol('C')\n",
    "CEQ3 = Const_Eq[2] + D-L3-L1*sin(x+a)-L2*cos(y)+C\n",
    "\n",
    "Mat = Matrix(solve([Const_Eq[1], CEQ3 ],[z,w]))"
   ]
  },
  {
   "cell_type": "code",
   "execution_count": 32,
   "metadata": {},
   "outputs": [
    {
     "data": {
      "text/latex": [
       "$\\displaystyle \\left[\\begin{matrix}\\alpha + \\operatorname{asin}{\\left(\\frac{C + L_{2} \\cos{\\left(2 \\operatorname{atan}{\\left(\\frac{2 L_{2} d - \\sqrt{- C^{4} + 2 C^{2} L_{1}^{2} + 2 C^{2} L_{2}^{2} - 2 C^{2} d^{2} - L_{1}^{4} + 2 L_{1}^{2} L_{2}^{2} + 2 L_{1}^{2} d^{2} - L_{2}^{4} + 2 L_{2}^{2} d^{2} - d^{4}}}{C^{2} - 2 C L_{2} - L_{1}^{2} + L_{2}^{2} + d^{2}} \\right)} \\right)}}{L_{1}} \\right)} & 2 \\operatorname{atan}{\\left(\\frac{2 L_{2} d - \\sqrt{- C^{4} + 2 C^{2} L_{1}^{2} + 2 C^{2} L_{2}^{2} - 2 C^{2} d^{2} - L_{1}^{4} + 2 L_{1}^{2} L_{2}^{2} + 2 L_{1}^{2} d^{2} - L_{2}^{4} + 2 L_{2}^{2} d^{2} - d^{4}}}{C^{2} - 2 C L_{2} - L_{1}^{2} + L_{2}^{2} + d^{2}} \\right)}\\\\\\alpha + \\operatorname{asin}{\\left(\\frac{C + L_{2} \\cos{\\left(2 \\operatorname{atan}{\\left(\\frac{2 L_{2} d + \\sqrt{- C^{4} + 2 C^{2} L_{1}^{2} + 2 C^{2} L_{2}^{2} - 2 C^{2} d^{2} - L_{1}^{4} + 2 L_{1}^{2} L_{2}^{2} + 2 L_{1}^{2} d^{2} - L_{2}^{4} + 2 L_{2}^{2} d^{2} - d^{4}}}{C^{2} - 2 C L_{2} - L_{1}^{2} + L_{2}^{2} + d^{2}} \\right)} \\right)}}{L_{1}} \\right)} & 2 \\operatorname{atan}{\\left(\\frac{2 L_{2} d + \\sqrt{- C^{4} + 2 C^{2} L_{1}^{2} + 2 C^{2} L_{2}^{2} - 2 C^{2} d^{2} - L_{1}^{4} + 2 L_{1}^{2} L_{2}^{2} + 2 L_{1}^{2} d^{2} - L_{2}^{4} + 2 L_{2}^{2} d^{2} - d^{4}}}{C^{2} - 2 C L_{2} - L_{1}^{2} + L_{2}^{2} + d^{2}} \\right)}\\\\\\alpha - \\operatorname{asin}{\\left(\\frac{C + L_{2} \\cos{\\left(2 \\operatorname{atan}{\\left(\\frac{2 L_{2} d - \\sqrt{- C^{4} + 2 C^{2} L_{1}^{2} + 2 C^{2} L_{2}^{2} - 2 C^{2} d^{2} - L_{1}^{4} + 2 L_{1}^{2} L_{2}^{2} + 2 L_{1}^{2} d^{2} - L_{2}^{4} + 2 L_{2}^{2} d^{2} - d^{4}}}{C^{2} - 2 C L_{2} - L_{1}^{2} + L_{2}^{2} + d^{2}} \\right)} \\right)}}{L_{1}} \\right)} + \\pi & 2 \\operatorname{atan}{\\left(\\frac{2 L_{2} d - \\sqrt{- C^{4} + 2 C^{2} L_{1}^{2} + 2 C^{2} L_{2}^{2} - 2 C^{2} d^{2} - L_{1}^{4} + 2 L_{1}^{2} L_{2}^{2} + 2 L_{1}^{2} d^{2} - L_{2}^{4} + 2 L_{2}^{2} d^{2} - d^{4}}}{C^{2} - 2 C L_{2} - L_{1}^{2} + L_{2}^{2} + d^{2}} \\right)}\\\\\\alpha - \\operatorname{asin}{\\left(\\frac{C + L_{2} \\cos{\\left(2 \\operatorname{atan}{\\left(\\frac{2 L_{2} d + \\sqrt{- C^{4} + 2 C^{2} L_{1}^{2} + 2 C^{2} L_{2}^{2} - 2 C^{2} d^{2} - L_{1}^{4} + 2 L_{1}^{2} L_{2}^{2} + 2 L_{1}^{2} d^{2} - L_{2}^{4} + 2 L_{2}^{2} d^{2} - d^{4}}}{C^{2} - 2 C L_{2} - L_{1}^{2} + L_{2}^{2} + d^{2}} \\right)} \\right)}}{L_{1}} \\right)} + \\pi & 2 \\operatorname{atan}{\\left(\\frac{2 L_{2} d + \\sqrt{- C^{4} + 2 C^{2} L_{1}^{2} + 2 C^{2} L_{2}^{2} - 2 C^{2} d^{2} - L_{1}^{4} + 2 L_{1}^{2} L_{2}^{2} + 2 L_{1}^{2} d^{2} - L_{2}^{4} + 2 L_{2}^{2} d^{2} - d^{4}}}{C^{2} - 2 C L_{2} - L_{1}^{2} + L_{2}^{2} + d^{2}} \\right)}\\end{matrix}\\right]$"
      ],
      "text/plain": [
       "Matrix([\n",
       "[     alpha + asin((C + L_2*cos(2*atan((2*L_2*d - sqrt(-C**4 + 2*C**2*L_1**2 + 2*C**2*L_2**2 - 2*C**2*d**2 - L_1**4 + 2*L_1**2*L_2**2 + 2*L_1**2*d**2 - L_2**4 + 2*L_2**2*d**2 - d**4))/(C**2 - 2*C*L_2 - L_1**2 + L_2**2 + d**2))))/L_1), 2*atan((2*L_2*d - sqrt(-C**4 + 2*C**2*L_1**2 + 2*C**2*L_2**2 - 2*C**2*d**2 - L_1**4 + 2*L_1**2*L_2**2 + 2*L_1**2*d**2 - L_2**4 + 2*L_2**2*d**2 - d**4))/(C**2 - 2*C*L_2 - L_1**2 + L_2**2 + d**2))],\n",
       "[     alpha + asin((C + L_2*cos(2*atan((2*L_2*d + sqrt(-C**4 + 2*C**2*L_1**2 + 2*C**2*L_2**2 - 2*C**2*d**2 - L_1**4 + 2*L_1**2*L_2**2 + 2*L_1**2*d**2 - L_2**4 + 2*L_2**2*d**2 - d**4))/(C**2 - 2*C*L_2 - L_1**2 + L_2**2 + d**2))))/L_1), 2*atan((2*L_2*d + sqrt(-C**4 + 2*C**2*L_1**2 + 2*C**2*L_2**2 - 2*C**2*d**2 - L_1**4 + 2*L_1**2*L_2**2 + 2*L_1**2*d**2 - L_2**4 + 2*L_2**2*d**2 - d**4))/(C**2 - 2*C*L_2 - L_1**2 + L_2**2 + d**2))],\n",
       "[alpha - asin((C + L_2*cos(2*atan((2*L_2*d - sqrt(-C**4 + 2*C**2*L_1**2 + 2*C**2*L_2**2 - 2*C**2*d**2 - L_1**4 + 2*L_1**2*L_2**2 + 2*L_1**2*d**2 - L_2**4 + 2*L_2**2*d**2 - d**4))/(C**2 - 2*C*L_2 - L_1**2 + L_2**2 + d**2))))/L_1) + pi, 2*atan((2*L_2*d - sqrt(-C**4 + 2*C**2*L_1**2 + 2*C**2*L_2**2 - 2*C**2*d**2 - L_1**4 + 2*L_1**2*L_2**2 + 2*L_1**2*d**2 - L_2**4 + 2*L_2**2*d**2 - d**4))/(C**2 - 2*C*L_2 - L_1**2 + L_2**2 + d**2))],\n",
       "[alpha - asin((C + L_2*cos(2*atan((2*L_2*d + sqrt(-C**4 + 2*C**2*L_1**2 + 2*C**2*L_2**2 - 2*C**2*d**2 - L_1**4 + 2*L_1**2*L_2**2 + 2*L_1**2*d**2 - L_2**4 + 2*L_2**2*d**2 - d**4))/(C**2 - 2*C*L_2 - L_1**2 + L_2**2 + d**2))))/L_1) + pi, 2*atan((2*L_2*d + sqrt(-C**4 + 2*C**2*L_1**2 + 2*C**2*L_2**2 - 2*C**2*d**2 - L_1**4 + 2*L_1**2*L_2**2 + 2*L_1**2*d**2 - L_2**4 + 2*L_2**2*d**2 - d**4))/(C**2 - 2*C*L_2 - L_1**2 + L_2**2 + d**2))]])"
      ]
     },
     "execution_count": 32,
     "metadata": {},
     "output_type": "execute_result"
    }
   ],
   "source": [
    "Mat"
   ]
  },
  {
   "cell_type": "code",
   "execution_count": 33,
   "metadata": {},
   "outputs": [
    {
     "data": {
      "text/latex": [
       "$\\displaystyle - \\operatorname{asin}{\\left(\\frac{L_{1} \\cos{\\left(\\alpha + \\delta_{1}{\\left(t \\right)} \\right)} - d}{L_{2}} \\right)}$"
      ],
      "text/plain": [
       "-asin((L_1*cos(alpha + delta_1(t)) - d)/L_2)"
      ]
     },
     "metadata": {},
     "output_type": "display_data"
    },
    {
     "data": {
      "text/latex": [
       "$\\displaystyle \\alpha + \\operatorname{asin}{\\left(\\frac{- D + L_{1} \\sin{\\left(\\alpha + \\delta_{1}{\\left(t \\right)} \\right)} + L_{2} \\cos{\\left(\\phi_{1}{\\left(t \\right)} \\right)} + L_{2} \\cos{\\left(\\phi_{2}{\\left(t \\right)} \\right)} + L_{3}}{L_{1}} \\right)}$"
      ],
      "text/plain": [
       "alpha + asin((-D + L_1*sin(alpha + delta_1(t)) + L_2*cos(phi_1(t)) + L_2*cos(phi_2(t)) + L_3)/L_1)"
      ]
     },
     "metadata": {},
     "output_type": "display_data"
    },
    {
     "data": {
      "text/latex": [
       "$\\displaystyle 2 \\operatorname{atan}{\\left(\\frac{2 L_{2} d - \\sqrt{- L_{1}^{4} + 2 L_{1}^{2} L_{2}^{2} + 2 L_{1}^{2} d^{2} + 2 L_{1}^{2} \\left(- D + L_{1} \\sin{\\left(\\alpha + \\delta_{1}{\\left(t \\right)} \\right)} + L_{2} \\cos{\\left(\\phi_{1}{\\left(t \\right)} \\right)} + L_{3}\\right)^{2} - L_{2}^{4} + 2 L_{2}^{2} d^{2} + 2 L_{2}^{2} \\left(- D + L_{1} \\sin{\\left(\\alpha + \\delta_{1}{\\left(t \\right)} \\right)} + L_{2} \\cos{\\left(\\phi_{1}{\\left(t \\right)} \\right)} + L_{3}\\right)^{2} - d^{4} - 2 d^{2} \\left(- D + L_{1} \\sin{\\left(\\alpha + \\delta_{1}{\\left(t \\right)} \\right)} + L_{2} \\cos{\\left(\\phi_{1}{\\left(t \\right)} \\right)} + L_{3}\\right)^{2} - \\left(- D + L_{1} \\sin{\\left(\\alpha + \\delta_{1}{\\left(t \\right)} \\right)} + L_{2} \\cos{\\left(\\phi_{1}{\\left(t \\right)} \\right)} + L_{3}\\right)^{4}}}{- L_{1}^{2} + L_{2}^{2} - 2 L_{2} \\left(- D + L_{1} \\sin{\\left(\\alpha + \\delta_{1}{\\left(t \\right)} \\right)} + L_{2} \\cos{\\left(\\phi_{1}{\\left(t \\right)} \\right)} + L_{3}\\right) + d^{2} + \\left(- D + L_{1} \\sin{\\left(\\alpha + \\delta_{1}{\\left(t \\right)} \\right)} + L_{2} \\cos{\\left(\\phi_{1}{\\left(t \\right)} \\right)} + L_{3}\\right)^{2}} \\right)}$"
      ],
      "text/plain": [
       "2*atan((2*L_2*d - sqrt(-L_1**4 + 2*L_1**2*L_2**2 + 2*L_1**2*d**2 + 2*L_1**2*(-D + L_1*sin(alpha + delta_1(t)) + L_2*cos(phi_1(t)) + L_3)**2 - L_2**4 + 2*L_2**2*d**2 + 2*L_2**2*(-D + L_1*sin(alpha + delta_1(t)) + L_2*cos(phi_1(t)) + L_3)**2 - d**4 - 2*d**2*(-D + L_1*sin(alpha + delta_1(t)) + L_2*cos(phi_1(t)) + L_3)**2 - (-D + L_1*sin(alpha + delta_1(t)) + L_2*cos(phi_1(t)) + L_3)**4))/(-L_1**2 + L_2**2 - 2*L_2*(-D + L_1*sin(alpha + delta_1(t)) + L_2*cos(phi_1(t)) + L_3) + d**2 + (-D + L_1*sin(alpha + delta_1(t)) + L_2*cos(phi_1(t)) + L_3)**2))"
      ]
     },
     "metadata": {},
     "output_type": "display_data"
    }
   ],
   "source": [
    "Y_val = Matrix(solve(Const_Eq[0],y))[1,0]\n",
    "# Z_val = Mat[0,0]\n",
    "W_val = Mat[0,1]\n",
    "\n",
    "# Z_val = Z_val.subs([(C, -D+L3+L1*sin(x+a)+L2*cos(y))])\n",
    "Z_val = a + asin((L2*cos(w)+C)/L1).subs([(C, -D+L3+L1*sin(x+a)+L2*cos(y))])\n",
    "W_val = W_val.subs([(C, -D+L3+L1*sin(x+a)+L2*cos(y))])\n",
    "\n",
    "display(Y_val)\n",
    "display(Z_val)\n",
    "display(W_val)"
   ]
  },
  {
   "cell_type": "code",
   "execution_count": 34,
   "metadata": {},
   "outputs": [
    {
     "data": {
      "text/latex": [
       "$\\displaystyle \\frac{L_{1} \\dot{\\delta}_1{\\left(t \\right)} \\sin{\\left(\\alpha + \\delta_{1}{\\left(t \\right)} \\right)}}{L_{2} \\cos{\\left(\\phi_{1}{\\left(t \\right)} \\right)}}$"
      ],
      "text/plain": [
       "L_1*\\dot{\\delta}_1(t)*sin(alpha + delta_1(t))/(L_2*cos(phi_1(t)))"
      ]
     },
     "metadata": {},
     "output_type": "display_data"
    },
    {
     "data": {
      "text/latex": [
       "$\\displaystyle \\frac{\\left(L_{1} \\dot{\\delta}_1{\\left(t \\right)} \\cos{\\left(\\alpha + \\delta_{1}{\\left(t \\right)} \\right)} - L_{2} \\dot{\\phi}_1{\\left(t \\right)} \\sin{\\left(\\phi_{1}{\\left(t \\right)} \\right)}\\right) \\cos{\\left(\\phi_{2}{\\left(t \\right)} \\right)}}{L_{1} \\cos{\\left(\\alpha - \\delta_{2}{\\left(t \\right)} + \\phi_{2}{\\left(t \\right)} \\right)}}$"
      ],
      "text/plain": [
       "(L_1*\\dot{\\delta}_1(t)*cos(alpha + delta_1(t)) - L_2*\\dot{\\phi}_1(t)*sin(phi_1(t)))*cos(phi_2(t))/(L_1*cos(alpha - delta_2(t) + phi_2(t)))"
      ]
     },
     "metadata": {},
     "output_type": "display_data"
    },
    {
     "data": {
      "text/latex": [
       "$\\displaystyle - \\frac{\\left(L_{1} \\dot{\\delta}_1{\\left(t \\right)} \\cos{\\left(\\alpha + \\delta_{1}{\\left(t \\right)} \\right)} - L_{2} \\dot{\\phi}_1{\\left(t \\right)} \\sin{\\left(\\phi_{1}{\\left(t \\right)} \\right)}\\right) \\sin{\\left(\\alpha - \\delta_{2}{\\left(t \\right)} \\right)}}{L_{2} \\cos{\\left(\\alpha - \\delta_{2}{\\left(t \\right)} + \\phi_{2}{\\left(t \\right)} \\right)}}$"
      ],
      "text/plain": [
       "-(L_1*\\dot{\\delta}_1(t)*cos(alpha + delta_1(t)) - L_2*\\dot{\\phi}_1(t)*sin(phi_1(t)))*sin(alpha - delta_2(t))/(L_2*cos(alpha - delta_2(t) + phi_2(t)))"
      ]
     },
     "metadata": {},
     "output_type": "display_data"
    }
   ],
   "source": [
    "# C2 = Symbol('C_2')\n",
    "# CEQ3 = CEq[2] + xd*L1*sin(x)+yd*L2*sin(y)+C2\n",
    "\n",
    "Mat = solve([CEq[1], CEq[2] ],[zd,wd])\n",
    "\n",
    "Yd_val = Matrix(solve(CEq[0],yd))[0]\n",
    "Zd_val = Mat[zd]\n",
    "Wd_val = Mat[wd]\n",
    "\n",
    "Zd_val = simplify(Zd_val)\n",
    "Wd_val = simplify(Wd_val)\n",
    "\n",
    "display(Yd_val)\n",
    "display(Zd_val)\n",
    "display(Wd_val)"
   ]
  },
  {
   "cell_type": "code",
   "execution_count": 35,
   "metadata": {},
   "outputs": [
    {
     "data": {
      "text/latex": [
       "$\\displaystyle \\frac{L_{1} \\left(\\ddot{\\delta}_1{\\left(t \\right)} \\sin{\\left(\\alpha + \\delta_{1}{\\left(t \\right)} \\right)} + \\dot{\\delta}_1^{2}{\\left(t \\right)} \\cos{\\left(\\alpha + \\delta_{1}{\\left(t \\right)} \\right)}\\right) + L_{2} \\dot{\\phi}_1^{2}{\\left(t \\right)} \\sin{\\left(\\phi_{1}{\\left(t \\right)} \\right)}}{L_{2} \\cos{\\left(\\phi_{1}{\\left(t \\right)} \\right)}}$"
      ],
      "text/plain": [
       "(L_1*(\\ddot{\\delta}_1(t)*sin(alpha + delta_1(t)) + \\dot{\\delta}_1(t)**2*cos(alpha + delta_1(t))) + L_2*\\dot{\\phi}_1(t)**2*sin(phi_1(t)))/(L_2*cos(phi_1(t)))"
      ]
     },
     "metadata": {},
     "output_type": "display_data"
    },
    {
     "data": {
      "text/latex": [
       "$\\displaystyle \\frac{L_{1} \\ddot{\\delta}_1{\\left(t \\right)} \\cos{\\left(\\alpha + \\delta_{1}{\\left(t \\right)} \\right)} \\cos{\\left(\\phi_{2}{\\left(t \\right)} \\right)} - L_{1} \\dot{\\delta}_1^{2}{\\left(t \\right)} \\sin{\\left(\\alpha + \\delta_{1}{\\left(t \\right)} \\right)} \\cos{\\left(\\phi_{2}{\\left(t \\right)} \\right)} - L_{1} \\dot{\\delta}_2^{2}{\\left(t \\right)} \\sin{\\left(\\alpha - \\delta_{2}{\\left(t \\right)} + \\phi_{2}{\\left(t \\right)} \\right)} - L_{2} \\ddot{\\phi}_1{\\left(t \\right)} \\sin{\\left(\\phi_{1}{\\left(t \\right)} \\right)} \\cos{\\left(\\phi_{2}{\\left(t \\right)} \\right)} - L_{2} \\dot{\\phi}_1^{2}{\\left(t \\right)} \\cos{\\left(\\phi_{1}{\\left(t \\right)} \\right)} \\cos{\\left(\\phi_{2}{\\left(t \\right)} \\right)} - L_{2} \\dot{\\phi}_2^{2}{\\left(t \\right)}}{L_{1} \\cos{\\left(\\alpha - \\delta_{2}{\\left(t \\right)} + \\phi_{2}{\\left(t \\right)} \\right)}}$"
      ],
      "text/plain": [
       "(L_1*\\ddot{\\delta}_1(t)*cos(alpha + delta_1(t))*cos(phi_2(t)) - L_1*\\dot{\\delta}_1(t)**2*sin(alpha + delta_1(t))*cos(phi_2(t)) - L_1*\\dot{\\delta}_2(t)**2*sin(alpha - delta_2(t) + phi_2(t)) - L_2*\\ddot{\\phi}_1(t)*sin(phi_1(t))*cos(phi_2(t)) - L_2*\\dot{\\phi}_1(t)**2*cos(phi_1(t))*cos(phi_2(t)) - L_2*\\dot{\\phi}_2(t)**2)/(L_1*cos(alpha - delta_2(t) + phi_2(t)))"
      ]
     },
     "metadata": {},
     "output_type": "display_data"
    },
    {
     "data": {
      "text/latex": [
       "$\\displaystyle \\frac{- L_{1} \\ddot{\\delta}_1{\\left(t \\right)} \\sin{\\left(\\alpha - \\delta_{2}{\\left(t \\right)} \\right)} \\cos{\\left(\\alpha + \\delta_{1}{\\left(t \\right)} \\right)} + L_{1} \\dot{\\delta}_1^{2}{\\left(t \\right)} \\sin{\\left(\\alpha + \\delta_{1}{\\left(t \\right)} \\right)} \\sin{\\left(\\alpha - \\delta_{2}{\\left(t \\right)} \\right)} + L_{1} \\dot{\\delta}_2^{2}{\\left(t \\right)} + L_{2} \\ddot{\\phi}_1{\\left(t \\right)} \\sin{\\left(\\alpha - \\delta_{2}{\\left(t \\right)} \\right)} \\sin{\\left(\\phi_{1}{\\left(t \\right)} \\right)} + L_{2} \\dot{\\phi}_1^{2}{\\left(t \\right)} \\sin{\\left(\\alpha - \\delta_{2}{\\left(t \\right)} \\right)} \\cos{\\left(\\phi_{1}{\\left(t \\right)} \\right)} + L_{2} \\dot{\\phi}_2^{2}{\\left(t \\right)} \\sin{\\left(\\alpha - \\delta_{2}{\\left(t \\right)} + \\phi_{2}{\\left(t \\right)} \\right)}}{L_{2} \\cos{\\left(\\alpha - \\delta_{2}{\\left(t \\right)} + \\phi_{2}{\\left(t \\right)} \\right)}}$"
      ],
      "text/plain": [
       "(-L_1*\\ddot{\\delta}_1(t)*sin(alpha - delta_2(t))*cos(alpha + delta_1(t)) + L_1*\\dot{\\delta}_1(t)**2*sin(alpha + delta_1(t))*sin(alpha - delta_2(t)) + L_1*\\dot{\\delta}_2(t)**2 + L_2*\\ddot{\\phi}_1(t)*sin(alpha - delta_2(t))*sin(phi_1(t)) + L_2*\\dot{\\phi}_1(t)**2*sin(alpha - delta_2(t))*cos(phi_1(t)) + L_2*\\dot{\\phi}_2(t)**2*sin(alpha - delta_2(t) + phi_2(t)))/(L_2*cos(alpha - delta_2(t) + phi_2(t)))"
      ]
     },
     "metadata": {},
     "output_type": "display_data"
    }
   ],
   "source": [
    "CEq_dd = diff(Const_Eq,t,2)\n",
    "\n",
    "CEq_dd = CEq_dd.subs([    (diff(x,t,2), xdd)\\\n",
    "                        ,(diff(y,t,2), ydd)\\\n",
    "                        ,(diff(z,t,2), zdd)\\\n",
    "                        ,(diff(w,t,2), wdd)\\\n",
    "                        ,(diff(x,t,1), xd)\\\n",
    "                        ,(diff(y,t,1), yd)\\\n",
    "                        ,(diff(z,t,1), zd)\\\n",
    "                        ,(diff(w,t,1), wd)    ])\n",
    "\n",
    "\n",
    "Mat = solve([CEq_dd[1], CEq_dd[2]],[zdd,wdd])\n",
    "\n",
    "Ydd_val = Matrix(solve(CEq_dd[0],ydd))[0]\n",
    "Zdd_val = Mat[zdd]\n",
    "Wdd_val = Mat[wdd]\n",
    "\n",
    "Ydd_val = simplify(Ydd_val)\n",
    "Zdd_val = simplify(Zdd_val)\n",
    "Wdd_val = simplify(Wdd_val)\n",
    "\n",
    "display(Ydd_val)\n",
    "display(Zdd_val)\n",
    "display(Wdd_val)"
   ]
  },
  {
   "cell_type": "code",
   "execution_count": 51,
   "metadata": {},
   "outputs": [
    {
     "data": {
      "text/latex": [
       "$\\displaystyle \\left[\\begin{matrix}- \\alpha + \\operatorname{asin}{\\left(\\frac{\\frac{D}{2} - L_{2} \\cos{\\left(\\phi_{1}{\\left(t \\right)} \\right)} - \\frac{L_{3}}{2} + \\Delta{r}}{L_{1}} \\right)}\\\\\\frac{L_{2} \\dot{\\phi}_1{\\left(t \\right)} \\sin{\\left(\\phi_{1}{\\left(t \\right)} \\right)} + \\dot{r}}{L_{1} \\cos{\\left(\\alpha + \\delta_{1}{\\left(t \\right)} \\right)}}\\\\\\frac{L_{1} \\dot{\\delta}_1^{2}{\\left(t \\right)} \\sin{\\left(\\alpha + \\delta_{1}{\\left(t \\right)} \\right)} + L_{2} \\ddot{\\phi}_1{\\left(t \\right)} \\sin{\\left(\\phi_{1}{\\left(t \\right)} \\right)} + L_{2} \\dot{\\phi}_1^{2}{\\left(t \\right)} \\cos{\\left(\\phi_{1}{\\left(t \\right)} \\right)} + \\ddot{r}}{L_{1} \\cos{\\left(\\alpha + \\delta_{1}{\\left(t \\right)} \\right)}}\\end{matrix}\\right]$"
      ],
      "text/plain": [
       "Matrix([\n",
       "[                                                                                                       -alpha + asin((D/2 - L_2*cos(phi_1(t)) - L_3/2 + \\Delta{r})/L_1)],\n",
       "[                                                                                            (L_2*\\dot{\\phi}_1(t)*sin(phi_1(t)) + \\dot{r})/(L_1*cos(alpha + delta_1(t)))],\n",
       "[(L_1*\\dot{\\delta}_1(t)**2*sin(alpha + delta_1(t)) + L_2*\\ddot{\\phi}_1(t)*sin(phi_1(t)) + L_2*\\dot{\\phi}_1(t)**2*cos(phi_1(t)) + \\ddot{r})/(L_1*cos(alpha + delta_1(t)))]])"
      ]
     },
     "metadata": {},
     "output_type": "display_data"
    },
    {
     "data": {
      "text/latex": [
       "$\\displaystyle \\left[\\begin{matrix}- \\alpha + \\operatorname{asin}{\\left(\\frac{\\frac{D}{2} - L_{2} \\cos{\\left(\\phi_{1}{\\left(t \\right)} \\right)} - \\frac{L_{3}}{2} + \\Delta{r}}{L_{1}} \\right)}\\\\\\frac{L_{2} \\dot{\\phi}_1{\\left(t \\right)} \\sin{\\left(\\phi_{1}{\\left(t \\right)} \\right)} + \\dot{r}}{L_{1} \\cos{\\left(\\alpha + \\delta_{1}{\\left(t \\right)} \\right)}}\\\\\\frac{L_{1} \\dot{\\delta}_1^{2}{\\left(t \\right)} \\sin{\\left(\\alpha + \\delta_{1}{\\left(t \\right)} \\right)} + L_{2} \\ddot{\\phi}_1{\\left(t \\right)} \\sin{\\left(\\phi_{1}{\\left(t \\right)} \\right)} + L_{2} \\dot{\\phi}_1^{2}{\\left(t \\right)} \\cos{\\left(\\phi_{1}{\\left(t \\right)} \\right)} + \\ddot{r}}{L_{1} \\cos{\\left(\\alpha + \\delta_{1}{\\left(t \\right)} \\right)}}\\end{matrix}\\right]$"
      ],
      "text/plain": [
       "Matrix([\n",
       "[                                                                                                       -alpha + asin((D/2 - L_2*cos(phi_1(t)) - L_3/2 + \\Delta{r})/L_1)],\n",
       "[                                                                                            (L_2*\\dot{\\phi}_1(t)*sin(phi_1(t)) + \\dot{r})/(L_1*cos(alpha + delta_1(t)))],\n",
       "[(L_1*\\dot{\\delta}_1(t)**2*sin(alpha + delta_1(t)) + L_2*\\ddot{\\phi}_1(t)*sin(phi_1(t)) + L_2*\\dot{\\phi}_1(t)**2*cos(phi_1(t)) + \\ddot{r})/(L_1*cos(alpha + delta_1(t)))]])"
      ]
     },
     "metadata": {},
     "output_type": "display_data"
    }
   ],
   "source": [
    "# calculate x xd xdd from dx dxd dxdd\n",
    "dr = Symbol('\\Delta{r}')\n",
    "drd = Symbol('\\dot{r}')\n",
    "drdd = Symbol('\\ddot{r}')\n",
    "\n",
    "dr2x_val = zeros(3,1)\n",
    "\n",
    "Delta_eq0 = -r_Gr[1]-dr-D/2\n",
    "Mat = Matrix(solve(Delta_eq0,x))\n",
    "dr2x_val[0] = Mat[0]\n",
    "\n",
    "Delta_eq1 = diff(Delta_eq0,t,1).subs([(diff(x,t,1), xd),(diff(y,t,1), yd)]) - drd\n",
    "Mat = Matrix(solve(Delta_eq1,xd))\n",
    "dr2x_val[1] = Mat[0]\n",
    "\n",
    "Delta_eq2 = diff(Delta_eq0,t,2).subs([(diff(x,t,2), xdd),(diff(y,t,2), ydd),(diff(x,t,1), xd),(diff(y,t,1), yd)]) - drdd\n",
    "Mat = Matrix(solve(Delta_eq2,xdd))\n",
    "dr2x_val[2] = Mat[0]\n",
    "\n",
    "display(dr2x_val)"
   ]
  },
  {
   "cell_type": "code",
   "execution_count": 52,
   "metadata": {},
   "outputs": [
    {
     "data": {
      "text/latex": [
       "$\\displaystyle \\left[\\begin{matrix}- \\frac{D}{2} + L_{1} \\sin{\\left(\\alpha + \\delta_{1}{\\left(t \\right)} \\right)} + L_{2} \\cos{\\left(\\phi_{1}{\\left(t \\right)} \\right)} + \\frac{L_{3}}{2}\\\\L_{1} \\dot{\\delta}_1{\\left(t \\right)} \\cos{\\left(\\alpha + \\delta_{1}{\\left(t \\right)} \\right)} - L_{2} \\dot{\\phi}_1{\\left(t \\right)} \\sin{\\left(\\phi_{1}{\\left(t \\right)} \\right)}\\\\L_{1} \\ddot{\\delta}_1{\\left(t \\right)} \\cos{\\left(\\alpha + \\delta_{1}{\\left(t \\right)} \\right)} - L_{1} \\dot{\\delta}_1^{2}{\\left(t \\right)} \\sin{\\left(\\alpha + \\delta_{1}{\\left(t \\right)} \\right)} - L_{2} \\ddot{\\phi}_1{\\left(t \\right)} \\sin{\\left(\\phi_{1}{\\left(t \\right)} \\right)} - L_{2} \\dot{\\phi}_1^{2}{\\left(t \\right)} \\cos{\\left(\\phi_{1}{\\left(t \\right)} \\right)}\\end{matrix}\\right]$"
      ],
      "text/plain": [
       "Matrix([\n",
       "[                                                                                                               -D/2 + L_1*sin(alpha + delta_1(t)) + L_2*cos(phi_1(t)) + L_3/2],\n",
       "[                                                                                            L_1*\\dot{\\delta}_1(t)*cos(alpha + delta_1(t)) - L_2*\\dot{\\phi}_1(t)*sin(phi_1(t))],\n",
       "[L_1*\\ddot{\\delta}_1(t)*cos(alpha + delta_1(t)) - L_1*\\dot{\\delta}_1(t)**2*sin(alpha + delta_1(t)) - L_2*\\ddot{\\phi}_1(t)*sin(phi_1(t)) - L_2*\\dot{\\phi}_1(t)**2*cos(phi_1(t))]])"
      ]
     },
     "metadata": {},
     "output_type": "display_data"
    },
    {
     "data": {
      "text/latex": [
       "$\\displaystyle \\left[\\begin{matrix}- \\frac{D}{2} + L_{1} \\sin{\\left(\\alpha + \\delta_{1}{\\left(t \\right)} \\right)} + L_{2} \\cos{\\left(\\phi_{1}{\\left(t \\right)} \\right)} + \\frac{L_{3}}{2}\\\\L_{1} \\dot{\\delta}_1{\\left(t \\right)} \\cos{\\left(\\alpha + \\delta_{1}{\\left(t \\right)} \\right)} - L_{2} \\dot{\\phi}_1{\\left(t \\right)} \\sin{\\left(\\phi_{1}{\\left(t \\right)} \\right)}\\\\L_{1} \\ddot{\\delta}_1{\\left(t \\right)} \\cos{\\left(\\alpha + \\delta_{1}{\\left(t \\right)} \\right)} - L_{1} \\dot{\\delta}_1^{2}{\\left(t \\right)} \\sin{\\left(\\alpha + \\delta_{1}{\\left(t \\right)} \\right)} - L_{2} \\ddot{\\phi}_1{\\left(t \\right)} \\sin{\\left(\\phi_{1}{\\left(t \\right)} \\right)} - L_{2} \\dot{\\phi}_1^{2}{\\left(t \\right)} \\cos{\\left(\\phi_{1}{\\left(t \\right)} \\right)}\\end{matrix}\\right]$"
      ],
      "text/plain": [
       "Matrix([\n",
       "[                                                                                                               -D/2 + L_1*sin(alpha + delta_1(t)) + L_2*cos(phi_1(t)) + L_3/2],\n",
       "[                                                                                            L_1*\\dot{\\delta}_1(t)*cos(alpha + delta_1(t)) - L_2*\\dot{\\phi}_1(t)*sin(phi_1(t))],\n",
       "[L_1*\\ddot{\\delta}_1(t)*cos(alpha + delta_1(t)) - L_1*\\dot{\\delta}_1(t)**2*sin(alpha + delta_1(t)) - L_2*\\ddot{\\phi}_1(t)*sin(phi_1(t)) - L_2*\\dot{\\phi}_1(t)**2*cos(phi_1(t))]])"
      ]
     },
     "metadata": {},
     "output_type": "display_data"
    }
   ],
   "source": [
    "x2dr_val = zeros(3,1)\n",
    "\n",
    "x2dr_val[0] = -r_Gr[1] - D/2\n",
    "x2dr_val[1] = diff(x2dr_val[0],t,1).subs([(diff(x,t,1), xd),(diff(y,t,1), yd)])\n",
    "x2dr_val[2] = diff(x2dr_val[0],t,2).subs([(diff(x,t,2), xdd),(diff(y,t,2), ydd),(diff(x,t,1), xd),(diff(y,t,1), yd)])\n",
    "\n",
    "display(x2dr_val)"
   ]
  },
  {
   "cell_type": "code",
   "execution_count": 50,
   "metadata": {},
   "outputs": [
    {
     "name": "stdout",
     "output_type": "stream",
     "text": [
      "- \\alpha + \\operatorname{asin}{\\left(\\frac{\\frac{D}{2} - L_{2} \\cos{\\left(\\phi_{1}{\\left(t \\right)} \\right)} - \\frac{L_{3}}{2} + \\Delta{r}}{L_{1}} \\right)}\n",
      "\\frac{L_{2} \\dot{\\phi}_1{\\left(t \\right)} \\sin{\\left(\\phi_{1}{\\left(t \\right)} \\right)} + \\dot{r}}{L_{1} \\cos{\\left(\\alpha + \\delta_{1}{\\left(t \\right)} \\right)}}\n",
      "\\frac{L_{1} \\dot{\\delta}_1^{2}{\\left(t \\right)} \\sin{\\left(\\alpha + \\delta_{1}{\\left(t \\right)} \\right)} + L_{2} \\ddot{\\phi}_1{\\left(t \\right)} \\sin{\\left(\\phi_{1}{\\left(t \\right)} \\right)} + L_{2} \\dot{\\phi}_1^{2}{\\left(t \\right)} \\cos{\\left(\\phi_{1}{\\left(t \\right)} \\right)} + \\ddot{r}}{L_{1} \\cos{\\left(\\alpha + \\delta_{1}{\\left(t \\right)} \\right)}}\n",
      "- \\frac{D}{2} + L_{1} \\sin{\\left(\\alpha + \\delta_{1}{\\left(t \\right)} \\right)} + L_{2} \\cos{\\left(\\phi_{1}{\\left(t \\right)} \\right)} + \\frac{L_{3}}{2}\n",
      "L_{1} \\dot{\\delta}_1{\\left(t \\right)} \\cos{\\left(\\alpha + \\delta_{1}{\\left(t \\right)} \\right)} - L_{2} \\dot{\\phi}_1{\\left(t \\right)} \\sin{\\left(\\phi_{1}{\\left(t \\right)} \\right)}\n",
      "L_{1} \\ddot{\\delta}_1{\\left(t \\right)} \\cos{\\left(\\alpha + \\delta_{1}{\\left(t \\right)} \\right)} - L_{1} \\dot{\\delta}_1^{2}{\\left(t \\right)} \\sin{\\left(\\alpha + \\delta_{1}{\\left(t \\right)} \\right)} - L_{2} \\ddot{\\phi}_1{\\left(t \\right)} \\sin{\\left(\\phi_{1}{\\left(t \\right)} \\right)} - L_{2} \\dot{\\phi}_1^{2}{\\left(t \\right)} \\cos{\\left(\\phi_{1}{\\left(t \\right)} \\right)}\n"
     ]
    }
   ],
   "source": [
    "print_latex( dr2x_val[0] )\n",
    "print_latex( dr2x_val[1] )\n",
    "print_latex( dr2x_val[2] )\n",
    "\n",
    "print_latex( x2dr_val[0] )\n",
    "print_latex( x2dr_val[1] )\n",
    "print_latex( x2dr_val[2] )"
   ]
  },
  {
   "cell_type": "code",
   "execution_count": 38,
   "metadata": {},
   "outputs": [],
   "source": [
    "\n",
    "\n",
    "# Eq_F = simplify(Eq_F[0].subs(INIT))\n",
    "# Eq_X = simplify(Eq_X[0].subs(INIT))\n",
    "\n",
    "# Y_val = simplify(Y_val.subs(INIT))\n",
    "# Z_val = simplify(Z_val.subs(INIT))\n",
    "# W_val = simplify(W_val.subs(INIT))\n",
    "# Yd_val = simplify(Yd_val.subs(INIT))\n",
    "# Zd_val = simplify(Zd_val.subs(INIT))\n",
    "# Wd_val = simplify(Wd_val.subs(INIT))\n",
    "# Ydd_val = simplify(Ydd_val.subs(INIT))\n",
    "# Zdd_val = simplify(Zdd_val.subs(INIT))\n",
    "# Wdd_val = simplify(Wdd_val.subs(INIT))\n",
    "\n",
    "# dr2x_val = simplify(dr2x_val.subs(INIT))\n",
    "# x2dr_val = simplify(x2dr_val.subs(INIT))\n",
    "\n",
    "\n",
    "# Eq_F = (Eq_F.subs(INIT))\n",
    "# Eq_X = (Eq_X.subs(INIT))\n",
    "\n",
    "# Y_val = (Y_val.subs(INIT))\n",
    "# Z_val = (Z_val.subs(INIT))\n",
    "# W_val = (W_val.subs(INIT))\n",
    "# Yd_val = (Yd_val.subs(INIT))\n",
    "# Zd_val = (Zd_val.subs(INIT))\n",
    "# Wd_val = (Wd_val.subs(INIT))\n",
    "# Ydd_val = (Ydd_val.subs(INIT))\n",
    "# Zdd_val = (Zdd_val.subs(INIT))\n",
    "# Wdd_val = (Wdd_val.subs(INIT))\n",
    "\n",
    "# dr2x_val = (dr2x_val.subs(INIT))\n",
    "# x2dr_val = (x2dr_val.subs(INIT))\n"
   ]
  },
  {
   "cell_type": "code",
   "execution_count": 39,
   "metadata": {},
   "outputs": [],
   "source": [
    "MAP = { dr: Symbol('dr'),drd: Symbol('drd'),drdd: Symbol('drdd'),\\\n",
    "        x: Symbol('x'),    y: Symbol('y'),    z: Symbol('z'),    w: Symbol('w'), \\\n",
    "       xd: Symbol('xd'),  yd: Symbol('yd'),  zd: Symbol('zdd'), wd: Symbol('wd'), \\\n",
    "      xdd: Symbol('xdd'),ydd: Symbol('ydd'),zdd: Symbol('zdd'),wdd: Symbol('wdd')}\n",
    "\n",
    "dr = Symbol('\\Delta{r}')\n",
    "drd = Symbol('\\dot{r}')\n",
    "drdd = Symbol('\\ddot{r}')\n",
    "x = Function(\"delta_1\")(t) \n",
    "y = Function(\"phi_1\")(t)\n",
    "z = Function(\"delta_2\")(t) \n",
    "w = Function(\"phi_2\")(t)\n",
    "xd = Function(\"\\dot{\\\\delta}_1\")(t)\n",
    "yd = Function(\"\\dot{\\\\phi}_1\")(t)\n",
    "zd = Function(\"\\dot{\\\\delta}_2\")(t)\n",
    "wd = Function(\"\\dot{\\\\phi}_2\")(t)\n",
    "xdd = Function(\"\\ddot{\\\\delta}_1\")(t)\n",
    "ydd = Function(\"\\ddot{\\\\phi}_1\")(t)\n",
    "zdd = Function(\"\\ddot{\\\\delta}_2\")(t)\n",
    "wdd = Function(\"\\ddot{\\\\phi}_2\")(t)\n",
    "\n",
    "dr = MAP[dr]\n",
    "drd = MAP[drd]\n",
    "drdd = MAP[drdd]\n",
    "x = MAP[x]\n",
    "y = MAP[y]\n",
    "z = MAP[z]\n",
    "w = MAP[w]\n",
    "xd = MAP[xd]\n",
    "yd = MAP[yd]\n",
    "zd = MAP[zd]\n",
    "wd = MAP[wd]\n",
    "xdd = MAP[xdd]\n",
    "ydd = MAP[ydd]\n",
    "zdd = MAP[zdd]\n",
    "wdd = MAP[wdd]\n",
    "\n",
    "\n",
    "\n",
    "F   = lambdify([x, y, z, w], Eq_F.xreplace(MAP), \"numpy\")\n",
    "Xdd = lambdify([x, y, z, w], Eq_X.xreplace(MAP), \"numpy\")\n",
    "\n",
    "Y = lambdify( x, Y_val.xreplace(MAP), \"numpy\")\n",
    "Z = lambdify([x,y,w], Z_val.xreplace(MAP), \"numpy\")\n",
    "W = lambdify([x,y], W_val.xreplace(MAP), \"numpy\")\n",
    "\n",
    "Yd = lambdify([x,xd,y], Yd_val.xreplace(MAP), \"numpy\")\n",
    "Zd = lambdify([x,xd,y,yd,z,w], Zd_val.xreplace(MAP), \"numpy\")\n",
    "Wd = lambdify([x,xd,y,yd,z,w], Wd_val.xreplace(MAP), \"numpy\")\n",
    "\n",
    "Ydd = lambdify([x,xd,xdd,y,yd], Ydd_val.xreplace(MAP), \"numpy\")\n",
    "Zdd = lambdify([x,xd,xdd,y,yd,ydd,z,zd,w,wd], Zdd_val.xreplace(MAP), \"numpy\")\n",
    "Wdd = lambdify([x,xd,xdd,y,yd,ydd,z,zd,w,wd], Wdd_val.xreplace(MAP), \"numpy\")\n",
    "\n",
    "dr2x_0 = lambdify([dr,y], dr2x_val[0].xreplace(MAP), \"numpy\")\n",
    "dr2x_1 = lambdify([drd,x,y,yd], dr2x_val[1].xreplace(MAP), \"numpy\")\n",
    "dr2x_2 = lambdify([drdd,x,xd,y,yd,ydd], dr2x_val[2].xreplace(MAP), \"numpy\")\n",
    "\n",
    "x2dr = lambdify([x,xd,xdd,y,yd,ydd], x2dr_val.xreplace(MAP), \"numpy\")"
   ]
  },
  {
   "cell_type": "code",
   "execution_count": 40,
   "metadata": {},
   "outputs": [],
   "source": [
    "import inspect\n",
    "\n",
    "\n",
    "STR = \"from numpy import array,sin,cos,tan,arcsin,arccos,arctan,sqrt,pi\"+'\\n\\n\\n'\\\n",
    "      +\"alpha=17.5*pi/180\\nL_1=0.14\\nL_2=0.5\\nL_3=0.5246808715635702\\nd=0.2\\nD=1.6\\n\" \\\n",
    "      +\"m_2=1.12\\nm_r=1.17\\nI_1=0.7761601605732\\nI_2=0.024676 \\n\\n\\n\"\\\n",
    "      +inspect.getsource(F)+'\\n\\n\\n'\\\n",
    "      +inspect.getsource(Xdd)+'\\n\\n\\n'\\\n",
    "      +inspect.getsource(Y)+'\\n\\n\\n'\\\n",
    "      +inspect.getsource(Z)+'\\n\\n\\n'\\\n",
    "      +inspect.getsource(W)+'\\n\\n\\n'\\\n",
    "      +inspect.getsource(Yd)+'\\n\\n\\n'\\\n",
    "      +inspect.getsource(Zd)+'\\n\\n\\n'\\\n",
    "      +inspect.getsource(Wd)+'\\n\\n\\n'\\\n",
    "      +inspect.getsource(Ydd)+'\\n\\n\\n'\\\n",
    "      +inspect.getsource(Zdd)+'\\n\\n\\n'\\\n",
    "      +inspect.getsource(Wdd)+'\\n\\n\\n'\\\n",
    "      +inspect.getsource(dr2x_0)+'\\n\\n\\n'\\\n",
    "      +inspect.getsource(dr2x_1)+'\\n\\n\\n'\\\n",
    "      +inspect.getsource(dr2x_2)+'\\n\\n\\n'\\\n",
    "      +inspect.getsource(x2dr)+'\\n\\n\\n'\n",
    "\n",
    "names = ['F','Xdd','Y','Z','W','Yd','Zd','Wd','Ydd','Zdd','Wdd','dr_to_x_0','dr_to_x_1','dr_to_x_2','x_to_dr']\n",
    "for i in range(len(names)):\n",
    "    STR = STR.replace('_lambdifygenerated',names[i],1)\n",
    "\n",
    "text_file = open(\"Output_functions.py\", \"w\")\n",
    "text_file.write(STR)\n",
    "text_file.close()"
   ]
  },
  {
   "cell_type": "code",
   "execution_count": null,
   "metadata": {},
   "outputs": [],
   "source": []
  }
 ],
 "metadata": {
  "kernelspec": {
   "display_name": "Python 3",
   "language": "python",
   "name": "python3"
  },
  "language_info": {
   "codemirror_mode": {
    "name": "ipython",
    "version": 3
   },
   "file_extension": ".py",
   "mimetype": "text/x-python",
   "name": "python",
   "nbconvert_exporter": "python",
   "pygments_lexer": "ipython3",
   "version": "3.7.1"
  }
 },
 "nbformat": 4,
 "nbformat_minor": 4
}
